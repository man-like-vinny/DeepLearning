{
  "cells": [
    {
      "cell_type": "markdown",
      "metadata": {
        "id": "view-in-github",
        "colab_type": "text"
      },
      "source": [
        "<a href=\"https://colab.research.google.com/github/man-like-vinny/DeepLearning/blob/main/CNN_Introduction.ipynb\" target=\"_parent\"><img src=\"https://colab.research.google.com/assets/colab-badge.svg\" alt=\"Open In Colab\"/></a>"
      ]
    },
    {
      "cell_type": "markdown",
      "metadata": {
        "id": "5uoxdNjkDw2K"
      },
      "source": [
        "# Introduction to Convolutional Neural Networks\n",
        "\n",
        "This tutorial addresses the basic concepts regarding Convolutional Neural Networks and their implementation using the Keras framework.\n",
        "Convolutional Neural Networks (CNNs) are a class of feed-forward artificial neural architecture. They are applied to analyse visual 2D imagery, meaning that we can feed images directly into a CNN without the need to flatten them into a 1D vector as done in the previous tutorial.\n",
        "CNNs have revolutionised the field of computer vision in the last decade. In 2012 Alex Krizhevsky introduced the AlexNet architecture to win the ImageNet Challenge (one of the most important competitions on image classification within the Computer Vision community), by reducing the top-5 error more than 10 percentage points, which was an incredible improvement at that time. As of now, CNNs are used not only on image classification but in many other computer vision tasks.\n",
        "\n",
        "![](https://cdn-5f733ed3c1ac190fbc56ef88.closte.com/wp-content/uploads/2017/03/alexnet_small-1.png)\n",
        "\n",
        "The image above is from [cv-tricks' blog](https://cv-tricks.com/cnn/understand-resnet-alexnet-vgg-inception/) and shows the proposed AlexNet architecture. It is composed of 5 convolutional layers followed by 3 fully connected layers. Nowadays, we can find much deeper and more complex architectures, which outperform AlexNet on the ImageNet Challenge. \n",
        "\n",
        "\n",
        "\n",
        "\n",
        "\n"
      ]
    },
    {
      "cell_type": "markdown",
      "metadata": {
        "id": "dJ2d_oQ2UEPz"
      },
      "source": [
        "## CNN Structure\n",
        "\n",
        "The basic pipeline of common CNNs consists of an image as input and a stack of convolutional layers that extract a feature representation from the input image. The final shape of the image representation is conditioned on the type of problem/task that the architecture is facing. For instance, the output of the last layer in a classification problem is a probability vector. Each dimension of the probability vector represents how likely is that the input image belongs to a specific class. However, the architecture design is up to us, and therefore, we could code a network that outputs a single value for regression problems, or that generates a new image map for semantic segmentation. Now, let's dig in a bit into CNN and introduce some layers that are widely used. "
      ]
    },
    {
      "cell_type": "markdown",
      "metadata": {
        "id": "wvNKve9GZL4M"
      },
      "source": [
        "### 2D Convolutional Layer\n",
        "\n",
        "The most common layer in any CNN architecture is the 2D convolutional layer. Convolutional layers are specifically designed to extract features from images or even extract features from previously extracted features. As shown in the following illustration, 2D convolutions apply the same filter to the full image. And therefore, due to its nature, 2D convolutional filters exploit the local information presented in images, making them a powerful tool for image analysis. \n",
        "\n",
        "![](https://cdn-images-1.medium.com/max/800/1*Fw-ehcNBR9byHtho-Rxbtw.gif)\n",
        "\n",
        "Image [source](https://towardsdatascience.com/intuitively-understanding-convolutions-for-deep-learning-1f6f42faee1).\n",
        "\n",
        "The latest deep learning frameworks have made possible the integration of convolutional layers easily on our architectures with only a single line of code. We will address here how 2D convolutions work since full understanding is needed to comprehend how any CNN operates. The following images and some explanations can be further explored on the original [Irhum Shafkat's blog](https://towardsdatascience.com/intuitively-understanding-convolutions-for-deep-learning-1f6f42faee1) or in the [Neural Networks and Deep Learning](http://neuralnetworksanddeeplearning.com/) book. Both are strongly recommended.\n",
        "\n",
        "To understand 2D convolutions, we need to define first what a kernel is. Kernels are simply matrices of numbers. The numbers on the kernels are the so-called weights, and the weights on the kernels change as we train the network. Hence, network training aims to optimise the network's parameters (update the kernel weights) such that the cost function is minimised. \n",
        "\n",
        "The 2D convolution operation takes the network's kernels and \"slides\" them over the input image (alike to a sliding window) as in the following image from [PyImageSearch](https://www.pyimagesearch.com/2015/03/23/sliding-windows-for-object-detection-with-python-and-opencv/) blog:\n",
        "\n",
        "![](https://pyimagesearch.com/wp-content/uploads/2014/10/sliding_window_example.gif)\n",
        "\n",
        "In each step, the network performs an element-wise multiplication with the elements that are currently on. The results of this elementwise multiplication are added to obtain the output value of the operation. CNNs repeat previous step for all the positions of the sliding window, composing at the end the feature map. This generated feature map can go through another 2D convolutional layer and create more powerful features. \n",
        "\n",
        "> \n",
        "\n",
        "![](https://cdn-images-1.medium.com/max/800/1*Zx-ZMLKab7VOCQTxdZ1OAw.gif)\n",
        "\n",
        "> \n",
        "The previous image shows the 2D convolution operation. Thus, the new feature values are the weighted sum of all the elements in the sliding window after the elementwise multiplication between input and kernel.  The bigger the size of the kernel is, the more feature elements contribute to the final output value. In contrast to fully connected layers, where a new feature value is a weighted sum over **all** input values, as mentioned, 2D convolutions compute features based on local areas. In other words, instead of looking at every input component, they consider only features coming from close locations. \n",
        "\n",
        "In the above example, the input image on the left has a size of 5x5 and the dimension of the resulting feature map is 3x3, showing that the size of the output maps is not always equal to the input. Hence, the output size can be computed by doing:\n",
        "\n",
        "$O = W - K + 1$,\n",
        "\n",
        "where $O$ is the output height/length, $W$ is the input height/length and $K$ is the kernel size. The output size is not only conditioned on the input size but also on the kernel size. Check in the following code cell how the output feature map shape changes as you increase the kernel size. In Keras, we define the layer by using `Conv2D` from `keras.layers` (documentation [here](https://keras.io/layers/convolutional/#conv2d)).\n",
        "\n",
        "\n",
        "\n",
        "\n",
        "\n",
        "\n",
        "\n"
      ]
    },
    {
      "cell_type": "code",
      "execution_count": null,
      "metadata": {
        "colab": {
          "base_uri": "https://localhost:8080/"
        },
        "id": "ez90vQEksR9b",
        "outputId": "e130cb38-c036-4dd9-a19d-8d62f998e6fb"
      },
      "outputs": [
        {
          "output_type": "stream",
          "name": "stdout",
          "text": [
            "Looking in indexes: https://pypi.org/simple, https://us-python.pkg.dev/colab-wheels/public/simple/\n",
            "Collecting visualkeras\n",
            "  Downloading visualkeras-0.0.2-py3-none-any.whl (12 kB)\n",
            "Requirement already satisfied: pillow>=6.2.0 in /usr/local/lib/python3.8/dist-packages (from visualkeras) (7.1.2)\n",
            "Collecting aggdraw>=1.3.11\n",
            "  Downloading aggdraw-1.3.15-cp38-cp38-manylinux_2_17_x86_64.manylinux2014_x86_64.whl (992 kB)\n",
            "\u001b[2K     \u001b[90m━━━━━━━━━━━━━━━━━━━━━━━━━━━━━━━━━━━━━━\u001b[0m \u001b[32m992.2/992.2 KB\u001b[0m \u001b[31m26.7 MB/s\u001b[0m eta \u001b[36m0:00:00\u001b[0m\n",
            "\u001b[?25hRequirement already satisfied: numpy>=1.18.1 in /usr/local/lib/python3.8/dist-packages (from visualkeras) (1.21.6)\n",
            "Installing collected packages: aggdraw, visualkeras\n",
            "Successfully installed aggdraw-1.3.15 visualkeras-0.0.2\n",
            "1/1 [==============================] - 10s 10s/step\n",
            "Input size: (100, 100)\n",
            "Output size: (98, 98)\n"
          ]
        }
      ],
      "source": [
        "!pip install visualkeras\n",
        "\n",
        "import numpy as np\n",
        "import keras\n",
        "import tensorflow as tf\n",
        "from keras.models import Sequential\n",
        "from keras.layers import Conv2D\n",
        "import visualkeras\n",
        "\n",
        "# Generate dummy data\n",
        "input_feature = np.random.random((1, 100, 100, 1))\n",
        "\n",
        "# input: 100x100 image with 1 channels -> (100, 100, 1) tensor.\n",
        "# this applies 1 convolution filter of size 3x3 each.\n",
        "model = Sequential()\n",
        "model.add(Conv2D(1, (3, 3), input_shape=(100, 100, 1))) #(3,3) is the kernal size\n",
        "\n",
        "output_feature = model.predict(input_feature)\n",
        "\n",
        "print('Input size: ({:}, {:})'.format(input_feature.shape[1], input_feature.shape[2]))\n",
        "print('Output size: ({:}, {:})'.format(output_feature.shape[1], output_feature.shape[2]))"
      ]
    },
    {
      "cell_type": "markdown",
      "metadata": {
        "id": "mNOhth4FuNob"
      },
      "source": [
        "Moreover, the kernel size and the input size are not the only parameters affecting the output size. We are going to introduce two extra elements that change the size of the output map: the padding and the stride."
      ]
    },
    {
      "cell_type": "markdown",
      "metadata": {
        "id": "mT6f_n5QiU8X"
      },
      "source": [
        "### Adding Padding to Input Features\n",
        "\n",
        "In some tasks, such as [image translation](https://arxiv.org/pdf/1611.07004.pdf), we need the output size to be equal to the input size. The solution to that is using padding, where extra edges are added to the input features so that the dimension is not reduced after the convolutional layer. Normally those pixels have $0$ value (termed zero-padding), but depending on the application other methods could be used, e.g., reflection or symmetric padding.\n",
        "\n",
        "![](https://cdn-images-1.medium.com/max/800/1*1okwhewf5KCtIPaFib4XaA.gif)\n",
        "\n",
        "If padding is used, the new output size can be computed by doing:\n",
        "\n",
        "$O = W - K + 2P+ 1$, \n",
        "\n",
        "where $P$ is the padding value. $P$ must be set in concordance with the kernel size if dimensionality wants to be preserved. Padding can be added to the `Conv2d` layer in Keras by using the padding argument and selecting one of the two settings: `valid`, which is the default value and means no padding; and `same`, which adapts the padding value to have the same output size as input size."
      ]
    },
    {
      "cell_type": "code",
      "execution_count": null,
      "metadata": {
        "colab": {
          "base_uri": "https://localhost:8080/"
        },
        "id": "X7Z5G2O00Etd",
        "outputId": "589a4a04-1582-4530-891d-ed74bd9d6c66"
      },
      "outputs": [
        {
          "name": "stdout",
          "output_type": "stream",
          "text": [
            "1/1 [==============================] - 0s 212ms/step\n",
            "Input size: (100, 100)\n",
            "Output size: (100, 100)\n"
          ]
        }
      ],
      "source": [
        "import numpy as np\n",
        "import keras\n",
        "import tensorflow as tf\n",
        "from keras.models import Sequential\n",
        "from keras.layers import Conv2D\n",
        "\n",
        "# Generate dummy data\n",
        "input_feature = np.random.random((1, 100, 100, 1))\n",
        "\n",
        "# input: 100x100 image with 1 channels -> (100, 100, 1) tensor.\n",
        "# this applies 1 convolution filter of size 3x3 each.\n",
        "# attribute padding='same' applies zero-padding to the input feature map\n",
        "model = Sequential()\n",
        "model.add(Conv2D(1, (3, 3), input_shape=(100, 100, 1), padding='same'))\n",
        "\n",
        "output_feature = model.predict(input_feature)\n",
        "\n",
        "print('Input size: ({:}, {:})'.format(input_feature.shape[1], input_feature.shape[2]))\n",
        "print('Output size: ({:}, {:})'.format(output_feature.shape[1], output_feature.shape[2]))"
      ]
    },
    {
      "cell_type": "markdown",
      "metadata": {
        "id": "tdB4jMeswXVA"
      },
      "source": [
        "### Using Stride in Convolutional Layers\n",
        "\n",
        "The stride operation allows the convolutional layers to skip some of the sliding windows explained above. Hence, instead of jumping one pixel apart, we can define the number of skipped elements before computing the weighting sum between the kernel's weights and input features. A stride of 1 means that features will be extracted from all windows a pixel apart, so basically, every single window is computed. A stride of 2 means that we are selecting windows 2 pixels apart, skipping every other window in the process. Strides reduce the number of computations and consequently the size of the output map. In practice, as we go deeper into the CNN, the spatial size of the feature map gets smaller while the number of channels increases. Moreover, we can further reduce the size of the feature map using pooling operations, which we introduce later in this tutorial.\n",
        "\n",
        "![](https://cdn-images-1.medium.com/max/800/1*BMngs93_rm2_BpJFH2mS0Q.gif)\n",
        "\n",
        "If strides are used, the new output size can be computed as:\n",
        "\n",
        "$O = \\dfrac{W - K + 2P}{S}+ 1$, \n",
        "\n",
        "where $S$ is the stride value. The stride is set in the layer by using the `strides` argument."
      ]
    },
    {
      "cell_type": "code",
      "execution_count": null,
      "metadata": {
        "colab": {
          "base_uri": "https://localhost:8080/"
        },
        "id": "Y8GjztiH0hnw",
        "outputId": "a717afca-2cf1-4041-a63c-286ad2fbba91"
      },
      "outputs": [
        {
          "name": "stdout",
          "output_type": "stream",
          "text": [
            "1/1 [==============================] - 0s 84ms/step\n",
            "Input size: (100, 100)\n",
            "Output size: (50, 50)\n"
          ]
        }
      ],
      "source": [
        "import numpy as np\n",
        "import keras\n",
        "import tensorflow as tf\n",
        "from keras.models import Sequential\n",
        "from keras.layers import Conv2D\n",
        "\n",
        "# Generate dummy data\n",
        "input_feature = np.random.random((1, 100, 100, 1))\n",
        "\n",
        "# input: 100x100 image with 1 channels -> (100, 100, 1) tensor.\n",
        "# this applies 1 convolution filter of size 3x3 each.\n",
        "# attribute padding='same' applies zero-padding to the input feature map\n",
        "# attribute strides=2 applies applies stride of 2\n",
        "model = Sequential()\n",
        "model.add(Conv2D(1, (3, 3), input_shape=(100, 100, 1), padding='same', strides=2))\n",
        "\n",
        "output_feature = model.predict(input_feature)\n",
        "\n",
        "print('Input size: ({:}, {:})'.format(input_feature.shape[1], input_feature.shape[2]))\n",
        "print('Output size: ({:}, {:})'.format(output_feature.shape[1], output_feature.shape[2]))"
      ]
    },
    {
      "cell_type": "markdown",
      "metadata": {
        "id": "f-fKvgJ3H2gr"
      },
      "source": [
        "## Differences Between Kernel and Filters\n",
        "\n",
        "The examples above take as input a single-channel image and compute a feature map with also one channel. However, when dealing with RGB images or feature maps, the input is no longer a single-channel map but, instead, they can have multiple channels. In the case of an RGB image, for each 2D convolution, we will need to define 3 kernels to interact with each of the image's channel colours. This group of kernels is called a filter. Thus, a filter is a collection of kernels that produces a single output.\n",
        "\n",
        "As a regular practice when defining Deep Learning models, we increase the number of filters in each convolutional layer as we go deeper into the model. Due to the element-wise multiplication, the number of kernels on each filter must be the same that the number of channels in the input feature map. Keras already deals with the number of kernels inside each filter. Keras keeps track of the input size in each convolutional layer unlike other frameworks (Pytorch or TensorFlow). Hence, in Keras, we must only decide the number of filters (output channels) in each layer.\n",
        "\n",
        "The next figure shows how the convolution is performed when having three input channels. First, one filter uses its three independent kernels to convolve with the RGB channels of the input image:\n",
        "\n",
        "![](https://cdn-images-1.medium.com/max/1000/1*8dx6nxpUh2JqvYWPadTwMQ.gif)\n",
        "\n",
        "Next, each of the processed feature maps is added together to obtain a single channel:\n",
        "\n",
        "![](https://cdn-images-1.medium.com/max/1000/1*CYB2dyR3EhFs1xNLK8ewiA.gif)\n",
        "\n",
        "Finally, we add the bias term to obtain the feature map. There is a single bias for the full output channel map. This operation is repeated for all the filters inside the convolutional layer.\n",
        "\n",
        "Now, we show how to use a `Conv2D` layer that takes an input image with 3 channels and generates an output map with 32 channels.\n"
      ]
    },
    {
      "cell_type": "code",
      "execution_count": null,
      "metadata": {
        "colab": {
          "base_uri": "https://localhost:8080/"
        },
        "id": "nqiEwpdROxga",
        "outputId": "58244048-4512-4bf5-d2ec-9e498254a37c"
      },
      "outputs": [
        {
          "name": "stdout",
          "output_type": "stream",
          "text": [
            "1/1 [==============================] - 0s 75ms/step\n",
            "Input size: (100, 100, 3)\n",
            "Output size: (50, 50, 32)\n"
          ]
        }
      ],
      "source": [
        "import numpy as np\n",
        "import keras\n",
        "import tensorflow as tf\n",
        "from keras.models import Sequential\n",
        "from keras.layers import Conv2D\n",
        "\n",
        "# Generate dummy data\n",
        "input_feature = np.random.random((1, 100, 100, 3))\n",
        "\n",
        "# input: 100x100 image with 3 channels -> (100, 100, 3) tensor.\n",
        "# this applies 32 convolution filters of size 3x3 each.\n",
        "# attribute padding='same' applies zero-padding to the input feature map\n",
        "# attribute strides=2 applies applies stride of 2\n",
        "model = Sequential()\n",
        "model.add(Conv2D(32, (3, 3), input_shape=(100, 100, 3), padding='same', strides=2))\n",
        "\n",
        "output_feature = model.predict(input_feature)\n",
        "\n",
        "print('Input size: ({:}, {:}, {:})'.format(input_feature.shape[1], input_feature.shape[2], input_feature.shape[3]))\n",
        "print('Output size: ({:}, {:}, {:})'.format(output_feature.shape[1], output_feature.shape[2], output_feature.shape[3]))"
      ]
    },
    {
      "cell_type": "markdown",
      "metadata": {
        "id": "S50cYwkhPqka"
      },
      "source": [
        "## Activation Functions\n",
        "\n",
        "As seen in previous tutorials, after a `Dense` layer we usually can find an activation function. We introduce here how to use them after `Conv2D` layers. Those activation functions are a set of operators that maps the feature values to a new set of values, the mapping depends on the function at hand. The main reason for using activation functions is that they add non-linearities to the network, giving more expressive power to the network, which will be able to reproduce more complex functions. \n",
        "\n",
        "\n",
        "The complete list of activation functions that Keras offers can be found [here](https://keras.io/activations/). We introduce here some of them:\n",
        "\n",
        "*  **Sigmoid Function** sets the output in the range (0, 1). The sigmoid function is widely used in binary classification problems since its output can be taken as a probability value. `keras.activations.sigmoid(x)`:\n",
        "\n",
        ">![](https://i.ibb.co/Ph8dsTv/sigmoid.png)\n",
        "\n",
        "*  **Tanh Function** is a logistic function as sigmoid, but the range of the tanh function is (-1, 1). Contrary to sigmoid function, where the values close to 0 are set around 0.5, in the tanh function they will be still mapped around the 0 value. `keras.activations.tanh(x)`:\n",
        "\n",
        ">![](https://i.ibb.co/68g7LpL/tanh.png)\n",
        "\n",
        "*  **ReLU Function** is the most common activation function you can find in any current CNN as in general works better than the rest. The range of this function is in \\[0, inf). It sets all negative values to 0 and hence is computationally easy to implement. As a drawback, during training some neurons *die*, meaning that the output is 0 for all available data points and no gradient is propagated there. `keras.activations.relu(x, alpha=0.0, max_value=None, threshold=0.0)`:\n",
        "\n",
        ">![](https://i.ibb.co/Zd9H8Z4/relu.png)\n",
        "\n",
        "*  **LeakyReLU Function** is a modified version of the ReLU activation above, which attempts to solve the problem of dying neurons that ReLU has. While ReLU does not backpropagate negative values, Leaky ReLU smooths those values without setting them to 0. That allows the gradients to backpropagate through the network even for negative values. `keras.layers.LeakyReLU(alpha=0.3)`:\n",
        "\n",
        ">![](https://i.ibb.co/dmnJ6h1/leakyrelu.png)\n",
        "\n",
        "*  **Softmax Function** is another widely activation function for multi-class classification problems and usually is employed as the last activation function in the classification model. This function sets all of the output elements to the range (0, 1). However, the softmax function does not take independently the input values to map it into its probability value. Softmax Function takes an un-normalized vector, $s$, and normalizes it into a probability distribution, $p$, following the softmax expression. As the output is a probability, the output elements add up to 1. `keras.activations.softmax(x, axis=-1)`. Thus, the output value $p_i$ is computed as:\n",
        "\n",
        "> $p_{i} = \\dfrac{e^{s_i}}{\\sum_{\\substack{j}}^{N} e^{s_j}}$"
      ]
    },
    {
      "cell_type": "markdown",
      "metadata": {
        "id": "-MWo2VsYr5T2"
      },
      "source": [
        "The following example shows the feature maps before and after of the ReLU activation function. All values that are negative are set to 0 after the activation function.\n",
        "\n",
        "\n"
      ]
    },
    {
      "cell_type": "code",
      "execution_count": null,
      "metadata": {
        "colab": {
          "base_uri": "https://localhost:8080/"
        },
        "id": "lp1HH0VOqN0N",
        "outputId": "c1b8739f-2ba1-43e2-9754-5c68db4a6320"
      },
      "outputs": [
        {
          "name": "stdout",
          "output_type": "stream",
          "text": [
            "1/1 [==============================] - 0s 78ms/step\n",
            "1/1 [==============================] - 0s 59ms/step\n",
            "Output Network without activation function\n",
            "[[[[-0.19946021]\n",
            "   [ 0.11018921]\n",
            "   [ 0.10753994]]\n",
            "\n",
            "  [[ 0.5610491 ]\n",
            "   [ 0.19037037]\n",
            "   [-0.03336101]]\n",
            "\n",
            "  [[-0.11978872]\n",
            "   [ 0.06918704]\n",
            "   [ 0.20211701]]]]\n",
            "\n",
            "Output Network after ReLU activation function\n",
            "[[[[0.        ]\n",
            "   [0.11018921]\n",
            "   [0.10753994]]\n",
            "\n",
            "  [[0.5610491 ]\n",
            "   [0.19037037]\n",
            "   [0.        ]]\n",
            "\n",
            "  [[0.        ]\n",
            "   [0.06918704]\n",
            "   [0.20211701]]]]\n"
          ]
        }
      ],
      "source": [
        "import numpy as np\n",
        "import keras\n",
        "import tensorflow as tf\n",
        "tf.compat.v1.logging.set_verbosity(tf.compat.v1.logging.ERROR)\n",
        "from keras.models import Sequential, Model\n",
        "from keras.layers import Conv2D, Activation\n",
        "\n",
        "# Generate dummy data\n",
        "input_feature = np.random.random((1, 3, 3, 1)) - 0.5\n",
        "\n",
        "# input: 3x3 image with 1 channel -> (3, 3, 1) tensor.\n",
        "# This applies a 1 convolution filter of size 3x3 each.\n",
        "# This applies a ReLU activation function\n",
        "model = Sequential()\n",
        "model.add(Conv2D(1, (3, 3), input_shape=(3, 3, 1), padding='same', strides=1, name='conv'))\n",
        "model.add(Activation('relu'))\n",
        "\n",
        "model_before_ReLU = Model(inputs=model.input, outputs=model.get_layer('conv').output)\n",
        "\n",
        "output_feature = model_before_ReLU.predict(input_feature)\n",
        "output_ReLu_feature = model.predict(input_feature)\n",
        "\n",
        "print('Output Network without activation function')\n",
        "print(output_feature)\n",
        "\n",
        "print('')\n",
        "print('Output Network after ReLU activation function')\n",
        "print(output_ReLu_feature)\n"
      ]
    },
    {
      "cell_type": "markdown",
      "metadata": {
        "id": "Ys6ZB1DOTLH6"
      },
      "source": [
        "## Pooling Layer\n",
        "\n",
        "It is a common practice to insert a pooling layer between convolutional layers in CNNs. In a standard CNN architecture, we set the feature sizes to become smaller progressively to reduce the computation in the networks, and to merge the information from different spatial locations. To reduce the feature map sizes, we can either use bigger stride size in the convolutional layers or we can use pooling layers. Pooling layers perform a spatial sliding window and apply an operation to reduce the spatial size. Those operations vary depending on the architecture, being the max, mean and min pooling the most typical ones. Here, we will explain the max pooling, although all the others work similarly. Max pooling keeps only the max value in a neighbourhood, where the neighbourhood is defined by the size of the kernel. Let's visualise it, the next example shows the result of a Max Pooling layer with a 2x2 kernel and a stride of 2.\n",
        "\n",
        "![](https://i.ibb.co/Xp454S4/MaxPool.png)\n",
        "\n",
        "As in convolutional layers, the final size is conditioned to the stride size of the pooling layer. However, contrary to convolutional layers, pooling layers operate independently on each of the input channels, without modifying the depth of the feature maps. To add max pooling to our model we need to import `MaxPooling2d` from `keras.layers` and define the stride and pooling size."
      ]
    },
    {
      "cell_type": "code",
      "execution_count": null,
      "metadata": {
        "colab": {
          "base_uri": "https://localhost:8080/"
        },
        "id": "HzoTGOwDmQm4",
        "outputId": "42e9bd3f-7131-41b8-d9f2-3332022b2d14"
      },
      "outputs": [
        {
          "name": "stdout",
          "output_type": "stream",
          "text": [
            "1/1 [==============================] - 0s 106ms/step\n",
            "Input size: (100, 100, 3)\n",
            "Output size: (50, 50, 32)\n"
          ]
        }
      ],
      "source": [
        "import numpy as np\n",
        "import keras\n",
        "import tensorflow as tf\n",
        "from keras.models import Sequential\n",
        "from keras.layers import Conv2D, Activation, MaxPooling2D\n",
        "\n",
        "# Generate dummy data\n",
        "input_feature = np.random.random((1, 100, 100, 3))\n",
        "\n",
        "# input: 100x100 image with 3 channels -> (100, 100, 3) tensor.\n",
        "# this applies 32 convolution filters of size 3x3 each.\n",
        "# attribute padding='same' applies zero-padding to the input feature map\n",
        "# attribute strides=1 applies applies stride of 1\n",
        "model = Sequential()\n",
        "model.add(Conv2D(32, (3, 3), input_shape=(100, 100, 3), padding='same', strides=1))\n",
        "model.add(Activation('relu'))\n",
        "model.add(MaxPooling2D(pool_size=(2, 2), strides=(2, 2), padding='same'))\n",
        "\n",
        "output_feature = model.predict(input_feature)\n",
        "\n",
        "print('Input size: ({:}, {:}, {:})'.format(input_feature.shape[1], input_feature.shape[2], input_feature.shape[3]))\n",
        "print('Output size: ({:}, {:}, {:})'.format(output_feature.shape[1], output_feature.shape[2], output_feature.shape[3]))"
      ]
    },
    {
      "cell_type": "markdown",
      "metadata": {
        "id": "LKU4-GbZHw0R"
      },
      "source": [
        "# Example: Classification on MNIST\n",
        "\n",
        "As opposed to the *Introduction to Keras* tutorial, in this section, we show how to perform image classification when the input data is a 2D image instead of a flat 1D vector. \n",
        "\n",
        "As discussed above, Convolutional Neural Networks aim to extract and exploit the local relationships on 2D maps, hence, CNNs are much more convenient for images than Multi-layer Perceptron models. \n",
        "\n",
        "First of all, we load the MNIST dataset from Keras' framework. The definition of the data is almost identical than in the Keras tutorial, although this time we are not reshaping the input images into a 1D vector."
      ]
    },
    {
      "cell_type": "code",
      "execution_count": null,
      "metadata": {
        "colab": {
          "base_uri": "https://localhost:8080/"
        },
        "id": "3t0Wq9ArL4EZ",
        "outputId": "794cf042-49fc-489a-8c8c-c94816af111e"
      },
      "outputs": [
        {
          "name": "stdout",
          "output_type": "stream",
          "text": [
            "Image shape: (28, 28, 1)\n",
            "Total number of training samples: 60000\n",
            "Total number of validation samples: 10000\n"
          ]
        }
      ],
      "source": [
        "import tensorflow as tf\n",
        "tf.compat.v1.logging.set_verbosity(tf.compat.v1.logging.ERROR)\n",
        "from keras.models import Sequential\n",
        "from keras.layers import Dense, Dropout, Activation, BatchNormalization\n",
        "from keras.utils import np_utils\n",
        "from keras.datasets import mnist\n",
        "from keras.optimizers import RMSprop\n",
        "from keras.layers import Conv2D, MaxPooling2D, Flatten\n",
        "import numpy as np\n",
        "\n",
        "# the data, shuffled and split between train and test sets\n",
        "# Here we are using the official test set as our validation set, in further\n",
        "# tutorials, test and validation splits will be explained properly.\n",
        "# Hence, even though the variables are `x_test` and `y_test`, they represent our validation set\n",
        "(x_train, y_train), (x_test, y_test) = mnist.load_data()\n",
        "\n",
        "shape = x_train.shape\n",
        "\n",
        "# Normalize and reshape the input images\n",
        "x_train = np.expand_dims(x_train.astype('float32'), -1)\n",
        "x_test = np.expand_dims(x_test.astype('float32'), -1)\n",
        "\n",
        "x_train /= 255\n",
        "x_test /= 255\n",
        "\n",
        "y_train_class = np_utils.to_categorical(y_train, 10)\n",
        "y_test_class = np_utils.to_categorical(y_test, 10)\n",
        "\n",
        "print('Image shape: {0}'.format(x_train.shape[1:]))\n",
        "print('Total number of training samples: {0}'.format(x_train.shape[0]))\n",
        "print('Total number of validation samples: {0}'.format(x_test.shape[0]))"
      ]
    },
    {
      "cell_type": "markdown",
      "metadata": {
        "id": "4Wp29GszMO-j"
      },
      "source": [
        "As illustrated in the cell, this time the input image before the model is 28x28x1. \n",
        "\n",
        "Now we can define a model composed of convolutional layers, activation functions, and maxpool operators:"
      ]
    },
    {
      "cell_type": "code",
      "execution_count": null,
      "metadata": {
        "id": "B78NUAqwMeFR"
      },
      "outputs": [],
      "source": [
        "model = Sequential()\n",
        "model.add(Conv2D(16, (3,3), padding='same', input_shape=x_train.shape[1:]))\n",
        "model.add(Activation('relu'))\n",
        "model.add(MaxPooling2D(pool_size=(2,2)))\n",
        "model.add(Conv2D(16, (3,3), padding='same'))\n",
        "model.add(Activation('relu'))\n",
        "model.add(MaxPooling2D(pool_size=(2,2)))"
      ]
    },
    {
      "cell_type": "markdown",
      "metadata": {
        "id": "BX_KAFlBMnVZ"
      },
      "source": [
        "As explained in the previous tutorial, in a classification problem, the output of the model is a probability vector. Each dimension of the vector indicates how likely is that the input image belongs to a specific class. \n",
        "\n",
        "Up to now, the resulting feature map of the model is a map with the shape *Batch x Weight' x Height' x Channel*, and it needs to be mapped into a vector with shape *Batch x Num Classes*. A common technique to process this mapping is to add a Flatten layer that will reshape the feature map to *Batch x (Weight' * Height' * Channel)*. Following the Flatten layer, we add a dense layer which maps this new feature map to the desired output size. "
      ]
    },
    {
      "cell_type": "code",
      "execution_count": null,
      "metadata": {
        "id": "3CAc1r2vOJQv"
      },
      "outputs": [],
      "source": [
        "model.add(Flatten())\n",
        "model.add(Dense(10))\n",
        "model.add(Activation('softmax'))"
      ]
    },
    {
      "cell_type": "markdown",
      "metadata": {
        "id": "aHInEJ-aON5v"
      },
      "source": [
        "Let's visualize the output shape in each layer."
      ]
    },
    {
      "cell_type": "code",
      "execution_count": null,
      "metadata": {
        "colab": {
          "base_uri": "https://localhost:8080/"
        },
        "id": "UD4NZtIxOTbY",
        "outputId": "4b884198-4c8a-4953-e6e3-9c121a164ec5"
      },
      "outputs": [
        {
          "name": "stdout",
          "output_type": "stream",
          "text": [
            "Model: \"sequential_6\"\n",
            "_________________________________________________________________\n",
            " Layer (type)                Output Shape              Param #   \n",
            "=================================================================\n",
            " conv2d_5 (Conv2D)           (None, 28, 28, 16)        160       \n",
            "                                                                 \n",
            " activation_2 (Activation)   (None, 28, 28, 16)        0         \n",
            "                                                                 \n",
            " max_pooling2d_1 (MaxPooling  (None, 14, 14, 16)       0         \n",
            " 2D)                                                             \n",
            "                                                                 \n",
            " conv2d_6 (Conv2D)           (None, 14, 14, 16)        2320      \n",
            "                                                                 \n",
            " activation_3 (Activation)   (None, 14, 14, 16)        0         \n",
            "                                                                 \n",
            " max_pooling2d_2 (MaxPooling  (None, 7, 7, 16)         0         \n",
            " 2D)                                                             \n",
            "                                                                 \n",
            " flatten (Flatten)           (None, 784)               0         \n",
            "                                                                 \n",
            " dense (Dense)               (None, 10)                7850      \n",
            "                                                                 \n",
            " activation_4 (Activation)   (None, 10)                0         \n",
            "                                                                 \n",
            "=================================================================\n",
            "Total params: 10,330\n",
            "Trainable params: 10,330\n",
            "Non-trainable params: 0\n",
            "_________________________________________________________________\n"
          ]
        }
      ],
      "source": [
        "model.summary()"
      ]
    },
    {
      "cell_type": "markdown",
      "metadata": {
        "id": "_F66ds58OTBu"
      },
      "source": [
        "Finally, we can train our CNN and check its performance on MNIST. "
      ]
    },
    {
      "cell_type": "code",
      "execution_count": null,
      "metadata": {
        "colab": {
          "base_uri": "https://localhost:8080/"
        },
        "id": "BmeolsG_Pi8A",
        "outputId": "36db12d6-8cc5-4bd6-f46f-7c0470af26ab"
      },
      "outputs": [
        {
          "name": "stderr",
          "output_type": "stream",
          "text": [
            "/usr/local/lib/python3.8/dist-packages/keras/optimizers/optimizer_v2/rmsprop.py:135: UserWarning: The `lr` argument is deprecated, use `learning_rate` instead.\n",
            "  super(RMSprop, self).__init__(name, **kwargs)\n"
          ]
        },
        {
          "name": "stdout",
          "output_type": "stream",
          "text": [
            "Validation loss: 0.08472143858671188\n",
            "Validation accuracy: 0.9746999740600586\n"
          ]
        }
      ],
      "source": [
        "# initiate RMSprop optimizer\n",
        "opt = RMSprop(lr=0.0001, decay=1e-6)\n",
        "\n",
        "model.compile(loss='categorical_crossentropy',\n",
        "              optimizer=opt,\n",
        "              metrics=['accuracy'])\n",
        "\n",
        "model.fit(x_train, y_train_class, batch_size=32, epochs=10,  verbose=0)\n",
        "\n",
        "score = model.evaluate(x_test, y_test_class, verbose=0)\n",
        "print('Validation loss:', score[0])\n",
        "print('Validation accuracy:', score[1])"
      ]
    },
    {
      "cell_type": "markdown",
      "metadata": {
        "id": "Q0ZorPBtpLlZ"
      },
      "source": [
        "# Coursework\n"
      ]
    },
    {
      "cell_type": "markdown",
      "metadata": {
        "id": "2gkM3dPZbNcX"
      },
      "source": [
        "## Task 1: Classification\n",
        "\n",
        "At this point, we know what is a CNN, how they work, and the components needed to design them. In this first task, we want you to create a CNN that is able to outperform the Multi-layer Perceptron model from Tutorial 1. For the first part of the coursework, we train on CIFAR10, a  classical dataset for image classification. Note that in these tutorials, we mainly use the official test sets of several standard datasets as our validation data. The reason we use the given test sets as validation data for the tutorials is that is an easy way to make sure that we all work with the same split and report results using the same data. However, in a proper machine learning setup, your validation set should be separate from the test set, so you can tune the model/parameters on the validation set and then check the final performance in the test set. Thus, even though the variables are `x_test` and `y_test`, they represent our validation set.\n",
        "\n",
        "Let's first load the dataset and visualise some examples:"
      ]
    },
    {
      "cell_type": "code",
      "execution_count": null,
      "metadata": {
        "colab": {
          "base_uri": "https://localhost:8080/",
          "height": 355
        },
        "id": "zKWvv0VwZPH3",
        "outputId": "77e3e6a6-e5c4-4755-ed5d-ca01de25c89b"
      },
      "outputs": [
        {
          "output_type": "stream",
          "name": "stdout",
          "text": [
            "Downloading data from https://www.cs.toronto.edu/~kriz/cifar-10-python.tar.gz\n",
            "170498071/170498071 [==============================] - 3s 0us/step\n",
            "Image shape: (32, 32, 3)\n",
            "Total number of training samples: 50000\n",
            "Total number of validation samples: 10000\n"
          ]
        },
        {
          "output_type": "display_data",
          "data": {
            "text/plain": [
              "<Figure size 432x288 with 25 Axes>"
            ],
            "image/png": "[encoded data removed]"
          },
          "metadata": {}
        }
      ],
      "source": [
        "import matplotlib.pyplot as plt\n",
        "import numpy as np\n",
        "import tensorflow as tf\n",
        "tf.compat.v1.logging.set_verbosity(tf.compat.v1.logging.ERROR)\n",
        "from keras.models import Sequential\n",
        "from keras.layers import Dense, Dropout, Activation\n",
        "from keras.utils import np_utils\n",
        "from keras.datasets import cifar10\n",
        "from keras.optimizers import RMSprop\n",
        "\n",
        "# the data, shuffled and split between train and test sets\n",
        "# Here we are using the official test set as our validation set, in further\n",
        "# tutorials, test and validation splits will be explained properly.\n",
        "# Hence, even though the variables are `x_test` and `y_test`, they represent our validation set\n",
        "(X_train, y_train), (X_test, y_test) = cifar10.load_data()\n",
        "\n",
        "print('Image shape: {0}'.format(X_train.shape[1:]))\n",
        "print('Total number of training samples: {0}'.format(X_train.shape[0]))\n",
        "print('Total number of validation samples: {0}'.format(X_test.shape[0]))\n",
        "\n",
        "# Let's visualize some examples\n",
        "N=5\n",
        "start_val = 0 # pick an element for the code to plot the following N**2 values\n",
        "fig, axes = plt.subplots(N,N)\n",
        "items = list(range(0, 10))\n",
        "for row in range(N):\n",
        "  for col in range(N):\n",
        "    idx = start_val+row+N*col\n",
        "    axes[row,col].imshow(X_train[idx], cmap='gray')\n",
        "    fig.subplots_adjust(hspace=0.5)\n",
        "    y_target = int(y_train[idx])\n",
        "    target = str(items[y_target])\n",
        "    axes[row,col].set_title(target)\n",
        "    axes[row,col].set_xticks([])\n",
        "    axes[row,col].set_yticks([])"
      ]
    },
    {
      "cell_type": "markdown",
      "metadata": {
        "id": "-p9uVP3pccOW"
      },
      "source": [
        "CIFAR10 contains 50,000 32x32 color training images, labeled over 10 categories and 10,000 test images. As mentioned, we use those test images as our validation set in this tutorial. We need to preprocess the images for the 1D neural network defined in the previous tutorial:"
      ]
    },
    {
      "cell_type": "code",
      "execution_count": null,
      "metadata": {
        "colab": {
          "base_uri": "https://localhost:8080/"
        },
        "id": "bFurVCqpclnm",
        "outputId": "9ebb36e3-4bdf-446f-f8f9-02f32709d680"
      },
      "outputs": [
        {
          "name": "stdout",
          "output_type": "stream",
          "text": [
            "New X_train shape: (50000, 3072)\n",
            "New Y_train shape: (50000, 10)\n"
          ]
        }
      ],
      "source": [
        "# Preprocess dataset for a 1D neural network\n",
        "X_train = X_train.astype('float32')\n",
        "X_test = X_test.astype('float32')\n",
        "\n",
        "# Normalize the image\n",
        "X_train /= 255\n",
        "X_test /= 255\n",
        "\n",
        "X_train_flatten = X_train.reshape(X_train.shape[0], X_train.shape[1] * X_train.shape[2]*3)\n",
        "X_test_flatten = X_test.reshape(X_test.shape[0], X_test.shape[1] * X_test.shape[2]*3)\n",
        "\n",
        "print('New X_train shape: {0}'.format(X_train_flatten.shape))\n",
        "\n",
        "Y_train_class = np_utils.to_categorical(y_train, 10)\n",
        "Y_test_class = np_utils.to_categorical(y_test, 10)\n",
        "\n",
        "print('New Y_train shape: {0}'.format(Y_train_class.shape))\n"
      ]
    },
    {
      "cell_type": "markdown",
      "metadata": {
        "id": "mxFx2s3Fc6wM"
      },
      "source": [
        "Now, we are ready to define the Multi-layer Perceptron model and train it."
      ]
    },
    {
      "cell_type": "code",
      "execution_count": null,
      "metadata": {
        "colab": {
          "base_uri": "https://localhost:8080/"
        },
        "id": "KEZW-1pxbKlC",
        "outputId": "d0134910-3221-411f-80c1-8f986ff2196f"
      },
      "outputs": [
        {
          "name": "stdout",
          "output_type": "stream",
          "text": [
            "Epoch 1/20\n",
            "1563/1563 [==============================] - 7s 4ms/step - loss: 1.9142 - accuracy: 0.3020\n",
            "Epoch 2/20\n",
            "1563/1563 [==============================] - 7s 4ms/step - loss: 1.7411 - accuracy: 0.3728\n",
            "Epoch 3/20\n",
            "1563/1563 [==============================] - 6s 4ms/step - loss: 1.6630 - accuracy: 0.4018\n",
            "Epoch 4/20\n",
            "1563/1563 [==============================] - 6s 4ms/step - loss: 1.6092 - accuracy: 0.4222\n",
            "Epoch 5/20\n",
            "1563/1563 [==============================] - 7s 4ms/step - loss: 1.5664 - accuracy: 0.4394\n",
            "Epoch 6/20\n",
            "1563/1563 [==============================] - 8s 5ms/step - loss: 1.5365 - accuracy: 0.4493\n",
            "Epoch 7/20\n",
            "1563/1563 [==============================] - 6s 4ms/step - loss: 1.5097 - accuracy: 0.4594\n",
            "Epoch 8/20\n",
            "1563/1563 [==============================] - 6s 4ms/step - loss: 1.4859 - accuracy: 0.4675\n",
            "Epoch 9/20\n",
            "1563/1563 [==============================] - 6s 4ms/step - loss: 1.4658 - accuracy: 0.4755\n",
            "Epoch 10/20\n",
            "1563/1563 [==============================] - 6s 4ms/step - loss: 1.4461 - accuracy: 0.4831\n",
            "Epoch 11/20\n",
            "1563/1563 [==============================] - 6s 4ms/step - loss: 1.4282 - accuracy: 0.4899\n",
            "Epoch 12/20\n",
            "1563/1563 [==============================] - 8s 5ms/step - loss: 1.4152 - accuracy: 0.4960\n",
            "Epoch 13/20\n",
            "1563/1563 [==============================] - 6s 4ms/step - loss: 1.3969 - accuracy: 0.5024\n",
            "Epoch 14/20\n",
            "1563/1563 [==============================] - 6s 4ms/step - loss: 1.3858 - accuracy: 0.5061\n",
            "Epoch 15/20\n",
            "1563/1563 [==============================] - 6s 4ms/step - loss: 1.3722 - accuracy: 0.5104\n",
            "Epoch 16/20\n",
            "1563/1563 [==============================] - 6s 4ms/step - loss: 1.3582 - accuracy: 0.5166\n",
            "Epoch 17/20\n",
            "1563/1563 [==============================] - 7s 4ms/step - loss: 1.3443 - accuracy: 0.5202\n",
            "Epoch 18/20\n",
            "1563/1563 [==============================] - 6s 4ms/step - loss: 1.3320 - accuracy: 0.5230\n",
            "Epoch 19/20\n",
            "1563/1563 [==============================] - 6s 4ms/step - loss: 1.3220 - accuracy: 0.5280\n",
            "Epoch 20/20\n",
            "1563/1563 [==============================] - 6s 4ms/step - loss: 1.3095 - accuracy: 0.5312\n",
            "Validation loss: 1.5040310621261597\n",
            "Validation accuracy: 0.474700003862381\n"
          ]
        }
      ],
      "source": [
        "model = Sequential()\n",
        "\n",
        "model.add(Dense(32, activation='relu', input_shape=(X_train_flatten.shape[1:])))\n",
        "model.add(Dense(64, activation='relu'))\n",
        "model.add(Dense(128, activation='relu'))\n",
        "model.add(Dense(256, activation='relu'))\n",
        "model.add(Dense(512, activation='relu'))\n",
        "model.add(Dense(10, activation='softmax'))\n",
        "\n",
        "# initiate RMSprop optimizer\n",
        "opt = RMSprop(lr=0.0001, decay=1e-6)\n",
        "\n",
        "# Let's train the model using RMSprop\n",
        "model.compile(loss='categorical_crossentropy',\n",
        "              optimizer=opt,\n",
        "              metrics=['accuracy'])\n",
        "\n",
        "model.fit(X_train_flatten, Y_train_class, batch_size=32, epochs=20)\n",
        "\n",
        "score = model.evaluate(X_test_flatten, Y_test_class, verbose=0)\n",
        "print('Validation loss:', score[0])\n",
        "print('Validation accuracy:', score[1])"
      ]
    },
    {
      "cell_type": "markdown",
      "metadata": {
        "id": "CEuYNmyHlVJd"
      },
      "source": [
        "### Problem Definition\n",
        "\n",
        "In this exercise, you are asked to test several CNN architectures in the code provided below. Do not modify the optimizer, loss used or parameters related to the training such as the learning rate, they will be investigated in future tutorials. You must focus on the architecture itself: number of convolutional layers, number of filters in every layer, activation functions, pooling operators, among others. Batch Normalization and Dropout layers, which are quite used in CNN architectures, will be also investigated in a future tutorial so you do not have to discuss them.\n",
        "\n",
        "\n",
        "**Report**:\n",
        "*   Present a bar figure with the training and validation accuracies for different design choices. Discuss only the parameters that have a significant influence on the network's performance. Explain any discrepancy between training and validation accuracies.\n",
        "*   Present a sketch that introduces your best architecture. See some examples on how to display networks in [cv-tricks' blog](https://cv-tricks.com/cnn/understand-resnet-alexnet-vgg-inception/).\n"
      ]
    },
    {
      "cell_type": "code",
      "execution_count": null,
      "metadata": {
        "colab": {
          "base_uri": "https://localhost:8080/"
        },
        "id": "r8ATD38dDM1q",
        "outputId": "16edbcc7-d5e0-4b17-b4e5-1a996921553e"
      },
      "outputs": [
        {
          "output_type": "stream",
          "name": "stdout",
          "text": [
            "Downloading data from https://www.cs.toronto.edu/~kriz/cifar-10-python.tar.gz\n",
            "170498071/170498071 [==============================] - 13s 0us/step\n",
            "Image shape: (32, 32, 3)\n",
            "Total number of training samples: 50000\n",
            "Total number of validation samples: 10000\n"
          ]
        },
        {
          "output_type": "stream",
          "name": "stderr",
          "text": [
            "/usr/local/lib/python3.8/dist-packages/keras/optimizers/optimizer_v2/rmsprop.py:135: UserWarning: The `lr` argument is deprecated, use `learning_rate` instead.\n",
            "  super(RMSprop, self).__init__(name, **kwargs)\n"
          ]
        },
        {
          "output_type": "stream",
          "name": "stdout",
          "text": [
            "Epoch 1/20\n",
            "1563/1563 [==============================] - 11s 6ms/step - loss: 2.1990 - accuracy: 0.1916 - val_loss: 2.1141 - val_accuracy: 0.2136\n",
            "Epoch 2/20\n",
            "1563/1563 [==============================] - 6s 4ms/step - loss: 2.0016 - accuracy: 0.2799 - val_loss: 1.9278 - val_accuracy: 0.3062\n",
            "Epoch 3/20\n",
            "1563/1563 [==============================] - 6s 4ms/step - loss: 1.9298 - accuracy: 0.3124 - val_loss: 1.9338 - val_accuracy: 0.2972\n",
            "Epoch 4/20\n",
            "1563/1563 [==============================] - 6s 4ms/step - loss: 1.8878 - accuracy: 0.3319 - val_loss: 1.9955 - val_accuracy: 0.2649\n",
            "Epoch 5/20\n",
            "1563/1563 [==============================] - 6s 4ms/step - loss: 1.8572 - accuracy: 0.3442 - val_loss: 1.8186 - val_accuracy: 0.3488\n",
            "Epoch 6/20\n",
            "1563/1563 [==============================] - 7s 4ms/step - loss: 1.8314 - accuracy: 0.3559 - val_loss: 1.8646 - val_accuracy: 0.3214\n",
            "Epoch 7/20\n",
            "1563/1563 [==============================] - 6s 4ms/step - loss: 1.8106 - accuracy: 0.3643 - val_loss: 1.8053 - val_accuracy: 0.3661\n",
            "Epoch 8/20\n",
            "1563/1563 [==============================] - 7s 4ms/step - loss: 1.7938 - accuracy: 0.3713 - val_loss: 1.8308 - val_accuracy: 0.3521\n",
            "Epoch 9/20\n",
            "1563/1563 [==============================] - 7s 4ms/step - loss: 1.7809 - accuracy: 0.3760 - val_loss: 1.7803 - val_accuracy: 0.3715\n",
            "Epoch 10/20\n",
            "1563/1563 [==============================] - 9s 6ms/step - loss: 1.7671 - accuracy: 0.3823 - val_loss: 1.8014 - val_accuracy: 0.3739\n",
            "Epoch 11/20\n",
            "1563/1563 [==============================] - 12s 8ms/step - loss: 1.7563 - accuracy: 0.3882 - val_loss: 1.7769 - val_accuracy: 0.3742\n",
            "Epoch 12/20\n",
            "1563/1563 [==============================] - 7s 5ms/step - loss: 1.7454 - accuracy: 0.3930 - val_loss: 1.8164 - val_accuracy: 0.3664\n",
            "Epoch 13/20\n",
            "1563/1563 [==============================] - 6s 4ms/step - loss: 1.7383 - accuracy: 0.3943 - val_loss: 1.7496 - val_accuracy: 0.3844\n",
            "Epoch 14/20\n",
            "1563/1563 [==============================] - 6s 4ms/step - loss: 1.7293 - accuracy: 0.4001 - val_loss: 1.7545 - val_accuracy: 0.3821\n",
            "Epoch 15/20\n",
            "1563/1563 [==============================] - 7s 4ms/step - loss: 1.7233 - accuracy: 0.4006 - val_loss: 1.8025 - val_accuracy: 0.3591\n",
            "Epoch 16/20\n",
            "1563/1563 [==============================] - 7s 4ms/step - loss: 1.7155 - accuracy: 0.4041 - val_loss: 1.7361 - val_accuracy: 0.3939\n",
            "Epoch 17/20\n",
            "1563/1563 [==============================] - 6s 4ms/step - loss: 1.7107 - accuracy: 0.4042 - val_loss: 1.7028 - val_accuracy: 0.4081\n",
            "Epoch 18/20\n",
            "1563/1563 [==============================] - 7s 4ms/step - loss: 1.7049 - accuracy: 0.4084 - val_loss: 1.7249 - val_accuracy: 0.3959\n",
            "Epoch 19/20\n",
            "1563/1563 [==============================] - 7s 4ms/step - loss: 1.6994 - accuracy: 0.4118 - val_loss: 1.7304 - val_accuracy: 0.3899\n",
            "Epoch 20/20\n",
            "1563/1563 [==============================] - 6s 4ms/step - loss: 1.6954 - accuracy: 0.4140 - val_loss: 1.7673 - val_accuracy: 0.3810\n",
            "Validation loss: 1.7673028707504272\n",
            "Validation accuracy: 0.38100001215934753\n",
            "[0.38100001215934753]\n"
          ]
        }
      ],
      "source": [
        "import tensorflow as tf\n",
        "tf.compat.v1.logging.set_verbosity(tf.compat.v1.logging.ERROR)\n",
        "from keras.models import Sequential\n",
        "from keras.layers import Dense, Activation\n",
        "from keras.utils import np_utils\n",
        "from keras.datasets import cifar10\n",
        "from keras.optimizers import RMSprop\n",
        "from keras.layers import Conv2D, MaxPooling2D, Flatten\n",
        "\n",
        "training_acc = []\n",
        "validation_acc= []\n",
        "\n",
        "# the data, shuffled and split between train and val sets\n",
        "# Here we are using the official test set as our validation set, in further\n",
        "# tutorials, test and validation splits will be explained properly.\n",
        "# Hence, even though the variables are `x_test` and `y_test`, they represent our validation set\n",
        "(x_train, y_train), (x_test, y_test) = cifar10.load_data()\n",
        "\n",
        "print('Image shape: {0}'.format(x_train.shape[1:]))\n",
        "print('Total number of training samples: {0}'.format(x_train.shape[0]))\n",
        "print('Total number of validation samples: {0}'.format(x_test.shape[0]))\n",
        "\n",
        "x_train = x_train.astype('float32')\n",
        "x_test = x_test.astype('float32')\n",
        "\n",
        "# Normalize the image\n",
        "x_train /= 255\n",
        "x_test /= 255\n",
        "\n",
        "y_train_class = np_utils.to_categorical(y_train, 10)\n",
        "y_test_class = np_utils.to_categorical(y_test, 10)\n",
        "\n",
        "\n",
        "# . . . \n",
        "#Criteria\n",
        "#Number of convolutional layers: 1\n",
        "#Number of filters in every layer: 16\n",
        "#Activation function: sigmoid\n",
        "#Padding: None\n",
        "#Pooling operator: None\n",
        "#**Softmax isnt used**\n",
        "\n",
        "# Define here your architecture\n",
        "model = Sequential()\n",
        "model.add(Conv2D(16, (3,3), padding='valid'))\n",
        "model.add(Activation('sigmoid'))\n",
        "model.add(Flatten())\n",
        "model.add(Dense(10))\n",
        "model.add(Activation('softmax'))\n",
        "# . . . \n",
        "\n",
        "\n",
        "# initiate RMSprop optimizer\n",
        "opt = RMSprop(lr=0.0001, decay=1e-6)\n",
        "\n",
        "model.compile(loss='categorical_crossentropy', optimizer=opt, metrics=['accuracy'])\n",
        "\n",
        "history = model.fit(x_train, y_train_class, validation_data=(x_test, y_test_class), epochs=20, batch_size=32)\n",
        "score_val = model.evaluate(x_test, y_test_class, verbose=0)\n",
        "print('Validation loss:', score_val[0])\n",
        "print('Validation accuracy:', score_val[1])\n",
        "\n",
        "training_acc.append(history.history['accuracy'][-1])\n",
        "validation_acc.append(history.history['val_accuracy'][-1])\n",
        "print(validation_acc)"
      ]
    },
    {
      "cell_type": "code",
      "execution_count": null,
      "metadata": {
        "id": "LnXSVUnz8iao",
        "colab": {
          "base_uri": "https://localhost:8080/"
        },
        "outputId": "ad0035d1-6bde-4d66-ed3d-bea3debee9d8"
      },
      "outputs": [
        {
          "output_type": "stream",
          "name": "stdout",
          "text": [
            "Image shape: (32, 32, 3)\n",
            "Total number of training samples: 50000\n",
            "Total number of validation samples: 10000\n",
            "Epoch 1/20\n",
            "1563/1563 [==============================] - 9s 6ms/step - loss: 1.7501 - accuracy: 0.3864 - val_loss: 1.5603 - val_accuracy: 0.4605\n",
            "Epoch 2/20\n",
            "1563/1563 [==============================] - 12s 7ms/step - loss: 1.4803 - accuracy: 0.4887 - val_loss: 1.4364 - val_accuracy: 0.4994\n",
            "Epoch 3/20\n",
            "1563/1563 [==============================] - 10s 7ms/step - loss: 1.3676 - accuracy: 0.5262 - val_loss: 1.3531 - val_accuracy: 0.5260\n",
            "Epoch 4/20\n",
            "1563/1563 [==============================] - 7s 5ms/step - loss: 1.3006 - accuracy: 0.5508 - val_loss: 1.3150 - val_accuracy: 0.5387\n",
            "Epoch 5/20\n",
            "1563/1563 [==============================] - 8s 5ms/step - loss: 1.2519 - accuracy: 0.5684 - val_loss: 1.3245 - val_accuracy: 0.5380\n",
            "Epoch 6/20\n",
            "1563/1563 [==============================] - 7s 5ms/step - loss: 1.2120 - accuracy: 0.5806 - val_loss: 1.2621 - val_accuracy: 0.5590\n",
            "Epoch 7/20\n",
            "1563/1563 [==============================] - 8s 5ms/step - loss: 1.1793 - accuracy: 0.5945 - val_loss: 1.2679 - val_accuracy: 0.5608\n",
            "Epoch 8/20\n",
            "1563/1563 [==============================] - 8s 5ms/step - loss: 1.1495 - accuracy: 0.6036 - val_loss: 1.2297 - val_accuracy: 0.5674\n",
            "Epoch 9/20\n",
            "1563/1563 [==============================] - 7s 5ms/step - loss: 1.1226 - accuracy: 0.6158 - val_loss: 1.2038 - val_accuracy: 0.5735\n",
            "Epoch 10/20\n",
            "1563/1563 [==============================] - 8s 5ms/step - loss: 1.0989 - accuracy: 0.6244 - val_loss: 1.1975 - val_accuracy: 0.5876\n",
            "Epoch 11/20\n",
            "1563/1563 [==============================] - 7s 5ms/step - loss: 1.0766 - accuracy: 0.6315 - val_loss: 1.1738 - val_accuracy: 0.5914\n",
            "Epoch 12/20\n",
            "1563/1563 [==============================] - 8s 5ms/step - loss: 1.0575 - accuracy: 0.6388 - val_loss: 1.1758 - val_accuracy: 0.5891\n",
            "Epoch 13/20\n",
            "1563/1563 [==============================] - 7s 5ms/step - loss: 1.0378 - accuracy: 0.6478 - val_loss: 1.1633 - val_accuracy: 0.5963\n",
            "Epoch 14/20\n",
            "1563/1563 [==============================] - 9s 5ms/step - loss: 1.0198 - accuracy: 0.6528 - val_loss: 1.1602 - val_accuracy: 0.5972\n",
            "Epoch 15/20\n",
            "1563/1563 [==============================] - 8s 5ms/step - loss: 1.0038 - accuracy: 0.6591 - val_loss: 1.1571 - val_accuracy: 0.5958\n",
            "Epoch 16/20\n",
            "1563/1563 [==============================] - 7s 5ms/step - loss: 0.9879 - accuracy: 0.6652 - val_loss: 1.1490 - val_accuracy: 0.6012\n",
            "Epoch 17/20\n",
            "1563/1563 [==============================] - 7s 5ms/step - loss: 0.9725 - accuracy: 0.6718 - val_loss: 1.1532 - val_accuracy: 0.6041\n",
            "Epoch 18/20\n",
            "1563/1563 [==============================] - 8s 5ms/step - loss: 0.9585 - accuracy: 0.6760 - val_loss: 1.1478 - val_accuracy: 0.6013\n",
            "Epoch 19/20\n",
            "1563/1563 [==============================] - 7s 5ms/step - loss: 0.9447 - accuracy: 0.6809 - val_loss: 1.1310 - val_accuracy: 0.6082\n",
            "Epoch 20/20\n",
            "1563/1563 [==============================] - 8s 5ms/step - loss: 0.9320 - accuracy: 0.6840 - val_loss: 1.1334 - val_accuracy: 0.6047\n",
            "Validation loss: 1.133439064025879\n",
            "Validation accuracy: 0.6047000288963318\n",
            "[0.38100001215934753, 0.6047000288963318]\n"
          ]
        }
      ],
      "source": [
        "import tensorflow as tf\n",
        "tf.compat.v1.logging.set_verbosity(tf.compat.v1.logging.ERROR)\n",
        "from keras.models import Sequential\n",
        "from keras.layers import Dense, Activation\n",
        "from keras.utils import np_utils\n",
        "from keras.datasets import cifar10\n",
        "from keras.optimizers import RMSprop\n",
        "from keras.layers import Conv2D, MaxPooling2D, Flatten\n",
        "\n",
        "# the data, shuffled and split between train and val sets\n",
        "# Here we are using the official test set as our validation set, in further\n",
        "# tutorials, test and validation splits will be explained properly.\n",
        "# Hence, even though the variables are `x_test` and `y_test`, they represent our validation set\n",
        "(x_train, y_train), (x_test, y_test) = cifar10.load_data()\n",
        "\n",
        "print('Image shape: {0}'.format(x_train.shape[1:]))\n",
        "print('Total number of training samples: {0}'.format(x_train.shape[0]))\n",
        "print('Total number of validation samples: {0}'.format(x_test.shape[0]))\n",
        "\n",
        "x_train = x_train.astype('float32')\n",
        "x_test = x_test.astype('float32')\n",
        "\n",
        "# Normalize the image\n",
        "x_train /= 255\n",
        "x_test /= 255\n",
        "\n",
        "y_train_class = np_utils.to_categorical(y_train, 10)\n",
        "y_test_class = np_utils.to_categorical(y_test, 10)\n",
        "\n",
        "\n",
        "# . . . \n",
        "#Criteria\n",
        "#Number of convolutional layers: 2\n",
        "#Number of filters in every layer: 16\n",
        "#Activation function: RelU\n",
        "#Padding: Yes\n",
        "#Pooling operator: None\n",
        "\n",
        "# Define here your architecture\n",
        "model = Sequential()\n",
        "model.add(Conv2D(16, (3,3), padding='same', input_shape=x_train.shape[1:]))\n",
        "model.add(Conv2D(16, (3,3), padding='same', input_shape=x_train.shape[1:]))\n",
        "model.add(Activation('relu'))\n",
        "model.add(Flatten())\n",
        "model.add(Dense(10))\n",
        "model.add(Activation('softmax'))\n",
        "# . . . \n",
        "\n",
        "\n",
        "# initiate RMSprop optimizer\n",
        "opt = RMSprop(lr=0.0001, decay=1e-6)\n",
        "\n",
        "model.compile(loss='categorical_crossentropy', optimizer=opt, metrics=['accuracy'])\n",
        "\n",
        "history = model.fit(x_train, y_train_class, validation_data=(x_test, y_test_class), epochs=20, batch_size=32)\n",
        "score_val = model.evaluate(x_test, y_test_class, verbose=0)\n",
        "print('Validation loss:', score_val[0])\n",
        "print('Validation accuracy:', score_val[1])\n",
        "\n",
        "training_acc.append(history.history['accuracy'][-1])\n",
        "validation_acc.append(history.history['val_accuracy'][-1])\n",
        "print(validation_acc)"
      ]
    },
    {
      "cell_type": "code",
      "execution_count": null,
      "metadata": {
        "id": "1pn2TPtP8iwb",
        "colab": {
          "base_uri": "https://localhost:8080/"
        },
        "outputId": "0f28bb30-65ad-42fc-d7c9-23f7e38c9e35"
      },
      "outputs": [
        {
          "output_type": "stream",
          "name": "stdout",
          "text": [
            "Image shape: (32, 32, 3)\n",
            "Total number of training samples: 50000\n",
            "Total number of validation samples: 10000\n",
            "Epoch 1/20\n",
            "1563/1563 [==============================] - 8s 5ms/step - loss: 1.9531 - accuracy: 0.3005 - val_loss: 1.7462 - val_accuracy: 0.3970\n",
            "Epoch 2/20\n",
            "1563/1563 [==============================] - 8s 5ms/step - loss: 1.6797 - accuracy: 0.4108 - val_loss: 1.6021 - val_accuracy: 0.4364\n",
            "Epoch 3/20\n",
            "1563/1563 [==============================] - 8s 5ms/step - loss: 1.5768 - accuracy: 0.4461 - val_loss: 1.5366 - val_accuracy: 0.4587\n",
            "Epoch 4/20\n",
            "1563/1563 [==============================] - 8s 5ms/step - loss: 1.5082 - accuracy: 0.4702 - val_loss: 1.4785 - val_accuracy: 0.4769\n",
            "Epoch 5/20\n",
            "1563/1563 [==============================] - 8s 5ms/step - loss: 1.4547 - accuracy: 0.4873 - val_loss: 1.4375 - val_accuracy: 0.4912\n",
            "Epoch 6/20\n",
            "1563/1563 [==============================] - 8s 5ms/step - loss: 1.4068 - accuracy: 0.5079 - val_loss: 1.3870 - val_accuracy: 0.5092\n",
            "Epoch 7/20\n",
            "1563/1563 [==============================] - 7s 5ms/step - loss: 1.3673 - accuracy: 0.5188 - val_loss: 1.3722 - val_accuracy: 0.5206\n",
            "Epoch 8/20\n",
            "1563/1563 [==============================] - 7s 5ms/step - loss: 1.3353 - accuracy: 0.5319 - val_loss: 1.3288 - val_accuracy: 0.5313\n",
            "Epoch 9/20\n",
            "1563/1563 [==============================] - 8s 5ms/step - loss: 1.3058 - accuracy: 0.5423 - val_loss: 1.3042 - val_accuracy: 0.5429\n",
            "Epoch 10/20\n",
            "1563/1563 [==============================] - 7s 5ms/step - loss: 1.2804 - accuracy: 0.5549 - val_loss: 1.2789 - val_accuracy: 0.5525\n",
            "Epoch 11/20\n",
            "1563/1563 [==============================] - 7s 5ms/step - loss: 1.2559 - accuracy: 0.5604 - val_loss: 1.2462 - val_accuracy: 0.5610\n",
            "Epoch 12/20\n",
            "1563/1563 [==============================] - 8s 5ms/step - loss: 1.2337 - accuracy: 0.5704 - val_loss: 1.2628 - val_accuracy: 0.5595\n",
            "Epoch 13/20\n",
            "1563/1563 [==============================] - 7s 5ms/step - loss: 1.2133 - accuracy: 0.5780 - val_loss: 1.2288 - val_accuracy: 0.5735\n",
            "Epoch 14/20\n",
            "1563/1563 [==============================] - 7s 5ms/step - loss: 1.1941 - accuracy: 0.5864 - val_loss: 1.1907 - val_accuracy: 0.5862\n",
            "Epoch 15/20\n",
            "1563/1563 [==============================] - 8s 5ms/step - loss: 1.1759 - accuracy: 0.5915 - val_loss: 1.1882 - val_accuracy: 0.5847\n",
            "Epoch 16/20\n",
            "1563/1563 [==============================] - 8s 5ms/step - loss: 1.1572 - accuracy: 0.5993 - val_loss: 1.1595 - val_accuracy: 0.5960\n",
            "Epoch 17/20\n",
            "1563/1563 [==============================] - 7s 5ms/step - loss: 1.1413 - accuracy: 0.6042 - val_loss: 1.1768 - val_accuracy: 0.5904\n",
            "Epoch 18/20\n",
            "1563/1563 [==============================] - 8s 5ms/step - loss: 1.1259 - accuracy: 0.6117 - val_loss: 1.1467 - val_accuracy: 0.5994\n",
            "Epoch 19/20\n",
            "1563/1563 [==============================] - 7s 5ms/step - loss: 1.1103 - accuracy: 0.6165 - val_loss: 1.1344 - val_accuracy: 0.6013\n",
            "Epoch 20/20\n",
            "1563/1563 [==============================] - 8s 5ms/step - loss: 1.0956 - accuracy: 0.6209 - val_loss: 1.1309 - val_accuracy: 0.6041\n",
            "Validation loss: 1.1309397220611572\n",
            "Validation accuracy: 0.6040999889373779\n",
            "[0.38100001215934753, 0.6047000288963318, 0.6040999889373779]\n"
          ]
        }
      ],
      "source": [
        "import tensorflow as tf\n",
        "tf.compat.v1.logging.set_verbosity(tf.compat.v1.logging.ERROR)\n",
        "from keras.models import Sequential\n",
        "from keras.layers import Dense, Activation\n",
        "from keras.utils import np_utils\n",
        "from keras.datasets import cifar10\n",
        "from keras.optimizers import RMSprop\n",
        "from keras.layers import Conv2D, MaxPooling2D, Flatten\n",
        "\n",
        "# the data, shuffled and split between train and val sets\n",
        "# Here we are using the official test set as our validation set, in further\n",
        "# tutorials, test and validation splits will be explained properly.\n",
        "# Hence, even though the variables are `x_test` and `y_test`, they represent our validation set\n",
        "(x_train, y_train), (x_test, y_test) = cifar10.load_data()\n",
        "\n",
        "print('Image shape: {0}'.format(x_train.shape[1:]))\n",
        "print('Total number of training samples: {0}'.format(x_train.shape[0]))\n",
        "print('Total number of validation samples: {0}'.format(x_test.shape[0]))\n",
        "\n",
        "x_train = x_train.astype('float32')\n",
        "x_test = x_test.astype('float32')\n",
        "\n",
        "# Normalize the image\n",
        "x_train /= 255\n",
        "x_test /= 255\n",
        "\n",
        "y_train_class = np_utils.to_categorical(y_train, 10)\n",
        "y_test_class = np_utils.to_categorical(y_test, 10)\n",
        "\n",
        "\n",
        "# . . . \n",
        "#Criteria\n",
        "#number of convolutional layers: 1\n",
        "#number of filters in every layer: 64 \n",
        "#activation function: RelU\n",
        "#Padding: Yes\n",
        "#pooling operator: MaxPooling\n",
        "\n",
        "# Define here your architecture\n",
        "#change to 16 for better results\n",
        "model = Sequential()\n",
        "model.add(Conv2D(32, (3,3), padding='same', input_shape=x_train.shape[1:]))\n",
        "model.add(MaxPooling2D(pool_size=(2,2)))\n",
        "model.add(Conv2D(32, (3,3), padding='same', input_shape=x_train.shape[1:]))\n",
        "model.add(MaxPooling2D(pool_size=(2,2)))\n",
        "model.add(Conv2D(32, (3,3), padding='same', input_shape=x_train.shape[1:]))\n",
        "model.add(MaxPooling2D(pool_size=(2,2)))\n",
        "model.add(Activation('relu'))\n",
        "#model.add(Activation('relu'))\n",
        "model.add(Flatten())\n",
        "model.add(Dense(10))\n",
        "model.add(Activation('softmax'))\n",
        "# . . . \n",
        "\n",
        "\n",
        "# initiate RMSprop optimizer\n",
        "opt = RMSprop(lr=0.0001, decay=1e-6)\n",
        "\n",
        "model.compile(loss='categorical_crossentropy', optimizer=opt, metrics=['accuracy'])\n",
        "\n",
        "history = model.fit(x_train, y_train_class, validation_data=(x_test, y_test_class), epochs=20, batch_size=32)\n",
        "score_val = model.evaluate(x_test, y_test_class, verbose=0)\n",
        "print('Validation loss:', score_val[0])\n",
        "print('Validation accuracy:', score_val[1])\n",
        "\n",
        "training_acc.append(history.history['accuracy'][-1])\n",
        "validation_acc.append(history.history['val_accuracy'][-1])\n",
        "print(validation_acc)"
      ]
    },
    {
      "cell_type": "code",
      "source": [
        "visualkeras.layered_view(model).show() # display using your system viewer\n",
        "visualkeras.layered_view(model, to_file='output.png') # write to disk\n",
        "visualkeras.layered_view(model, to_file='output.png').show() # write and show\n",
        "\n",
        "visualkeras.layered_view(model)\n",
        "\n",
        "visualkeras.layered_view(model, legend=True)  # font is optional!"
      ],
      "metadata": {
        "id": "RymPNEz9oh-m",
        "colab": {
          "base_uri": "https://localhost:8080/",
          "height": 250
        },
        "outputId": "78811e40-3938-4bd7-dc0c-dbcfe60093dc"
      },
      "execution_count": null,
      "outputs": [
        {
          "output_type": "execute_result",
          "data": {
            "text/plain": [
              "<PIL.Image.Image image mode=RGBA size=366x233 at 0x7F9FCA3903D0>"
            ],
            "image/png": "[encoded data removed]"
          },
          "metadata": {},
          "execution_count": 5
        }
      ]
    },
    {
      "cell_type": "code",
      "execution_count": null,
      "metadata": {
        "id": "272Pjm9V8jTH"
      },
      "outputs": [],
      "source": [
        "import tensorflow as tf\n",
        "tf.compat.v1.logging.set_verbosity(tf.compat.v1.logging.ERROR)\n",
        "from keras.models import Sequential\n",
        "from keras.layers import Dense, Activation\n",
        "from keras.utils import np_utils\n",
        "from keras.datasets import cifar10\n",
        "from keras.optimizers import RMSprop\n",
        "from keras.layers import Conv2D, MaxPooling2D, Flatten\n",
        "\n",
        "# the data, shuffled and split between train and val sets\n",
        "# Here we are using the official test set as our validation set, in further\n",
        "# tutorials, test and validation splits will be explained properly.\n",
        "# Hence, even though the variables are `x_test` and `y_test`, they represent our validation set\n",
        "(x_train, y_train), (x_test, y_test) = cifar10.load_data()\n",
        "\n",
        "print('Image shape: {0}'.format(x_train.shape[1:]))\n",
        "print('Total number of training samples: {0}'.format(x_train.shape[0]))\n",
        "print('Total number of validation samples: {0}'.format(x_test.shape[0]))\n",
        "\n",
        "x_train = x_train.astype('float32')\n",
        "x_test = x_test.astype('float32')\n",
        "\n",
        "# Normalize the image\n",
        "x_train /= 255\n",
        "x_test /= 255\n",
        "\n",
        "y_train_class = np_utils.to_categorical(y_train, 10)\n",
        "y_test_class = np_utils.to_categorical(y_test, 10)\n",
        "\n",
        "\n",
        "# . . . \n",
        "#Criteria\n",
        "#number of convolutional layers: 3\n",
        "#number of filters in every layer: 128\n",
        "#activation function: RelU\n",
        "#Padding: Yes\n",
        "#pooling operator: MaxPooling\n",
        "\n",
        "# Define here your architecture\n",
        "model = Sequential()\n",
        "model.add(Conv2D(64, (3,3), padding='same', input_shape=x_train.shape[1:]))\n",
        "model.add(MaxPooling2D(pool_size=(2,2)))\n",
        "model.add(Conv2D(64, (3,3), padding='same', input_shape=x_train.shape[1:]))\n",
        "model.add(MaxPooling2D(pool_size=(2,2)))\n",
        "model.add(Conv2D(64, (3,3), padding='same', input_shape=x_train.shape[1:]))\n",
        "model.add(MaxPooling2D(pool_size=(2,2)))\n",
        "model.add(Conv2D(64, (3,3), padding='same', input_shape=x_train.shape[1:]))\n",
        "model.add(MaxPooling2D(pool_size=(2,2)))\n",
        "model.add(Activation('relu'))\n",
        "model.add(Activation('relu'))\n",
        "model.add(Flatten())\n",
        "model.add(Dense(10))\n",
        "model.add(Activation('softmax'))\n",
        "# . . . \n",
        "\n",
        "\n",
        "# initiate RMSprop optimizer\n",
        "opt = RMSprop(lr=0.0001, decay=1e-6)\n",
        "\n",
        "model.compile(loss='categorical_crossentropy', optimizer=opt, metrics=['accuracy'])\n",
        "\n",
        "history = model.fit(x_train, y_train_class, validation_data=(x_test, y_test_class), epochs=20, batch_size=32)\n",
        "score_val = model.evaluate(x_test, y_test_class, verbose=0)\n",
        "print('Validation loss:', score_val[0])\n",
        "print('Validation accuracy:', score_val[1])\n",
        "\n",
        "training_acc.append(history.history['accuracy'][-1])\n",
        "validation_acc.append(history.history['val_accuracy'][-1])\n",
        "print(validation_acc)"
      ]
    },
    {
      "cell_type": "code",
      "execution_count": null,
      "metadata": {
        "id": "7S1KE7928jg9"
      },
      "outputs": [],
      "source": [
        "import tensorflow as tf\n",
        "tf.compat.v1.logging.set_verbosity(tf.compat.v1.logging.ERROR)\n",
        "from keras.models import Sequential\n",
        "from keras.layers import Dense, Activation\n",
        "from keras.utils import np_utils\n",
        "from keras.datasets import cifar10\n",
        "from keras.optimizers import RMSprop\n",
        "from keras.layers import Conv2D, MaxPooling2D, Flatten\n",
        "\n",
        "# the data, shuffled and split between train and val sets\n",
        "# Here we are using the official test set as our validation set, in further\n",
        "# tutorials, test and validation splits will be explained properly.\n",
        "# Hence, even though the variables are `x_test` and `y_test`, they represent our validation set\n",
        "(x_train, y_train), (x_test, y_test) = cifar10.load_data()\n",
        "\n",
        "print('Image shape: {0}'.format(x_train.shape[1:]))\n",
        "print('Total number of training samples: {0}'.format(x_train.shape[0]))\n",
        "print('Total number of validation samples: {0}'.format(x_test.shape[0]))\n",
        "\n",
        "x_train = x_train.astype('float32')\n",
        "x_test = x_test.astype('float32')\n",
        "\n",
        "# Normalize the image\n",
        "x_train /= 255\n",
        "x_test /= 255\n",
        "\n",
        "y_train_class = np_utils.to_categorical(y_train, 10)\n",
        "y_test_class = np_utils.to_categorical(y_test, 10)\n",
        "\n",
        "\n",
        "# . . . \n",
        "#Criteria\n",
        "#number of convolutional layers: 2\n",
        "#number of filters in every layer: 256 \n",
        "#activation function: RelU\n",
        "#pooling operator: MaxPooling\n",
        "\n",
        "# Define here your architecture\n",
        "model = Sequential()\n",
        "model.add(Conv2D(128, (3,3), padding='same', input_shape=x_train.shape[1:]))\n",
        "model.add(MaxPooling2D(pool_size=(2,2)))\n",
        "model.add(Conv2D(128, (3,3), padding='same', input_shape=x_train.shape[1:]))\n",
        "model.add(MaxPooling2D(pool_size=(2,2)))\n",
        "model.add(Conv2D(128, (3,3), padding='same', input_shape=x_train.shape[1:]))\n",
        "model.add(MaxPooling2D(pool_size=(2,2)))\n",
        "model.add(Conv2D(128, (3,3), padding='same', input_shape=x_train.shape[1:]))\n",
        "model.add(MaxPooling2D(pool_size=(2,2)))\n",
        "model.add(Conv2D(128, (3,3), padding='same', input_shape=x_train.shape[1:]))\n",
        "model.add(MaxPooling2D(pool_size=(2,2)))\n",
        "model.add(Activation('relu'))\n",
        "model.add(Activation('relu'))\n",
        "model.add(Flatten())\n",
        "model.add(Dense(10))\n",
        "model.add(Dense(10))\n",
        "model.add(Activation('softmax'))\n",
        "# . . . \n",
        "\n",
        "\n",
        "# initiate RMSprop optimizer\n",
        "opt = RMSprop(lr=0.0001, decay=1e-6)\n",
        "\n",
        "model.compile(loss='categorical_crossentropy', optimizer=opt, metrics=['accuracy'])\n",
        "\n",
        "history = model.fit(x_train, y_train_class, validation_data=(x_test, y_test_class), epochs=20, batch_size=32)\n",
        "score_val = model.evaluate(x_test, y_test_class, verbose=0)\n",
        "print('Validation loss:', score_val[0])\n",
        "print('Validation accuracy:', score_val[1])\n",
        "\n",
        "training_acc.append(history.history['accuracy'][-1])\n",
        "validation_acc.append(history.history['val_accuracy'][-1])\n",
        "print(validation_acc)"
      ]
    },
    {
      "cell_type": "code",
      "execution_count": null,
      "metadata": {
        "id": "QENM46adHFIF"
      },
      "outputs": [],
      "source": [
        "import matplotlib.pyplot as plt\n",
        "\n",
        "arch = [\"Model 1\", \"Model 2\", \"Model 3\", \"Model 4\", \"Model 5\"]\n",
        "print(training_acc)\n",
        "\n",
        "xvalues = np.arange(0,5,1) \n",
        "plt.bar(xvalues, training_acc, label=\"Training\", color='b') \n",
        "plt.xticks(xvalues, arch)\n",
        "plt.bar(xvalues, validation_acc, label=\"Validation\", color='g')\n",
        "plt.xticks(xvalues, arch)\n",
        "\n",
        "#plt.bar(x1, training_acc, label=\"Training\", color='b')\n",
        "#plt.bar(x2, validation_acc, label=\"Validation\", color='g')\n",
        "plt.plot()\n",
        "\n",
        "plt.xlabel(\"Architecture\")\n",
        "plt.ylabel(\"Accuracy\")\n",
        "plt.title(\"Training vs Validation Accuracy\")\n",
        "plt.legend()\n",
        "plt.show()\n",
        "\n"
      ]
    },
    {
      "cell_type": "markdown",
      "metadata": {
        "id": "3w8eUV9RDPkL"
      },
      "source": [
        "\n",
        "---\n",
        "---\n",
        "\n",
        "## Task 2: Regression\n",
        "\n",
        "Now we face a regression task instead of a classification problem. Loss function, activations, and dataset will change in the following task. Thus, instead of having one vector with the probabilities of each class, in this regression problem, the output is a single scalar. \n",
        "\n",
        "For this second task, we chose the task of estimating house prices based on input images. To get the data run the following script, which clones Ahmed and Moustafa’s [repository](https://github.com/emanhamed/Houses-dataset) into colmap."
      ]
    },
    {
      "cell_type": "code",
      "execution_count": null,
      "metadata": {
        "colab": {
          "base_uri": "https://localhost:8080/"
        },
        "id": "Ibukle2ODMEp",
        "outputId": "d6cbf228-25e8-42ec-dd97-ad007baaa03a"
      },
      "outputs": [
        {
          "output_type": "stream",
          "name": "stdout",
          "text": [
            "Cloning into 'Houses-dataset'...\n",
            "remote: Enumerating objects: 2166, done.\u001b[K\n",
            "remote: Counting objects: 100% (1/1), done.\u001b[K\n",
            "remote: Total 2166 (delta 0), reused 0 (delta 0), pack-reused 2165\u001b[K\n",
            "Receiving objects: 100% (2166/2166), 176.26 MiB | 15.78 MiB/s, done.\n",
            "Resolving deltas: 100% (20/20), done.\n",
            "Updating files: 100% (2144/2144), done.\n",
            "/content/Houses-dataset/Houses Dataset\n"
          ]
        }
      ],
      "source": [
        "!git clone https://github.com/emanhamed/Houses-dataset\n",
        "%cd /content/Houses-dataset/Houses\\ Dataset"
      ]
    },
    {
      "cell_type": "markdown",
      "metadata": {
        "id": "Ye6xldkVEV-t"
      },
      "source": [
        "This dataset contains four images of the house (kitchen, frontal, bedroom and bathroom), and attributes (number of bedrooms, number of bathrooms, zip code...). For our exercise, we only use the images of the house. We start with front door images. "
      ]
    },
    {
      "cell_type": "code",
      "execution_count": null,
      "metadata": {
        "colab": {
          "base_uri": "https://localhost:8080/",
          "height": 305
        },
        "id": "71urud9ZHq9d",
        "outputId": "ddb4fa0b-4a45-4f7f-e086-9eb9c2f614bc"
      },
      "outputs": [
        {
          "output_type": "stream",
          "name": "stdout",
          "text": [
            "We have selected bathroom images. You can switch to the kitchen, frontal, bedroom or bathroom images by changing house_section variable.\n"
          ]
        },
        {
          "output_type": "display_data",
          "data": {
            "text/plain": [
              "<Figure size 432x288 with 9 Axes>"
            ],
            "image/png": "[encoded data removed]"
          },
          "metadata": {}
        }
      ],
      "source": [
        "import cv2\n",
        "import numpy as np\n",
        "import matplotlib.pyplot as plt\n",
        "from numpy.random import seed\n",
        "\n",
        "house_section = 'bathroom' # select between: kitchen, frontal, bedroom or bathroom\n",
        "print('We have selected {} images. You can switch to the kitchen, frontal, bedroom or bathroom images by changing house_section variable.'.format(house_section))\n",
        "images = []\n",
        "for i_im in range(1, 536):\n",
        "  image = cv2.imread(str(i_im)+'_'+house_section+'.jpg')\n",
        "  image = cv2.resize(image, (64, 64))\n",
        "  images.append(image)\n",
        "\n",
        "labels = []\n",
        "f = open('HousesInfo.txt', \"r\")\n",
        "for x in f:\n",
        "  label = (x).split(' ')[-1].split('\\n')[0]\n",
        "  labels.append(label)\n",
        "\n",
        "# Let's visualize some examples\n",
        "N=3\n",
        "start_val = 0 # pick an element for the code to plot the following N**2 values\n",
        "fig, axes = plt.subplots(N,N)\n",
        "for row in range(N):\n",
        "  for col in range(N):\n",
        "    idx = start_val+row+N*col    \n",
        "    tmp = cv2.cvtColor(images[idx],cv2.COLOR_BGR2RGB)\n",
        "    axes[row,col].imshow(tmp, cmap='gray')\n",
        "    fig.subplots_adjust(hspace=0.5)\n",
        "    target = int(labels[idx])\n",
        "    axes[row,col].set_title(str(target) + '$')\n",
        "    axes[row,col].set_xticks([])\n",
        "    axes[row,col].set_yticks([])"
      ]
    },
    {
      "cell_type": "markdown",
      "metadata": {
        "id": "scNfczb73nGS"
      },
      "source": [
        "Prepare the dataset for training the model:"
      ]
    },
    {
      "cell_type": "code",
      "execution_count": null,
      "metadata": {
        "colab": {
          "base_uri": "https://localhost:8080/"
        },
        "id": "FORNJ1QU2L-t",
        "outputId": "fae87f7f-8c0a-4464-bf9d-82460fb0c659"
      },
      "outputs": [
        {
          "output_type": "stream",
          "name": "stdout",
          "text": [
            "X_train image shape: (428, 64, 64, 3)\n",
            "X_val image shape: (106, 64, 64, 3)\n",
            "Y_train labels shape: (428,)\n",
            "Y_val labels shape: (106,)\n"
          ]
        }
      ],
      "source": [
        "seed(1234)\n",
        "images = np.asarray(images).astype('float32')\n",
        "labels = np.asarray(labels).astype('float32')\n",
        "\n",
        "# Normalize the image\n",
        "max_price = labels.max()\n",
        "images /= 255.\n",
        "labels /= max_price\n",
        "\n",
        "random_idx = np.random.permutation(len(images))\n",
        "images = images[random_idx]\n",
        "labels = labels[random_idx]\n",
        "\n",
        "split_size_val = int(0.8*len(images))\n",
        "X_train, X_val = images[:split_size_val], images[split_size_val+1:]\n",
        "Y_train, Y_val = labels[:split_size_val], labels[split_size_val+1:]\n",
        "\n",
        "# Print shape of training and val images \n",
        "print('X_train image shape: {0}'.format(X_train.shape))\n",
        "print('X_val image shape: {0}'.format(X_val.shape))\n",
        "\n",
        "# Print shape of training and val labels \n",
        "print('Y_train labels shape: {0}'.format(Y_train.shape))\n",
        "print('Y_val labels shape: {0}'.format(Y_val.shape))"
      ]
    },
    {
      "cell_type": "markdown",
      "metadata": {
        "id": "JGC6dXqdM2eU"
      },
      "source": [
        "### Problem Definition\n",
        "\n",
        "Similar to the previous task, you are asked to design a CNN architecture able to perform the estimation of house prices based on the `frontal` house image. Design a new model by changing parameters such as the number of convolutional layers, activation functions, strides, or pooling operators, among others."
      ]
    },
    {
      "cell_type": "code",
      "source": [
        "import tensorflow as tf\n",
        "tf.compat.v1.logging.set_verbosity(tf.compat.v1.logging.ERROR)\n",
        "from keras.models import Sequential\n",
        "from keras.layers import Dense, Activation\n",
        "from keras.utils import np_utils\n",
        "from keras.optimizers import Adam\n",
        "from keras.layers import Conv2D, MaxPooling2D, Flatten\n",
        "tf.random.set_seed(1234)\n",
        "\n",
        "training_loss = []\n",
        "validation_loss = []\n",
        "\n",
        "chanDim = -1\n",
        "model = Sequential()\n",
        "\n",
        "# . . . \n",
        "\n",
        "\n",
        "model.add(Conv2D(16, (3,3), padding='same', input_shape=X_train.shape[1:]))\n",
        "model.add(MaxPooling2D(pool_size=(2,2)))\n",
        "model.add(Conv2D(16, (3,3), padding='same', input_shape=X_train.shape[1:]))\n",
        "model.add(MaxPooling2D(pool_size=(2,2)))\n",
        "model.add(Activation('relu'))\n",
        "model.add(Flatten())\n",
        "model.add(Dense(1))\n",
        "\n",
        "\n",
        "# . . . \n",
        "\n",
        "model.summary()\n",
        "opt = Adam(lr=1e-3, decay=1e-3 / 200)\n",
        "model.compile(loss=\"mean_absolute_percentage_error\", optimizer=opt, metrics=['mean_absolute_percentage_error'])\n",
        "\n",
        "# train the model\n",
        "print(\"[INFO] training model...\")\n",
        "history = model.fit(X_train, Y_train, validation_data=(X_val, Y_val), epochs=100, batch_size=32)\n",
        "training_loss.append(history.history['loss'][1:])\n",
        "validation_loss.append(history.history['val_loss'][1:])"
      ],
      "metadata": {
        "colab": {
          "base_uri": "https://localhost:8080/"
        },
        "id": "76pyFPhBzdxr",
        "outputId": "802774c1-75f0-46aa-af06-0b5dcb5fdb32"
      },
      "execution_count": null,
      "outputs": [
        {
          "output_type": "stream",
          "name": "stdout",
          "text": [
            "Model: \"sequential_13\"\n",
            "_________________________________________________________________\n",
            " Layer (type)                Output Shape              Param #   \n",
            "=================================================================\n",
            " conv2d_36 (Conv2D)          (None, 64, 64, 16)        448       \n",
            "                                                                 \n",
            " max_pooling2d_35 (MaxPoolin  (None, 32, 32, 16)       0         \n",
            " g2D)                                                            \n",
            "                                                                 \n",
            " conv2d_37 (Conv2D)          (None, 32, 32, 16)        2320      \n",
            "                                                                 \n",
            " max_pooling2d_36 (MaxPoolin  (None, 16, 16, 16)       0         \n",
            " g2D)                                                            \n",
            "                                                                 \n",
            " activation_22 (Activation)  (None, 16, 16, 16)        0         \n",
            "                                                                 \n",
            " flatten_12 (Flatten)        (None, 4096)              0         \n",
            "                                                                 \n",
            " dense_13 (Dense)            (None, 1)                 4097      \n",
            "                                                                 \n",
            "=================================================================\n",
            "Total params: 6,865\n",
            "Trainable params: 6,865\n",
            "Non-trainable params: 0\n",
            "_________________________________________________________________\n",
            "[INFO] training model...\n",
            "Epoch 1/100\n",
            "14/14 [==============================] - 1s 16ms/step - loss: 459.5874 - mean_absolute_percentage_error: 459.5874 - val_loss: 160.5284 - val_mean_absolute_percentage_error: 160.5284\n",
            "Epoch 2/100\n",
            "14/14 [==============================] - 0s 7ms/step - loss: 123.1808 - mean_absolute_percentage_error: 123.1808 - val_loss: 111.7258 - val_mean_absolute_percentage_error: 111.7258\n",
            "Epoch 3/100\n",
            "14/14 [==============================] - 0s 7ms/step - loss: 95.1337 - mean_absolute_percentage_error: 95.1337 - val_loss: 85.0669 - val_mean_absolute_percentage_error: 85.0669\n",
            "Epoch 4/100\n",
            "14/14 [==============================] - 0s 8ms/step - loss: 77.1826 - mean_absolute_percentage_error: 77.1826 - val_loss: 70.2202 - val_mean_absolute_percentage_error: 70.2202\n",
            "Epoch 5/100\n",
            "14/14 [==============================] - 0s 7ms/step - loss: 65.4943 - mean_absolute_percentage_error: 65.4943 - val_loss: 66.4976 - val_mean_absolute_percentage_error: 66.4976\n",
            "Epoch 6/100\n",
            "14/14 [==============================] - 0s 7ms/step - loss: 59.8138 - mean_absolute_percentage_error: 59.8138 - val_loss: 64.9749 - val_mean_absolute_percentage_error: 64.9749\n",
            "Epoch 7/100\n",
            "14/14 [==============================] - 0s 8ms/step - loss: 54.1251 - mean_absolute_percentage_error: 54.1251 - val_loss: 64.4598 - val_mean_absolute_percentage_error: 64.4598\n",
            "Epoch 8/100\n",
            "14/14 [==============================] - 0s 7ms/step - loss: 51.8039 - mean_absolute_percentage_error: 51.8039 - val_loss: 67.2578 - val_mean_absolute_percentage_error: 67.2578\n",
            "Epoch 9/100\n",
            "14/14 [==============================] - 0s 7ms/step - loss: 53.9539 - mean_absolute_percentage_error: 53.9539 - val_loss: 62.4868 - val_mean_absolute_percentage_error: 62.4868\n",
            "Epoch 10/100\n",
            "14/14 [==============================] - 0s 7ms/step - loss: 50.2136 - mean_absolute_percentage_error: 50.2136 - val_loss: 63.5667 - val_mean_absolute_percentage_error: 63.5667\n",
            "Epoch 11/100\n",
            "14/14 [==============================] - 0s 8ms/step - loss: 48.1263 - mean_absolute_percentage_error: 48.1263 - val_loss: 63.8614 - val_mean_absolute_percentage_error: 63.8614\n",
            "Epoch 12/100\n",
            "14/14 [==============================] - 0s 8ms/step - loss: 48.2812 - mean_absolute_percentage_error: 48.2812 - val_loss: 64.4516 - val_mean_absolute_percentage_error: 64.4516\n",
            "Epoch 13/100\n",
            "14/14 [==============================] - 0s 7ms/step - loss: 46.6942 - mean_absolute_percentage_error: 46.6942 - val_loss: 64.5551 - val_mean_absolute_percentage_error: 64.5551\n",
            "Epoch 14/100\n",
            "14/14 [==============================] - 0s 7ms/step - loss: 46.0087 - mean_absolute_percentage_error: 46.0087 - val_loss: 67.3308 - val_mean_absolute_percentage_error: 67.3308\n",
            "Epoch 15/100\n",
            "14/14 [==============================] - 0s 7ms/step - loss: 43.1317 - mean_absolute_percentage_error: 43.1317 - val_loss: 67.6097 - val_mean_absolute_percentage_error: 67.6097\n",
            "Epoch 16/100\n",
            "14/14 [==============================] - 0s 7ms/step - loss: 43.3387 - mean_absolute_percentage_error: 43.3387 - val_loss: 66.1845 - val_mean_absolute_percentage_error: 66.1845\n",
            "Epoch 17/100\n",
            "14/14 [==============================] - 0s 8ms/step - loss: 42.5757 - mean_absolute_percentage_error: 42.5757 - val_loss: 69.2121 - val_mean_absolute_percentage_error: 69.2121\n",
            "Epoch 18/100\n",
            "14/14 [==============================] - 0s 7ms/step - loss: 43.1937 - mean_absolute_percentage_error: 43.1937 - val_loss: 68.6868 - val_mean_absolute_percentage_error: 68.6868\n",
            "Epoch 19/100\n",
            "14/14 [==============================] - 0s 8ms/step - loss: 43.3422 - mean_absolute_percentage_error: 43.3422 - val_loss: 70.9741 - val_mean_absolute_percentage_error: 70.9741\n",
            "Epoch 20/100\n",
            "14/14 [==============================] - 0s 8ms/step - loss: 42.9946 - mean_absolute_percentage_error: 42.9946 - val_loss: 71.4531 - val_mean_absolute_percentage_error: 71.4531\n",
            "Epoch 21/100\n",
            "14/14 [==============================] - 0s 8ms/step - loss: 42.7484 - mean_absolute_percentage_error: 42.7484 - val_loss: 67.7274 - val_mean_absolute_percentage_error: 67.7274\n",
            "Epoch 22/100\n",
            "14/14 [==============================] - 0s 7ms/step - loss: 36.4034 - mean_absolute_percentage_error: 36.4034 - val_loss: 66.1809 - val_mean_absolute_percentage_error: 66.1809\n",
            "Epoch 23/100\n",
            "14/14 [==============================] - 0s 7ms/step - loss: 35.5094 - mean_absolute_percentage_error: 35.5094 - val_loss: 64.4550 - val_mean_absolute_percentage_error: 64.4550\n",
            "Epoch 24/100\n",
            "14/14 [==============================] - 0s 7ms/step - loss: 33.9833 - mean_absolute_percentage_error: 33.9833 - val_loss: 71.5868 - val_mean_absolute_percentage_error: 71.5868\n",
            "Epoch 25/100\n",
            "14/14 [==============================] - 0s 7ms/step - loss: 37.0591 - mean_absolute_percentage_error: 37.0591 - val_loss: 64.8816 - val_mean_absolute_percentage_error: 64.8816\n",
            "Epoch 26/100\n",
            "14/14 [==============================] - 0s 8ms/step - loss: 34.1321 - mean_absolute_percentage_error: 34.1321 - val_loss: 65.2971 - val_mean_absolute_percentage_error: 65.2971\n",
            "Epoch 27/100\n",
            "14/14 [==============================] - 0s 8ms/step - loss: 36.6858 - mean_absolute_percentage_error: 36.6858 - val_loss: 72.1328 - val_mean_absolute_percentage_error: 72.1328\n",
            "Epoch 28/100\n",
            "14/14 [==============================] - 0s 12ms/step - loss: 36.8058 - mean_absolute_percentage_error: 36.8058 - val_loss: 67.4297 - val_mean_absolute_percentage_error: 67.4297\n",
            "Epoch 29/100\n",
            "14/14 [==============================] - 0s 18ms/step - loss: 35.5489 - mean_absolute_percentage_error: 35.5489 - val_loss: 68.6114 - val_mean_absolute_percentage_error: 68.6114\n",
            "Epoch 30/100\n",
            "14/14 [==============================] - 0s 21ms/step - loss: 34.0753 - mean_absolute_percentage_error: 34.0753 - val_loss: 69.0466 - val_mean_absolute_percentage_error: 69.0466\n",
            "Epoch 31/100\n",
            "14/14 [==============================] - 0s 10ms/step - loss: 34.2470 - mean_absolute_percentage_error: 34.2470 - val_loss: 66.5072 - val_mean_absolute_percentage_error: 66.5072\n",
            "Epoch 32/100\n",
            "14/14 [==============================] - 0s 20ms/step - loss: 31.8680 - mean_absolute_percentage_error: 31.8680 - val_loss: 62.6358 - val_mean_absolute_percentage_error: 62.6358\n",
            "Epoch 33/100\n",
            "14/14 [==============================] - 0s 12ms/step - loss: 30.0859 - mean_absolute_percentage_error: 30.0859 - val_loss: 65.3405 - val_mean_absolute_percentage_error: 65.3405\n",
            "Epoch 34/100\n",
            "14/14 [==============================] - 0s 10ms/step - loss: 30.7480 - mean_absolute_percentage_error: 30.7480 - val_loss: 72.4360 - val_mean_absolute_percentage_error: 72.4360\n",
            "Epoch 35/100\n",
            "14/14 [==============================] - 0s 10ms/step - loss: 37.2410 - mean_absolute_percentage_error: 37.2410 - val_loss: 65.9652 - val_mean_absolute_percentage_error: 65.9652\n",
            "Epoch 36/100\n",
            "14/14 [==============================] - 0s 17ms/step - loss: 32.5230 - mean_absolute_percentage_error: 32.5230 - val_loss: 63.0319 - val_mean_absolute_percentage_error: 63.0319\n",
            "Epoch 37/100\n",
            "14/14 [==============================] - 0s 8ms/step - loss: 31.7726 - mean_absolute_percentage_error: 31.7726 - val_loss: 69.6534 - val_mean_absolute_percentage_error: 69.6534\n",
            "Epoch 38/100\n",
            "14/14 [==============================] - 0s 8ms/step - loss: 28.9582 - mean_absolute_percentage_error: 28.9582 - val_loss: 64.6704 - val_mean_absolute_percentage_error: 64.6704\n",
            "Epoch 39/100\n",
            "14/14 [==============================] - 0s 7ms/step - loss: 33.5752 - mean_absolute_percentage_error: 33.5752 - val_loss: 67.1499 - val_mean_absolute_percentage_error: 67.1499\n",
            "Epoch 40/100\n",
            "14/14 [==============================] - 0s 7ms/step - loss: 29.1802 - mean_absolute_percentage_error: 29.1802 - val_loss: 66.1003 - val_mean_absolute_percentage_error: 66.1003\n",
            "Epoch 41/100\n",
            "14/14 [==============================] - 0s 7ms/step - loss: 31.6110 - mean_absolute_percentage_error: 31.6110 - val_loss: 69.2526 - val_mean_absolute_percentage_error: 69.2526\n",
            "Epoch 42/100\n",
            "14/14 [==============================] - 0s 8ms/step - loss: 30.0159 - mean_absolute_percentage_error: 30.0159 - val_loss: 66.4312 - val_mean_absolute_percentage_error: 66.4312\n",
            "Epoch 43/100\n",
            "14/14 [==============================] - 0s 7ms/step - loss: 26.8175 - mean_absolute_percentage_error: 26.8175 - val_loss: 65.1205 - val_mean_absolute_percentage_error: 65.1205\n",
            "Epoch 44/100\n",
            "14/14 [==============================] - 0s 7ms/step - loss: 26.0146 - mean_absolute_percentage_error: 26.0146 - val_loss: 69.9310 - val_mean_absolute_percentage_error: 69.9310\n",
            "Epoch 45/100\n",
            "14/14 [==============================] - 0s 7ms/step - loss: 28.6937 - mean_absolute_percentage_error: 28.6937 - val_loss: 65.4863 - val_mean_absolute_percentage_error: 65.4863\n",
            "Epoch 46/100\n",
            "14/14 [==============================] - 0s 8ms/step - loss: 29.3710 - mean_absolute_percentage_error: 29.3710 - val_loss: 68.7650 - val_mean_absolute_percentage_error: 68.7650\n",
            "Epoch 47/100\n",
            "14/14 [==============================] - 0s 8ms/step - loss: 27.7562 - mean_absolute_percentage_error: 27.7562 - val_loss: 64.8514 - val_mean_absolute_percentage_error: 64.8514\n",
            "Epoch 48/100\n",
            "14/14 [==============================] - 0s 9ms/step - loss: 30.4134 - mean_absolute_percentage_error: 30.4134 - val_loss: 60.8941 - val_mean_absolute_percentage_error: 60.8941\n",
            "Epoch 49/100\n",
            "14/14 [==============================] - 0s 7ms/step - loss: 31.0972 - mean_absolute_percentage_error: 31.0972 - val_loss: 70.4643 - val_mean_absolute_percentage_error: 70.4643\n",
            "Epoch 50/100\n",
            "14/14 [==============================] - 0s 8ms/step - loss: 31.6258 - mean_absolute_percentage_error: 31.6258 - val_loss: 69.9584 - val_mean_absolute_percentage_error: 69.9584\n",
            "Epoch 51/100\n",
            "14/14 [==============================] - 0s 8ms/step - loss: 31.8464 - mean_absolute_percentage_error: 31.8464 - val_loss: 70.7575 - val_mean_absolute_percentage_error: 70.7575\n",
            "Epoch 52/100\n",
            "14/14 [==============================] - 0s 7ms/step - loss: 29.0766 - mean_absolute_percentage_error: 29.0766 - val_loss: 64.8262 - val_mean_absolute_percentage_error: 64.8262\n",
            "Epoch 53/100\n",
            "14/14 [==============================] - 0s 8ms/step - loss: 29.6403 - mean_absolute_percentage_error: 29.6403 - val_loss: 65.2659 - val_mean_absolute_percentage_error: 65.2659\n",
            "Epoch 54/100\n",
            "14/14 [==============================] - 0s 7ms/step - loss: 26.9963 - mean_absolute_percentage_error: 26.9963 - val_loss: 70.2253 - val_mean_absolute_percentage_error: 70.2253\n",
            "Epoch 55/100\n",
            "14/14 [==============================] - 0s 7ms/step - loss: 25.6494 - mean_absolute_percentage_error: 25.6494 - val_loss: 73.4233 - val_mean_absolute_percentage_error: 73.4233\n",
            "Epoch 56/100\n",
            "14/14 [==============================] - 0s 7ms/step - loss: 27.9428 - mean_absolute_percentage_error: 27.9428 - val_loss: 66.1717 - val_mean_absolute_percentage_error: 66.1717\n",
            "Epoch 57/100\n",
            "14/14 [==============================] - 0s 8ms/step - loss: 26.4359 - mean_absolute_percentage_error: 26.4359 - val_loss: 70.3865 - val_mean_absolute_percentage_error: 70.3865\n",
            "Epoch 58/100\n",
            "14/14 [==============================] - 0s 7ms/step - loss: 25.2316 - mean_absolute_percentage_error: 25.2316 - val_loss: 69.6149 - val_mean_absolute_percentage_error: 69.6149\n",
            "Epoch 59/100\n",
            "14/14 [==============================] - 0s 7ms/step - loss: 26.6308 - mean_absolute_percentage_error: 26.6308 - val_loss: 73.3923 - val_mean_absolute_percentage_error: 73.3923\n",
            "Epoch 60/100\n",
            "14/14 [==============================] - 0s 8ms/step - loss: 24.9889 - mean_absolute_percentage_error: 24.9889 - val_loss: 65.0940 - val_mean_absolute_percentage_error: 65.0940\n",
            "Epoch 61/100\n",
            "14/14 [==============================] - 0s 8ms/step - loss: 27.6531 - mean_absolute_percentage_error: 27.6531 - val_loss: 69.9591 - val_mean_absolute_percentage_error: 69.9591\n",
            "Epoch 62/100\n",
            "14/14 [==============================] - 0s 8ms/step - loss: 26.4667 - mean_absolute_percentage_error: 26.4667 - val_loss: 69.7591 - val_mean_absolute_percentage_error: 69.7591\n",
            "Epoch 63/100\n",
            "14/14 [==============================] - 0s 8ms/step - loss: 26.1711 - mean_absolute_percentage_error: 26.1711 - val_loss: 68.9180 - val_mean_absolute_percentage_error: 68.9180\n",
            "Epoch 64/100\n",
            "14/14 [==============================] - 0s 7ms/step - loss: 23.7786 - mean_absolute_percentage_error: 23.7786 - val_loss: 67.3178 - val_mean_absolute_percentage_error: 67.3178\n",
            "Epoch 65/100\n",
            "14/14 [==============================] - 0s 7ms/step - loss: 26.9209 - mean_absolute_percentage_error: 26.9209 - val_loss: 70.1602 - val_mean_absolute_percentage_error: 70.1602\n",
            "Epoch 66/100\n",
            "14/14 [==============================] - 0s 7ms/step - loss: 25.3835 - mean_absolute_percentage_error: 25.3835 - val_loss: 68.5119 - val_mean_absolute_percentage_error: 68.5119\n",
            "Epoch 67/100\n",
            "14/14 [==============================] - 0s 8ms/step - loss: 24.5350 - mean_absolute_percentage_error: 24.5350 - val_loss: 66.1138 - val_mean_absolute_percentage_error: 66.1138\n",
            "Epoch 68/100\n",
            "14/14 [==============================] - 0s 8ms/step - loss: 25.4287 - mean_absolute_percentage_error: 25.4287 - val_loss: 69.2763 - val_mean_absolute_percentage_error: 69.2763\n",
            "Epoch 69/100\n",
            "14/14 [==============================] - 0s 7ms/step - loss: 25.5622 - mean_absolute_percentage_error: 25.5622 - val_loss: 72.8383 - val_mean_absolute_percentage_error: 72.8383\n",
            "Epoch 70/100\n",
            "14/14 [==============================] - 0s 7ms/step - loss: 29.8630 - mean_absolute_percentage_error: 29.8630 - val_loss: 64.6778 - val_mean_absolute_percentage_error: 64.6778\n",
            "Epoch 71/100\n",
            "14/14 [==============================] - 0s 8ms/step - loss: 28.6573 - mean_absolute_percentage_error: 28.6573 - val_loss: 67.4766 - val_mean_absolute_percentage_error: 67.4766\n",
            "Epoch 72/100\n",
            "14/14 [==============================] - 0s 7ms/step - loss: 23.7247 - mean_absolute_percentage_error: 23.7247 - val_loss: 67.3147 - val_mean_absolute_percentage_error: 67.3147\n",
            "Epoch 73/100\n",
            "14/14 [==============================] - 0s 7ms/step - loss: 23.9988 - mean_absolute_percentage_error: 23.9988 - val_loss: 65.9208 - val_mean_absolute_percentage_error: 65.9208\n",
            "Epoch 74/100\n",
            "14/14 [==============================] - 0s 8ms/step - loss: 23.4000 - mean_absolute_percentage_error: 23.4000 - val_loss: 69.9606 - val_mean_absolute_percentage_error: 69.9606\n",
            "Epoch 75/100\n",
            "14/14 [==============================] - 0s 9ms/step - loss: 22.5111 - mean_absolute_percentage_error: 22.5111 - val_loss: 70.1300 - val_mean_absolute_percentage_error: 70.1300\n",
            "Epoch 76/100\n",
            "14/14 [==============================] - 0s 8ms/step - loss: 21.4127 - mean_absolute_percentage_error: 21.4127 - val_loss: 71.2136 - val_mean_absolute_percentage_error: 71.2136\n",
            "Epoch 77/100\n",
            "14/14 [==============================] - 0s 7ms/step - loss: 21.7188 - mean_absolute_percentage_error: 21.7188 - val_loss: 69.9736 - val_mean_absolute_percentage_error: 69.9736\n",
            "Epoch 78/100\n",
            "14/14 [==============================] - 0s 7ms/step - loss: 23.7185 - mean_absolute_percentage_error: 23.7185 - val_loss: 74.4755 - val_mean_absolute_percentage_error: 74.4755\n",
            "Epoch 79/100\n",
            "14/14 [==============================] - 0s 7ms/step - loss: 26.2558 - mean_absolute_percentage_error: 26.2558 - val_loss: 67.8276 - val_mean_absolute_percentage_error: 67.8276\n",
            "Epoch 80/100\n",
            "14/14 [==============================] - 0s 8ms/step - loss: 23.0913 - mean_absolute_percentage_error: 23.0913 - val_loss: 76.3350 - val_mean_absolute_percentage_error: 76.3350\n",
            "Epoch 81/100\n",
            "14/14 [==============================] - 0s 7ms/step - loss: 23.8173 - mean_absolute_percentage_error: 23.8173 - val_loss: 72.3500 - val_mean_absolute_percentage_error: 72.3500\n",
            "Epoch 82/100\n",
            "14/14 [==============================] - 0s 7ms/step - loss: 24.6710 - mean_absolute_percentage_error: 24.6710 - val_loss: 72.8960 - val_mean_absolute_percentage_error: 72.8960\n",
            "Epoch 83/100\n",
            "14/14 [==============================] - 0s 7ms/step - loss: 21.7768 - mean_absolute_percentage_error: 21.7768 - val_loss: 70.6906 - val_mean_absolute_percentage_error: 70.6906\n",
            "Epoch 84/100\n",
            "14/14 [==============================] - 0s 7ms/step - loss: 19.7548 - mean_absolute_percentage_error: 19.7548 - val_loss: 69.1694 - val_mean_absolute_percentage_error: 69.1694\n",
            "Epoch 85/100\n",
            "14/14 [==============================] - 0s 7ms/step - loss: 22.4657 - mean_absolute_percentage_error: 22.4657 - val_loss: 69.6750 - val_mean_absolute_percentage_error: 69.6750\n",
            "Epoch 86/100\n",
            "14/14 [==============================] - 0s 8ms/step - loss: 22.9759 - mean_absolute_percentage_error: 22.9759 - val_loss: 77.5645 - val_mean_absolute_percentage_error: 77.5645\n",
            "Epoch 87/100\n",
            "14/14 [==============================] - 0s 7ms/step - loss: 22.6182 - mean_absolute_percentage_error: 22.6182 - val_loss: 66.5593 - val_mean_absolute_percentage_error: 66.5593\n",
            "Epoch 88/100\n",
            "14/14 [==============================] - 0s 8ms/step - loss: 23.5384 - mean_absolute_percentage_error: 23.5384 - val_loss: 67.5280 - val_mean_absolute_percentage_error: 67.5280\n",
            "Epoch 89/100\n",
            "14/14 [==============================] - 0s 8ms/step - loss: 24.4542 - mean_absolute_percentage_error: 24.4542 - val_loss: 76.1754 - val_mean_absolute_percentage_error: 76.1754\n",
            "Epoch 90/100\n",
            "14/14 [==============================] - 0s 7ms/step - loss: 26.0684 - mean_absolute_percentage_error: 26.0684 - val_loss: 71.1786 - val_mean_absolute_percentage_error: 71.1786\n",
            "Epoch 91/100\n",
            "14/14 [==============================] - 0s 8ms/step - loss: 26.8655 - mean_absolute_percentage_error: 26.8655 - val_loss: 69.6510 - val_mean_absolute_percentage_error: 69.6510\n",
            "Epoch 92/100\n",
            "14/14 [==============================] - 0s 8ms/step - loss: 23.0008 - mean_absolute_percentage_error: 23.0008 - val_loss: 73.4112 - val_mean_absolute_percentage_error: 73.4112\n",
            "Epoch 93/100\n",
            "14/14 [==============================] - 0s 8ms/step - loss: 22.0997 - mean_absolute_percentage_error: 22.0997 - val_loss: 72.6547 - val_mean_absolute_percentage_error: 72.6547\n",
            "Epoch 94/100\n",
            "14/14 [==============================] - 0s 8ms/step - loss: 22.1115 - mean_absolute_percentage_error: 22.1115 - val_loss: 72.8692 - val_mean_absolute_percentage_error: 72.8692\n",
            "Epoch 95/100\n",
            "14/14 [==============================] - 0s 7ms/step - loss: 22.7593 - mean_absolute_percentage_error: 22.7593 - val_loss: 69.8266 - val_mean_absolute_percentage_error: 69.8266\n",
            "Epoch 96/100\n",
            "14/14 [==============================] - 0s 8ms/step - loss: 23.3267 - mean_absolute_percentage_error: 23.3267 - val_loss: 73.6196 - val_mean_absolute_percentage_error: 73.6196\n",
            "Epoch 97/100\n",
            "14/14 [==============================] - 0s 8ms/step - loss: 23.7328 - mean_absolute_percentage_error: 23.7328 - val_loss: 73.0705 - val_mean_absolute_percentage_error: 73.0705\n",
            "Epoch 98/100\n",
            "14/14 [==============================] - 0s 8ms/step - loss: 23.0994 - mean_absolute_percentage_error: 23.0994 - val_loss: 74.5784 - val_mean_absolute_percentage_error: 74.5784\n",
            "Epoch 99/100\n",
            "14/14 [==============================] - 0s 7ms/step - loss: 20.8755 - mean_absolute_percentage_error: 20.8755 - val_loss: 70.8965 - val_mean_absolute_percentage_error: 70.8965\n",
            "Epoch 100/100\n",
            "14/14 [==============================] - 0s 7ms/step - loss: 21.7677 - mean_absolute_percentage_error: 21.7677 - val_loss: 72.7496 - val_mean_absolute_percentage_error: 72.7496\n"
          ]
        }
      ]
    },
    {
      "cell_type": "code",
      "source": [
        "chanDim = -1\n",
        "model = Sequential()\n",
        "\n",
        "# . . . \n",
        "\n",
        "model.add(Conv2D(32, (3,3), padding='same', input_shape=X_train.shape[1:]))\n",
        "model.add(MaxPooling2D(pool_size=(2,2)))\n",
        "model.add(Conv2D(32, (3,3), padding='same', input_shape=X_train.shape[1:]))\n",
        "model.add(MaxPooling2D(pool_size=(2,2)))\n",
        "model.add(Conv2D(32, (3,3), padding='same', input_shape=X_train.shape[1:]))\n",
        "model.add(MaxPooling2D(pool_size=(2,2)))\n",
        "model.add(Activation('relu'))\n",
        "model.add(Activation('relu'))\n",
        "model.add(Flatten())\n",
        "model.add(Dense(1))\n",
        "\n",
        "# . . . \n",
        "\n",
        "model.summary()\n",
        "opt = Adam(lr=1e-3, decay=1e-3 / 200)\n",
        "model.compile(loss=\"mean_absolute_percentage_error\", optimizer=opt, metrics=['mean_absolute_percentage_error'])\n",
        "\n",
        "# train the model\n",
        "print(\"[INFO] training model...\")\n",
        "history = model.fit(X_train, Y_train, validation_data=(X_val, Y_val), epochs=100, batch_size=32)\n",
        "training_loss.append(history.history['loss'][1:])\n",
        "validation_loss.append(history.history['val_loss'][1:])"
      ],
      "metadata": {
        "colab": {
          "base_uri": "https://localhost:8080/"
        },
        "id": "ARBXHF8n10ye",
        "outputId": "5ca96bcd-6a7a-4cd8-8c6a-025451df3207"
      },
      "execution_count": null,
      "outputs": [
        {
          "output_type": "stream",
          "name": "stdout",
          "text": [
            "Model: \"sequential_21\"\n",
            "_________________________________________________________________\n",
            " Layer (type)                Output Shape              Param #   \n",
            "=================================================================\n",
            " conv2d_59 (Conv2D)          (None, 64, 64, 32)        896       \n",
            "                                                                 \n",
            " max_pooling2d_58 (MaxPoolin  (None, 32, 32, 32)       0         \n",
            " g2D)                                                            \n",
            "                                                                 \n",
            " conv2d_60 (Conv2D)          (None, 32, 32, 32)        9248      \n",
            "                                                                 \n",
            " max_pooling2d_59 (MaxPoolin  (None, 16, 16, 32)       0         \n",
            " g2D)                                                            \n",
            "                                                                 \n",
            " conv2d_61 (Conv2D)          (None, 16, 16, 32)        9248      \n",
            "                                                                 \n",
            " max_pooling2d_60 (MaxPoolin  (None, 8, 8, 32)         0         \n",
            " g2D)                                                            \n",
            "                                                                 \n",
            " activation_37 (Activation)  (None, 8, 8, 32)          0         \n",
            "                                                                 \n",
            " activation_38 (Activation)  (None, 8, 8, 32)          0         \n",
            "                                                                 \n",
            " flatten_20 (Flatten)        (None, 2048)              0         \n",
            "                                                                 \n",
            " dense_21 (Dense)            (None, 1)                 2049      \n",
            "                                                                 \n",
            "=================================================================\n",
            "Total params: 21,441\n",
            "Trainable params: 21,441\n",
            "Non-trainable params: 0\n",
            "_________________________________________________________________\n",
            "[INFO] training model...\n",
            "Epoch 1/100\n",
            "14/14 [==============================] - 1s 18ms/step - loss: 240.7905 - mean_absolute_percentage_error: 240.7905 - val_loss: 104.5951 - val_mean_absolute_percentage_error: 104.5951\n",
            "Epoch 2/100\n",
            "14/14 [==============================] - 0s 8ms/step - loss: 88.7028 - mean_absolute_percentage_error: 88.7028 - val_loss: 98.2116 - val_mean_absolute_percentage_error: 98.2116\n",
            "Epoch 3/100\n",
            "14/14 [==============================] - 0s 8ms/step - loss: 77.5994 - mean_absolute_percentage_error: 77.5994 - val_loss: 74.6909 - val_mean_absolute_percentage_error: 74.6909\n",
            "Epoch 4/100\n",
            "14/14 [==============================] - 0s 9ms/step - loss: 65.8357 - mean_absolute_percentage_error: 65.8357 - val_loss: 73.4194 - val_mean_absolute_percentage_error: 73.4194\n",
            "Epoch 5/100\n",
            "14/14 [==============================] - 0s 8ms/step - loss: 61.7319 - mean_absolute_percentage_error: 61.7319 - val_loss: 69.2543 - val_mean_absolute_percentage_error: 69.2543\n",
            "Epoch 6/100\n",
            "14/14 [==============================] - 0s 8ms/step - loss: 59.5127 - mean_absolute_percentage_error: 59.5127 - val_loss: 68.1264 - val_mean_absolute_percentage_error: 68.1264\n",
            "Epoch 7/100\n",
            "14/14 [==============================] - 0s 9ms/step - loss: 59.8191 - mean_absolute_percentage_error: 59.8191 - val_loss: 68.6029 - val_mean_absolute_percentage_error: 68.6029\n",
            "Epoch 8/100\n",
            "14/14 [==============================] - 0s 8ms/step - loss: 62.2214 - mean_absolute_percentage_error: 62.2214 - val_loss: 68.1669 - val_mean_absolute_percentage_error: 68.1669\n",
            "Epoch 9/100\n",
            "14/14 [==============================] - 0s 8ms/step - loss: 62.5489 - mean_absolute_percentage_error: 62.5489 - val_loss: 68.6562 - val_mean_absolute_percentage_error: 68.6562\n",
            "Epoch 10/100\n",
            "14/14 [==============================] - 0s 8ms/step - loss: 56.7284 - mean_absolute_percentage_error: 56.7284 - val_loss: 75.1743 - val_mean_absolute_percentage_error: 75.1743\n",
            "Epoch 11/100\n",
            "14/14 [==============================] - 0s 8ms/step - loss: 60.4782 - mean_absolute_percentage_error: 60.4782 - val_loss: 62.6376 - val_mean_absolute_percentage_error: 62.6376\n",
            "Epoch 12/100\n",
            "14/14 [==============================] - 0s 9ms/step - loss: 57.1458 - mean_absolute_percentage_error: 57.1458 - val_loss: 68.1607 - val_mean_absolute_percentage_error: 68.1607\n",
            "Epoch 13/100\n",
            "14/14 [==============================] - 0s 8ms/step - loss: 59.1405 - mean_absolute_percentage_error: 59.1405 - val_loss: 72.8906 - val_mean_absolute_percentage_error: 72.8906\n",
            "Epoch 14/100\n",
            "14/14 [==============================] - 0s 7ms/step - loss: 54.0952 - mean_absolute_percentage_error: 54.0952 - val_loss: 62.3916 - val_mean_absolute_percentage_error: 62.3916\n",
            "Epoch 15/100\n",
            "14/14 [==============================] - 0s 7ms/step - loss: 57.8355 - mean_absolute_percentage_error: 57.8355 - val_loss: 61.4155 - val_mean_absolute_percentage_error: 61.4155\n",
            "Epoch 16/100\n",
            "14/14 [==============================] - 0s 7ms/step - loss: 54.7390 - mean_absolute_percentage_error: 54.7390 - val_loss: 61.7961 - val_mean_absolute_percentage_error: 61.7961\n",
            "Epoch 17/100\n",
            "14/14 [==============================] - 0s 9ms/step - loss: 50.2337 - mean_absolute_percentage_error: 50.2337 - val_loss: 67.5156 - val_mean_absolute_percentage_error: 67.5156\n",
            "Epoch 18/100\n",
            "14/14 [==============================] - 0s 9ms/step - loss: 49.1677 - mean_absolute_percentage_error: 49.1677 - val_loss: 65.8030 - val_mean_absolute_percentage_error: 65.8030\n",
            "Epoch 19/100\n",
            "14/14 [==============================] - 0s 8ms/step - loss: 49.4380 - mean_absolute_percentage_error: 49.4380 - val_loss: 68.6149 - val_mean_absolute_percentage_error: 68.6149\n",
            "Epoch 20/100\n",
            "14/14 [==============================] - 0s 7ms/step - loss: 46.1563 - mean_absolute_percentage_error: 46.1563 - val_loss: 61.3433 - val_mean_absolute_percentage_error: 61.3433\n",
            "Epoch 21/100\n",
            "14/14 [==============================] - 0s 7ms/step - loss: 45.5149 - mean_absolute_percentage_error: 45.5149 - val_loss: 65.4448 - val_mean_absolute_percentage_error: 65.4448\n",
            "Epoch 22/100\n",
            "14/14 [==============================] - 0s 8ms/step - loss: 47.6574 - mean_absolute_percentage_error: 47.6574 - val_loss: 61.3785 - val_mean_absolute_percentage_error: 61.3785\n",
            "Epoch 23/100\n",
            "14/14 [==============================] - 0s 7ms/step - loss: 46.5526 - mean_absolute_percentage_error: 46.5526 - val_loss: 66.2838 - val_mean_absolute_percentage_error: 66.2838\n",
            "Epoch 24/100\n",
            "14/14 [==============================] - 0s 7ms/step - loss: 41.8983 - mean_absolute_percentage_error: 41.8983 - val_loss: 63.8111 - val_mean_absolute_percentage_error: 63.8111\n",
            "Epoch 25/100\n",
            "14/14 [==============================] - 0s 8ms/step - loss: 43.9723 - mean_absolute_percentage_error: 43.9723 - val_loss: 69.0034 - val_mean_absolute_percentage_error: 69.0034\n",
            "Epoch 26/100\n",
            "14/14 [==============================] - 0s 7ms/step - loss: 45.3190 - mean_absolute_percentage_error: 45.3190 - val_loss: 66.2149 - val_mean_absolute_percentage_error: 66.2149\n",
            "Epoch 27/100\n",
            "14/14 [==============================] - 0s 9ms/step - loss: 48.7915 - mean_absolute_percentage_error: 48.7915 - val_loss: 67.9529 - val_mean_absolute_percentage_error: 67.9529\n",
            "Epoch 28/100\n",
            "14/14 [==============================] - 0s 7ms/step - loss: 46.2928 - mean_absolute_percentage_error: 46.2928 - val_loss: 65.1075 - val_mean_absolute_percentage_error: 65.1075\n",
            "Epoch 29/100\n",
            "14/14 [==============================] - 0s 7ms/step - loss: 42.8652 - mean_absolute_percentage_error: 42.8652 - val_loss: 66.6323 - val_mean_absolute_percentage_error: 66.6323\n",
            "Epoch 30/100\n",
            "14/14 [==============================] - 0s 8ms/step - loss: 40.0827 - mean_absolute_percentage_error: 40.0827 - val_loss: 61.8135 - val_mean_absolute_percentage_error: 61.8135\n",
            "Epoch 31/100\n",
            "14/14 [==============================] - 0s 7ms/step - loss: 42.3524 - mean_absolute_percentage_error: 42.3524 - val_loss: 68.8892 - val_mean_absolute_percentage_error: 68.8892\n",
            "Epoch 32/100\n",
            "14/14 [==============================] - 0s 8ms/step - loss: 42.0119 - mean_absolute_percentage_error: 42.0119 - val_loss: 61.7511 - val_mean_absolute_percentage_error: 61.7511\n",
            "Epoch 33/100\n",
            "14/14 [==============================] - 0s 9ms/step - loss: 39.1784 - mean_absolute_percentage_error: 39.1784 - val_loss: 67.1528 - val_mean_absolute_percentage_error: 67.1528\n",
            "Epoch 34/100\n",
            "14/14 [==============================] - 0s 8ms/step - loss: 38.7331 - mean_absolute_percentage_error: 38.7331 - val_loss: 64.7061 - val_mean_absolute_percentage_error: 64.7061\n",
            "Epoch 35/100\n",
            "14/14 [==============================] - 0s 9ms/step - loss: 41.7104 - mean_absolute_percentage_error: 41.7104 - val_loss: 66.0345 - val_mean_absolute_percentage_error: 66.0345\n",
            "Epoch 36/100\n",
            "14/14 [==============================] - 0s 8ms/step - loss: 41.1582 - mean_absolute_percentage_error: 41.1582 - val_loss: 64.1992 - val_mean_absolute_percentage_error: 64.1992\n",
            "Epoch 37/100\n",
            "14/14 [==============================] - 0s 8ms/step - loss: 42.2190 - mean_absolute_percentage_error: 42.2190 - val_loss: 61.8002 - val_mean_absolute_percentage_error: 61.8002\n",
            "Epoch 38/100\n",
            "14/14 [==============================] - 0s 9ms/step - loss: 40.0417 - mean_absolute_percentage_error: 40.0417 - val_loss: 64.4956 - val_mean_absolute_percentage_error: 64.4956\n",
            "Epoch 39/100\n",
            "14/14 [==============================] - 0s 9ms/step - loss: 42.3983 - mean_absolute_percentage_error: 42.3983 - val_loss: 67.9005 - val_mean_absolute_percentage_error: 67.9005\n",
            "Epoch 40/100\n",
            "14/14 [==============================] - 0s 7ms/step - loss: 39.2549 - mean_absolute_percentage_error: 39.2549 - val_loss: 61.8297 - val_mean_absolute_percentage_error: 61.8297\n",
            "Epoch 41/100\n",
            "14/14 [==============================] - 0s 8ms/step - loss: 34.7384 - mean_absolute_percentage_error: 34.7384 - val_loss: 65.6677 - val_mean_absolute_percentage_error: 65.6677\n",
            "Epoch 42/100\n",
            "14/14 [==============================] - 0s 8ms/step - loss: 36.5803 - mean_absolute_percentage_error: 36.5803 - val_loss: 63.9537 - val_mean_absolute_percentage_error: 63.9537\n",
            "Epoch 43/100\n",
            "14/14 [==============================] - 0s 8ms/step - loss: 32.0827 - mean_absolute_percentage_error: 32.0827 - val_loss: 69.9309 - val_mean_absolute_percentage_error: 69.9309\n",
            "Epoch 44/100\n",
            "14/14 [==============================] - 0s 9ms/step - loss: 30.9777 - mean_absolute_percentage_error: 30.9777 - val_loss: 65.2258 - val_mean_absolute_percentage_error: 65.2258\n",
            "Epoch 45/100\n",
            "14/14 [==============================] - 0s 8ms/step - loss: 32.2634 - mean_absolute_percentage_error: 32.2634 - val_loss: 68.8503 - val_mean_absolute_percentage_error: 68.8503\n",
            "Epoch 46/100\n",
            "14/14 [==============================] - 0s 7ms/step - loss: 31.2799 - mean_absolute_percentage_error: 31.2799 - val_loss: 64.5079 - val_mean_absolute_percentage_error: 64.5079\n",
            "Epoch 47/100\n",
            "14/14 [==============================] - 0s 8ms/step - loss: 31.9939 - mean_absolute_percentage_error: 31.9939 - val_loss: 59.3865 - val_mean_absolute_percentage_error: 59.3865\n",
            "Epoch 48/100\n",
            "14/14 [==============================] - 0s 8ms/step - loss: 31.2809 - mean_absolute_percentage_error: 31.2809 - val_loss: 64.7074 - val_mean_absolute_percentage_error: 64.7074\n",
            "Epoch 49/100\n",
            "14/14 [==============================] - 0s 8ms/step - loss: 28.9313 - mean_absolute_percentage_error: 28.9313 - val_loss: 69.2123 - val_mean_absolute_percentage_error: 69.2123\n",
            "Epoch 50/100\n",
            "14/14 [==============================] - 0s 8ms/step - loss: 33.1579 - mean_absolute_percentage_error: 33.1579 - val_loss: 60.9110 - val_mean_absolute_percentage_error: 60.9110\n",
            "Epoch 51/100\n",
            "14/14 [==============================] - 0s 8ms/step - loss: 30.8403 - mean_absolute_percentage_error: 30.8403 - val_loss: 63.4667 - val_mean_absolute_percentage_error: 63.4667\n",
            "Epoch 52/100\n",
            "14/14 [==============================] - 0s 8ms/step - loss: 30.0911 - mean_absolute_percentage_error: 30.0911 - val_loss: 64.8495 - val_mean_absolute_percentage_error: 64.8495\n",
            "Epoch 53/100\n",
            "14/14 [==============================] - 0s 8ms/step - loss: 29.4786 - mean_absolute_percentage_error: 29.4786 - val_loss: 64.0695 - val_mean_absolute_percentage_error: 64.0695\n",
            "Epoch 54/100\n",
            "14/14 [==============================] - 0s 8ms/step - loss: 28.8310 - mean_absolute_percentage_error: 28.8310 - val_loss: 65.2712 - val_mean_absolute_percentage_error: 65.2712\n",
            "Epoch 55/100\n",
            "14/14 [==============================] - 0s 8ms/step - loss: 31.5215 - mean_absolute_percentage_error: 31.5215 - val_loss: 64.1167 - val_mean_absolute_percentage_error: 64.1167\n",
            "Epoch 56/100\n",
            "14/14 [==============================] - 0s 8ms/step - loss: 31.4564 - mean_absolute_percentage_error: 31.4564 - val_loss: 59.7605 - val_mean_absolute_percentage_error: 59.7605\n",
            "Epoch 57/100\n",
            "14/14 [==============================] - 0s 8ms/step - loss: 35.0117 - mean_absolute_percentage_error: 35.0117 - val_loss: 61.2458 - val_mean_absolute_percentage_error: 61.2458\n",
            "Epoch 58/100\n",
            "14/14 [==============================] - 0s 8ms/step - loss: 35.5756 - mean_absolute_percentage_error: 35.5756 - val_loss: 62.6696 - val_mean_absolute_percentage_error: 62.6696\n",
            "Epoch 59/100\n",
            "14/14 [==============================] - 0s 9ms/step - loss: 30.4573 - mean_absolute_percentage_error: 30.4573 - val_loss: 58.8727 - val_mean_absolute_percentage_error: 58.8727\n",
            "Epoch 60/100\n",
            "14/14 [==============================] - 0s 8ms/step - loss: 30.4899 - mean_absolute_percentage_error: 30.4899 - val_loss: 66.2276 - val_mean_absolute_percentage_error: 66.2276\n",
            "Epoch 61/100\n",
            "14/14 [==============================] - 0s 8ms/step - loss: 28.7235 - mean_absolute_percentage_error: 28.7235 - val_loss: 63.5847 - val_mean_absolute_percentage_error: 63.5847\n",
            "Epoch 62/100\n",
            "14/14 [==============================] - 0s 8ms/step - loss: 31.8529 - mean_absolute_percentage_error: 31.8529 - val_loss: 59.3381 - val_mean_absolute_percentage_error: 59.3381\n",
            "Epoch 63/100\n",
            "14/14 [==============================] - 0s 9ms/step - loss: 30.5623 - mean_absolute_percentage_error: 30.5623 - val_loss: 65.9196 - val_mean_absolute_percentage_error: 65.9196\n",
            "Epoch 64/100\n",
            "14/14 [==============================] - 0s 8ms/step - loss: 29.9930 - mean_absolute_percentage_error: 29.9930 - val_loss: 60.1845 - val_mean_absolute_percentage_error: 60.1845\n",
            "Epoch 65/100\n",
            "14/14 [==============================] - 0s 8ms/step - loss: 27.0064 - mean_absolute_percentage_error: 27.0064 - val_loss: 62.4732 - val_mean_absolute_percentage_error: 62.4732\n",
            "Epoch 66/100\n",
            "14/14 [==============================] - 0s 8ms/step - loss: 27.8769 - mean_absolute_percentage_error: 27.8769 - val_loss: 64.0228 - val_mean_absolute_percentage_error: 64.0228\n",
            "Epoch 67/100\n",
            "14/14 [==============================] - 0s 8ms/step - loss: 25.5887 - mean_absolute_percentage_error: 25.5887 - val_loss: 61.0434 - val_mean_absolute_percentage_error: 61.0434\n",
            "Epoch 68/100\n",
            "14/14 [==============================] - 0s 9ms/step - loss: 27.7390 - mean_absolute_percentage_error: 27.7390 - val_loss: 65.5190 - val_mean_absolute_percentage_error: 65.5190\n",
            "Epoch 69/100\n",
            "14/14 [==============================] - 0s 8ms/step - loss: 27.3313 - mean_absolute_percentage_error: 27.3313 - val_loss: 64.5773 - val_mean_absolute_percentage_error: 64.5773\n",
            "Epoch 70/100\n",
            "14/14 [==============================] - 0s 9ms/step - loss: 31.5638 - mean_absolute_percentage_error: 31.5638 - val_loss: 67.7110 - val_mean_absolute_percentage_error: 67.7110\n",
            "Epoch 71/100\n",
            "14/14 [==============================] - 0s 8ms/step - loss: 28.2964 - mean_absolute_percentage_error: 28.2964 - val_loss: 62.8857 - val_mean_absolute_percentage_error: 62.8857\n",
            "Epoch 72/100\n",
            "14/14 [==============================] - 0s 8ms/step - loss: 24.8077 - mean_absolute_percentage_error: 24.8077 - val_loss: 68.1190 - val_mean_absolute_percentage_error: 68.1190\n",
            "Epoch 73/100\n",
            "14/14 [==============================] - 0s 8ms/step - loss: 25.2456 - mean_absolute_percentage_error: 25.2456 - val_loss: 68.8107 - val_mean_absolute_percentage_error: 68.8107\n",
            "Epoch 74/100\n",
            "14/14 [==============================] - 0s 8ms/step - loss: 24.6464 - mean_absolute_percentage_error: 24.6464 - val_loss: 65.3648 - val_mean_absolute_percentage_error: 65.3648\n",
            "Epoch 75/100\n",
            "14/14 [==============================] - 0s 8ms/step - loss: 26.2918 - mean_absolute_percentage_error: 26.2918 - val_loss: 66.3416 - val_mean_absolute_percentage_error: 66.3416\n",
            "Epoch 76/100\n",
            "14/14 [==============================] - 0s 9ms/step - loss: 28.1001 - mean_absolute_percentage_error: 28.1001 - val_loss: 60.4921 - val_mean_absolute_percentage_error: 60.4921\n",
            "Epoch 77/100\n",
            "14/14 [==============================] - 0s 7ms/step - loss: 27.1774 - mean_absolute_percentage_error: 27.1774 - val_loss: 69.5102 - val_mean_absolute_percentage_error: 69.5102\n",
            "Epoch 78/100\n",
            "14/14 [==============================] - 0s 8ms/step - loss: 26.9974 - mean_absolute_percentage_error: 26.9974 - val_loss: 63.7818 - val_mean_absolute_percentage_error: 63.7818\n",
            "Epoch 79/100\n",
            "14/14 [==============================] - 0s 9ms/step - loss: 29.9268 - mean_absolute_percentage_error: 29.9268 - val_loss: 61.9177 - val_mean_absolute_percentage_error: 61.9177\n",
            "Epoch 80/100\n",
            "14/14 [==============================] - 0s 8ms/step - loss: 31.7343 - mean_absolute_percentage_error: 31.7343 - val_loss: 69.0611 - val_mean_absolute_percentage_error: 69.0611\n",
            "Epoch 81/100\n",
            "14/14 [==============================] - 0s 8ms/step - loss: 32.7498 - mean_absolute_percentage_error: 32.7498 - val_loss: 63.2815 - val_mean_absolute_percentage_error: 63.2815\n",
            "Epoch 82/100\n",
            "14/14 [==============================] - 0s 8ms/step - loss: 30.8766 - mean_absolute_percentage_error: 30.8766 - val_loss: 69.0497 - val_mean_absolute_percentage_error: 69.0497\n",
            "Epoch 83/100\n",
            "14/14 [==============================] - 0s 9ms/step - loss: 29.9317 - mean_absolute_percentage_error: 29.9317 - val_loss: 62.5936 - val_mean_absolute_percentage_error: 62.5936\n",
            "Epoch 84/100\n",
            "14/14 [==============================] - 0s 8ms/step - loss: 26.0387 - mean_absolute_percentage_error: 26.0387 - val_loss: 64.5044 - val_mean_absolute_percentage_error: 64.5044\n",
            "Epoch 85/100\n",
            "14/14 [==============================] - 0s 7ms/step - loss: 23.6647 - mean_absolute_percentage_error: 23.6647 - val_loss: 62.8325 - val_mean_absolute_percentage_error: 62.8325\n",
            "Epoch 86/100\n",
            "14/14 [==============================] - 0s 8ms/step - loss: 25.9408 - mean_absolute_percentage_error: 25.9408 - val_loss: 64.6218 - val_mean_absolute_percentage_error: 64.6218\n",
            "Epoch 87/100\n",
            "14/14 [==============================] - 0s 9ms/step - loss: 25.2803 - mean_absolute_percentage_error: 25.2803 - val_loss: 68.8671 - val_mean_absolute_percentage_error: 68.8671\n",
            "Epoch 88/100\n",
            "14/14 [==============================] - 0s 8ms/step - loss: 26.2475 - mean_absolute_percentage_error: 26.2475 - val_loss: 66.7532 - val_mean_absolute_percentage_error: 66.7532\n",
            "Epoch 89/100\n",
            "14/14 [==============================] - 0s 8ms/step - loss: 24.1363 - mean_absolute_percentage_error: 24.1363 - val_loss: 71.5587 - val_mean_absolute_percentage_error: 71.5587\n",
            "Epoch 90/100\n",
            "14/14 [==============================] - 0s 8ms/step - loss: 25.4215 - mean_absolute_percentage_error: 25.4215 - val_loss: 62.9980 - val_mean_absolute_percentage_error: 62.9980\n",
            "Epoch 91/100\n",
            "14/14 [==============================] - 0s 9ms/step - loss: 27.1981 - mean_absolute_percentage_error: 27.1981 - val_loss: 66.2005 - val_mean_absolute_percentage_error: 66.2005\n",
            "Epoch 92/100\n",
            "14/14 [==============================] - 0s 8ms/step - loss: 25.6163 - mean_absolute_percentage_error: 25.6163 - val_loss: 68.0923 - val_mean_absolute_percentage_error: 68.0923\n",
            "Epoch 93/100\n",
            "14/14 [==============================] - 0s 8ms/step - loss: 24.7442 - mean_absolute_percentage_error: 24.7442 - val_loss: 70.5114 - val_mean_absolute_percentage_error: 70.5114\n",
            "Epoch 94/100\n",
            "14/14 [==============================] - 0s 8ms/step - loss: 26.1942 - mean_absolute_percentage_error: 26.1942 - val_loss: 59.9595 - val_mean_absolute_percentage_error: 59.9595\n",
            "Epoch 95/100\n",
            "14/14 [==============================] - 0s 9ms/step - loss: 25.7120 - mean_absolute_percentage_error: 25.7120 - val_loss: 62.0609 - val_mean_absolute_percentage_error: 62.0609\n",
            "Epoch 96/100\n",
            "14/14 [==============================] - 0s 8ms/step - loss: 27.6647 - mean_absolute_percentage_error: 27.6647 - val_loss: 66.6456 - val_mean_absolute_percentage_error: 66.6456\n",
            "Epoch 97/100\n",
            "14/14 [==============================] - 0s 8ms/step - loss: 25.8604 - mean_absolute_percentage_error: 25.8604 - val_loss: 64.2615 - val_mean_absolute_percentage_error: 64.2615\n",
            "Epoch 98/100\n",
            "14/14 [==============================] - 0s 8ms/step - loss: 23.3742 - mean_absolute_percentage_error: 23.3742 - val_loss: 64.6699 - val_mean_absolute_percentage_error: 64.6699\n",
            "Epoch 99/100\n",
            "14/14 [==============================] - 0s 8ms/step - loss: 23.9883 - mean_absolute_percentage_error: 23.9883 - val_loss: 73.4364 - val_mean_absolute_percentage_error: 73.4364\n",
            "Epoch 100/100\n",
            "14/14 [==============================] - 0s 8ms/step - loss: 28.6354 - mean_absolute_percentage_error: 28.6354 - val_loss: 61.5901 - val_mean_absolute_percentage_error: 61.5901\n"
          ]
        }
      ]
    },
    {
      "cell_type": "code",
      "source": [
        "prices_predicted = model.predict(X_val).flatten()\n",
        "diff = ((prices_predicted - Y_val) / Y_val) * 100\n",
        "error_mean = np.mean(np.abs(diff))\n",
        "\n",
        "print(\"Predicting house prices - Estimation Error: {:.2f}%\".format(error_mean))"
      ],
      "metadata": {
        "colab": {
          "base_uri": "https://localhost:8080/"
        },
        "id": "qc6pjVmdUbAl",
        "outputId": "d99531e6-fad4-41bd-bd54-66e468080cb6"
      },
      "execution_count": null,
      "outputs": [
        {
          "output_type": "stream",
          "name": "stdout",
          "text": [
            "4/4 [==============================] - 0s 3ms/step\n",
            "Predicting house prices - Estimation Error: 61.59%\n"
          ]
        }
      ]
    },
    {
      "cell_type": "code",
      "source": [
        "chanDim = -1\n",
        "model = Sequential()\n",
        "\n",
        "# . . . \n",
        "\n",
        "model.add(Conv2D(64, (3,3), padding='same', input_shape=X_train.shape[1:]))\n",
        "model.add(MaxPooling2D(pool_size=(2,2)))\n",
        "model.add(Conv2D(64, (3,3), padding='same', input_shape=X_train.shape[1:]))\n",
        "model.add(MaxPooling2D(pool_size=(2,2)))\n",
        "model.add(Conv2D(64, (3,3), padding='same', input_shape=X_train.shape[1:]))\n",
        "model.add(MaxPooling2D(pool_size=(2,2)))\n",
        "model.add(Conv2D(64, (3,3), padding='same', input_shape=X_train.shape[1:]))\n",
        "model.add(MaxPooling2D(pool_size=(2,2)))\n",
        "model.add(Activation('relu'))\n",
        "model.add(Activation('relu'))\n",
        "model.add(Flatten())\n",
        "model.add(Dense(1))\n",
        "\n",
        "# . . . \n",
        "\n",
        "model.summary()\n",
        "opt = Adam(lr=1e-3, decay=1e-3 / 200)\n",
        "model.compile(loss=\"mean_absolute_percentage_error\", optimizer=opt, metrics=['mean_absolute_percentage_error'])\n",
        "\n",
        "# train the model\n",
        "print(\"[INFO] training model...\")\n",
        "history = model.fit(X_train, Y_train, validation_data=(X_val, Y_val), epochs=100, batch_size=32)\n",
        "training_loss.append(history.history['loss'][1:])\n",
        "validation_loss.append(history.history['val_loss'][1:])"
      ],
      "metadata": {
        "colab": {
          "base_uri": "https://localhost:8080/"
        },
        "id": "3P3menVM11Fo",
        "outputId": "080081b5-d2fc-48f1-92fc-13a2a174fb26"
      },
      "execution_count": null,
      "outputs": [
        {
          "output_type": "stream",
          "name": "stdout",
          "text": [
            "Model: \"sequential_3\"\n",
            "_________________________________________________________________\n",
            " Layer (type)                Output Shape              Param #   \n",
            "=================================================================\n",
            " conv2d_6 (Conv2D)           (None, 64, 64, 64)        1792      \n",
            "                                                                 \n",
            " max_pooling2d_5 (MaxPooling  (None, 32, 32, 64)       0         \n",
            " 2D)                                                             \n",
            "                                                                 \n",
            " conv2d_7 (Conv2D)           (None, 32, 32, 64)        36928     \n",
            "                                                                 \n",
            " max_pooling2d_6 (MaxPooling  (None, 16, 16, 64)       0         \n",
            " 2D)                                                             \n",
            "                                                                 \n",
            " conv2d_8 (Conv2D)           (None, 16, 16, 64)        36928     \n",
            "                                                                 \n",
            " max_pooling2d_7 (MaxPooling  (None, 8, 8, 64)         0         \n",
            " 2D)                                                             \n",
            "                                                                 \n",
            " conv2d_9 (Conv2D)           (None, 8, 8, 64)          36928     \n",
            "                                                                 \n",
            " max_pooling2d_8 (MaxPooling  (None, 4, 4, 64)         0         \n",
            " 2D)                                                             \n",
            "                                                                 \n",
            " activation_3 (Activation)   (None, 4, 4, 64)          0         \n",
            "                                                                 \n",
            " activation_4 (Activation)   (None, 4, 4, 64)          0         \n",
            "                                                                 \n",
            " flatten_2 (Flatten)         (None, 1024)              0         \n",
            "                                                                 \n",
            " dense_2 (Dense)             (None, 1)                 1025      \n",
            "                                                                 \n",
            "=================================================================\n",
            "Total params: 113,601\n",
            "Trainable params: 113,601\n",
            "Non-trainable params: 0\n",
            "_________________________________________________________________\n",
            "[INFO] training model...\n",
            "Epoch 1/100\n",
            "14/14 [==============================] - 2s 48ms/step - loss: 310.7424 - mean_absolute_percentage_error: 310.7424 - val_loss: 124.8651 - val_mean_absolute_percentage_error: 124.8651\n",
            "Epoch 2/100\n",
            "14/14 [==============================] - 0s 9ms/step - loss: 104.0837 - mean_absolute_percentage_error: 104.0837 - val_loss: 93.0559 - val_mean_absolute_percentage_error: 93.0559\n",
            "Epoch 3/100\n",
            "14/14 [==============================] - 0s 9ms/step - loss: 81.5056 - mean_absolute_percentage_error: 81.5056 - val_loss: 120.5833 - val_mean_absolute_percentage_error: 120.5833\n",
            "Epoch 4/100\n",
            "14/14 [==============================] - 0s 10ms/step - loss: 102.7307 - mean_absolute_percentage_error: 102.7307 - val_loss: 79.1309 - val_mean_absolute_percentage_error: 79.1309\n",
            "Epoch 5/100\n",
            "14/14 [==============================] - 0s 9ms/step - loss: 81.5064 - mean_absolute_percentage_error: 81.5064 - val_loss: 70.5870 - val_mean_absolute_percentage_error: 70.5870\n",
            "Epoch 6/100\n",
            "14/14 [==============================] - 0s 9ms/step - loss: 69.1129 - mean_absolute_percentage_error: 69.1129 - val_loss: 61.2368 - val_mean_absolute_percentage_error: 61.2368\n",
            "Epoch 7/100\n",
            "14/14 [==============================] - 0s 9ms/step - loss: 65.9639 - mean_absolute_percentage_error: 65.9639 - val_loss: 57.9082 - val_mean_absolute_percentage_error: 57.9082\n",
            "Epoch 8/100\n",
            "14/14 [==============================] - 0s 9ms/step - loss: 55.5352 - mean_absolute_percentage_error: 55.5352 - val_loss: 58.5942 - val_mean_absolute_percentage_error: 58.5942\n",
            "Epoch 9/100\n",
            "14/14 [==============================] - 0s 10ms/step - loss: 61.0496 - mean_absolute_percentage_error: 61.0496 - val_loss: 61.0009 - val_mean_absolute_percentage_error: 61.0009\n",
            "Epoch 10/100\n",
            "14/14 [==============================] - 0s 17ms/step - loss: 51.3840 - mean_absolute_percentage_error: 51.3840 - val_loss: 66.9908 - val_mean_absolute_percentage_error: 66.9908\n",
            "Epoch 11/100\n",
            "14/14 [==============================] - 0s 15ms/step - loss: 58.5275 - mean_absolute_percentage_error: 58.5275 - val_loss: 69.9888 - val_mean_absolute_percentage_error: 69.9888\n",
            "Epoch 12/100\n",
            "14/14 [==============================] - 0s 18ms/step - loss: 50.0775 - mean_absolute_percentage_error: 50.0775 - val_loss: 56.6127 - val_mean_absolute_percentage_error: 56.6127\n",
            "Epoch 13/100\n",
            "14/14 [==============================] - 0s 12ms/step - loss: 61.6965 - mean_absolute_percentage_error: 61.6965 - val_loss: 77.1753 - val_mean_absolute_percentage_error: 77.1753\n",
            "Epoch 14/100\n",
            "14/14 [==============================] - 0s 10ms/step - loss: 63.2701 - mean_absolute_percentage_error: 63.2701 - val_loss: 63.5879 - val_mean_absolute_percentage_error: 63.5879\n",
            "Epoch 15/100\n",
            "14/14 [==============================] - 0s 11ms/step - loss: 57.1894 - mean_absolute_percentage_error: 57.1894 - val_loss: 72.2712 - val_mean_absolute_percentage_error: 72.2712\n",
            "Epoch 16/100\n",
            "14/14 [==============================] - 0s 14ms/step - loss: 50.2970 - mean_absolute_percentage_error: 50.2970 - val_loss: 58.1246 - val_mean_absolute_percentage_error: 58.1246\n",
            "Epoch 17/100\n",
            "14/14 [==============================] - 0s 14ms/step - loss: 48.8517 - mean_absolute_percentage_error: 48.8517 - val_loss: 72.1494 - val_mean_absolute_percentage_error: 72.1494\n",
            "Epoch 18/100\n",
            "14/14 [==============================] - 0s 13ms/step - loss: 61.4375 - mean_absolute_percentage_error: 61.4375 - val_loss: 66.8059 - val_mean_absolute_percentage_error: 66.8059\n",
            "Epoch 19/100\n",
            "14/14 [==============================] - 0s 13ms/step - loss: 45.2779 - mean_absolute_percentage_error: 45.2779 - val_loss: 60.7711 - val_mean_absolute_percentage_error: 60.7711\n",
            "Epoch 20/100\n",
            "14/14 [==============================] - 0s 9ms/step - loss: 49.8807 - mean_absolute_percentage_error: 49.8807 - val_loss: 55.7583 - val_mean_absolute_percentage_error: 55.7583\n",
            "Epoch 21/100\n",
            "14/14 [==============================] - 0s 10ms/step - loss: 42.2553 - mean_absolute_percentage_error: 42.2553 - val_loss: 57.8242 - val_mean_absolute_percentage_error: 57.8242\n",
            "Epoch 22/100\n",
            "14/14 [==============================] - 0s 18ms/step - loss: 43.8171 - mean_absolute_percentage_error: 43.8171 - val_loss: 65.1542 - val_mean_absolute_percentage_error: 65.1542\n",
            "Epoch 23/100\n",
            "14/14 [==============================] - 0s 14ms/step - loss: 44.0753 - mean_absolute_percentage_error: 44.0753 - val_loss: 55.8706 - val_mean_absolute_percentage_error: 55.8706\n",
            "Epoch 24/100\n",
            "14/14 [==============================] - 0s 14ms/step - loss: 42.5972 - mean_absolute_percentage_error: 42.5972 - val_loss: 56.0702 - val_mean_absolute_percentage_error: 56.0702\n",
            "Epoch 25/100\n",
            "14/14 [==============================] - 0s 15ms/step - loss: 45.0772 - mean_absolute_percentage_error: 45.0772 - val_loss: 57.1238 - val_mean_absolute_percentage_error: 57.1238\n",
            "Epoch 26/100\n",
            "14/14 [==============================] - 0s 13ms/step - loss: 48.2969 - mean_absolute_percentage_error: 48.2969 - val_loss: 72.5290 - val_mean_absolute_percentage_error: 72.5290\n",
            "Epoch 27/100\n",
            "14/14 [==============================] - 0s 10ms/step - loss: 48.1552 - mean_absolute_percentage_error: 48.1552 - val_loss: 58.3014 - val_mean_absolute_percentage_error: 58.3014\n",
            "Epoch 28/100\n",
            "14/14 [==============================] - 0s 11ms/step - loss: 45.5524 - mean_absolute_percentage_error: 45.5524 - val_loss: 62.1553 - val_mean_absolute_percentage_error: 62.1553\n",
            "Epoch 29/100\n",
            "14/14 [==============================] - 0s 15ms/step - loss: 41.8224 - mean_absolute_percentage_error: 41.8224 - val_loss: 62.3489 - val_mean_absolute_percentage_error: 62.3489\n",
            "Epoch 30/100\n",
            "14/14 [==============================] - 0s 13ms/step - loss: 44.1119 - mean_absolute_percentage_error: 44.1119 - val_loss: 59.8843 - val_mean_absolute_percentage_error: 59.8843\n",
            "Epoch 31/100\n",
            "14/14 [==============================] - 0s 9ms/step - loss: 41.0873 - mean_absolute_percentage_error: 41.0873 - val_loss: 84.8534 - val_mean_absolute_percentage_error: 84.8534\n",
            "Epoch 32/100\n",
            "14/14 [==============================] - 0s 13ms/step - loss: 41.0278 - mean_absolute_percentage_error: 41.0278 - val_loss: 58.7461 - val_mean_absolute_percentage_error: 58.7461\n",
            "Epoch 33/100\n",
            "14/14 [==============================] - 0s 15ms/step - loss: 43.6986 - mean_absolute_percentage_error: 43.6986 - val_loss: 57.4100 - val_mean_absolute_percentage_error: 57.4100\n",
            "Epoch 34/100\n",
            "14/14 [==============================] - 0s 15ms/step - loss: 42.2853 - mean_absolute_percentage_error: 42.2853 - val_loss: 64.7468 - val_mean_absolute_percentage_error: 64.7468\n",
            "Epoch 35/100\n",
            "14/14 [==============================] - 0s 13ms/step - loss: 57.8271 - mean_absolute_percentage_error: 57.8271 - val_loss: 59.6400 - val_mean_absolute_percentage_error: 59.6400\n",
            "Epoch 36/100\n",
            "14/14 [==============================] - 0s 15ms/step - loss: 55.6133 - mean_absolute_percentage_error: 55.6133 - val_loss: 84.8344 - val_mean_absolute_percentage_error: 84.8344\n",
            "Epoch 37/100\n",
            "14/14 [==============================] - 0s 9ms/step - loss: 61.0662 - mean_absolute_percentage_error: 61.0662 - val_loss: 63.7713 - val_mean_absolute_percentage_error: 63.7713\n",
            "Epoch 38/100\n",
            "14/14 [==============================] - 0s 9ms/step - loss: 55.6574 - mean_absolute_percentage_error: 55.6574 - val_loss: 79.9330 - val_mean_absolute_percentage_error: 79.9330\n",
            "Epoch 39/100\n",
            "14/14 [==============================] - 0s 19ms/step - loss: 49.1722 - mean_absolute_percentage_error: 49.1722 - val_loss: 67.3695 - val_mean_absolute_percentage_error: 67.3695\n",
            "Epoch 40/100\n",
            "14/14 [==============================] - 0s 21ms/step - loss: 40.4035 - mean_absolute_percentage_error: 40.4035 - val_loss: 62.4198 - val_mean_absolute_percentage_error: 62.4198\n",
            "Epoch 41/100\n",
            "14/14 [==============================] - 0s 13ms/step - loss: 40.7898 - mean_absolute_percentage_error: 40.7898 - val_loss: 63.6418 - val_mean_absolute_percentage_error: 63.6418\n",
            "Epoch 42/100\n",
            "14/14 [==============================] - 0s 10ms/step - loss: 39.5990 - mean_absolute_percentage_error: 39.5990 - val_loss: 69.1011 - val_mean_absolute_percentage_error: 69.1011\n",
            "Epoch 43/100\n",
            "14/14 [==============================] - 0s 13ms/step - loss: 38.6758 - mean_absolute_percentage_error: 38.6758 - val_loss: 64.9439 - val_mean_absolute_percentage_error: 64.9439\n",
            "Epoch 44/100\n",
            "14/14 [==============================] - 0s 11ms/step - loss: 37.8319 - mean_absolute_percentage_error: 37.8319 - val_loss: 60.5064 - val_mean_absolute_percentage_error: 60.5064\n",
            "Epoch 45/100\n",
            "14/14 [==============================] - 0s 10ms/step - loss: 36.0990 - mean_absolute_percentage_error: 36.0990 - val_loss: 59.0528 - val_mean_absolute_percentage_error: 59.0528\n",
            "Epoch 46/100\n",
            "14/14 [==============================] - 0s 16ms/step - loss: 39.4084 - mean_absolute_percentage_error: 39.4084 - val_loss: 60.2094 - val_mean_absolute_percentage_error: 60.2094\n",
            "Epoch 47/100\n",
            "14/14 [==============================] - 0s 14ms/step - loss: 41.3100 - mean_absolute_percentage_error: 41.3100 - val_loss: 66.1798 - val_mean_absolute_percentage_error: 66.1798\n",
            "Epoch 48/100\n",
            "14/14 [==============================] - 0s 11ms/step - loss: 40.5854 - mean_absolute_percentage_error: 40.5854 - val_loss: 62.9166 - val_mean_absolute_percentage_error: 62.9166\n",
            "Epoch 49/100\n",
            "14/14 [==============================] - 0s 20ms/step - loss: 36.4964 - mean_absolute_percentage_error: 36.4964 - val_loss: 72.6100 - val_mean_absolute_percentage_error: 72.6100\n",
            "Epoch 50/100\n",
            "14/14 [==============================] - 0s 14ms/step - loss: 37.0200 - mean_absolute_percentage_error: 37.0200 - val_loss: 68.7235 - val_mean_absolute_percentage_error: 68.7235\n",
            "Epoch 51/100\n",
            "14/14 [==============================] - 0s 11ms/step - loss: 32.5172 - mean_absolute_percentage_error: 32.5172 - val_loss: 64.2409 - val_mean_absolute_percentage_error: 64.2409\n",
            "Epoch 52/100\n",
            "14/14 [==============================] - 0s 19ms/step - loss: 33.5623 - mean_absolute_percentage_error: 33.5623 - val_loss: 60.8928 - val_mean_absolute_percentage_error: 60.8928\n",
            "Epoch 53/100\n",
            "14/14 [==============================] - 0s 17ms/step - loss: 30.2412 - mean_absolute_percentage_error: 30.2412 - val_loss: 67.5918 - val_mean_absolute_percentage_error: 67.5918\n",
            "Epoch 54/100\n",
            "14/14 [==============================] - 0s 9ms/step - loss: 28.1675 - mean_absolute_percentage_error: 28.1675 - val_loss: 62.8703 - val_mean_absolute_percentage_error: 62.8703\n",
            "Epoch 55/100\n",
            "14/14 [==============================] - 0s 16ms/step - loss: 33.8284 - mean_absolute_percentage_error: 33.8284 - val_loss: 66.7833 - val_mean_absolute_percentage_error: 66.7833\n",
            "Epoch 56/100\n",
            "14/14 [==============================] - 0s 15ms/step - loss: 33.3840 - mean_absolute_percentage_error: 33.3840 - val_loss: 65.1405 - val_mean_absolute_percentage_error: 65.1405\n",
            "Epoch 57/100\n",
            "14/14 [==============================] - 0s 14ms/step - loss: 31.6782 - mean_absolute_percentage_error: 31.6782 - val_loss: 57.5713 - val_mean_absolute_percentage_error: 57.5713\n",
            "Epoch 58/100\n",
            "14/14 [==============================] - 0s 17ms/step - loss: 30.2273 - mean_absolute_percentage_error: 30.2273 - val_loss: 68.7698 - val_mean_absolute_percentage_error: 68.7698\n",
            "Epoch 59/100\n",
            "14/14 [==============================] - 0s 11ms/step - loss: 32.0225 - mean_absolute_percentage_error: 32.0225 - val_loss: 65.7047 - val_mean_absolute_percentage_error: 65.7047\n",
            "Epoch 60/100\n",
            "14/14 [==============================] - 0s 12ms/step - loss: 34.4810 - mean_absolute_percentage_error: 34.4810 - val_loss: 77.4963 - val_mean_absolute_percentage_error: 77.4963\n",
            "Epoch 61/100\n",
            "14/14 [==============================] - 0s 9ms/step - loss: 36.5274 - mean_absolute_percentage_error: 36.5274 - val_loss: 67.3726 - val_mean_absolute_percentage_error: 67.3726\n",
            "Epoch 62/100\n",
            "14/14 [==============================] - 0s 13ms/step - loss: 30.2661 - mean_absolute_percentage_error: 30.2661 - val_loss: 69.1128 - val_mean_absolute_percentage_error: 69.1128\n",
            "Epoch 63/100\n",
            "14/14 [==============================] - 0s 14ms/step - loss: 35.3265 - mean_absolute_percentage_error: 35.3265 - val_loss: 70.5603 - val_mean_absolute_percentage_error: 70.5603\n",
            "Epoch 64/100\n",
            "14/14 [==============================] - 0s 19ms/step - loss: 32.5127 - mean_absolute_percentage_error: 32.5127 - val_loss: 76.5840 - val_mean_absolute_percentage_error: 76.5840\n",
            "Epoch 65/100\n",
            "14/14 [==============================] - 0s 13ms/step - loss: 33.7670 - mean_absolute_percentage_error: 33.7670 - val_loss: 69.9149 - val_mean_absolute_percentage_error: 69.9149\n",
            "Epoch 66/100\n",
            "14/14 [==============================] - 0s 13ms/step - loss: 31.4734 - mean_absolute_percentage_error: 31.4734 - val_loss: 60.2177 - val_mean_absolute_percentage_error: 60.2177\n",
            "Epoch 67/100\n",
            "14/14 [==============================] - 0s 11ms/step - loss: 34.8909 - mean_absolute_percentage_error: 34.8909 - val_loss: 67.3210 - val_mean_absolute_percentage_error: 67.3210\n",
            "Epoch 68/100\n",
            "14/14 [==============================] - 0s 11ms/step - loss: 37.6021 - mean_absolute_percentage_error: 37.6021 - val_loss: 62.3110 - val_mean_absolute_percentage_error: 62.3110\n",
            "Epoch 69/100\n",
            "14/14 [==============================] - 0s 21ms/step - loss: 31.5398 - mean_absolute_percentage_error: 31.5398 - val_loss: 60.3505 - val_mean_absolute_percentage_error: 60.3505\n",
            "Epoch 70/100\n",
            "14/14 [==============================] - 0s 21ms/step - loss: 32.3816 - mean_absolute_percentage_error: 32.3816 - val_loss: 68.8624 - val_mean_absolute_percentage_error: 68.8624\n",
            "Epoch 71/100\n",
            "14/14 [==============================] - 0s 16ms/step - loss: 29.3511 - mean_absolute_percentage_error: 29.3511 - val_loss: 63.1768 - val_mean_absolute_percentage_error: 63.1768\n",
            "Epoch 72/100\n",
            "14/14 [==============================] - 0s 20ms/step - loss: 32.9902 - mean_absolute_percentage_error: 32.9902 - val_loss: 73.8574 - val_mean_absolute_percentage_error: 73.8574\n",
            "Epoch 73/100\n",
            "14/14 [==============================] - 0s 18ms/step - loss: 28.5741 - mean_absolute_percentage_error: 28.5741 - val_loss: 64.5289 - val_mean_absolute_percentage_error: 64.5289\n",
            "Epoch 74/100\n",
            "14/14 [==============================] - 0s 22ms/step - loss: 30.3785 - mean_absolute_percentage_error: 30.3785 - val_loss: 74.3132 - val_mean_absolute_percentage_error: 74.3132\n",
            "Epoch 75/100\n",
            "14/14 [==============================] - 0s 14ms/step - loss: 32.5414 - mean_absolute_percentage_error: 32.5414 - val_loss: 66.7124 - val_mean_absolute_percentage_error: 66.7124\n",
            "Epoch 76/100\n",
            "14/14 [==============================] - 0s 15ms/step - loss: 30.2703 - mean_absolute_percentage_error: 30.2703 - val_loss: 70.4862 - val_mean_absolute_percentage_error: 70.4862\n",
            "Epoch 77/100\n",
            "14/14 [==============================] - 0s 18ms/step - loss: 28.9024 - mean_absolute_percentage_error: 28.9024 - val_loss: 67.7706 - val_mean_absolute_percentage_error: 67.7706\n",
            "Epoch 78/100\n",
            "14/14 [==============================] - 0s 15ms/step - loss: 33.5293 - mean_absolute_percentage_error: 33.5293 - val_loss: 66.3708 - val_mean_absolute_percentage_error: 66.3708\n",
            "Epoch 79/100\n",
            "14/14 [==============================] - 0s 13ms/step - loss: 28.8672 - mean_absolute_percentage_error: 28.8672 - val_loss: 63.3178 - val_mean_absolute_percentage_error: 63.3178\n",
            "Epoch 80/100\n",
            "14/14 [==============================] - 0s 16ms/step - loss: 30.4301 - mean_absolute_percentage_error: 30.4301 - val_loss: 69.7962 - val_mean_absolute_percentage_error: 69.7962\n",
            "Epoch 81/100\n",
            "14/14 [==============================] - 0s 18ms/step - loss: 28.4611 - mean_absolute_percentage_error: 28.4611 - val_loss: 68.1804 - val_mean_absolute_percentage_error: 68.1804\n",
            "Epoch 82/100\n",
            "14/14 [==============================] - 0s 25ms/step - loss: 30.5472 - mean_absolute_percentage_error: 30.5472 - val_loss: 61.4825 - val_mean_absolute_percentage_error: 61.4825\n",
            "Epoch 83/100\n",
            "14/14 [==============================] - 0s 16ms/step - loss: 32.5579 - mean_absolute_percentage_error: 32.5579 - val_loss: 76.6199 - val_mean_absolute_percentage_error: 76.6199\n",
            "Epoch 84/100\n",
            "14/14 [==============================] - 0s 19ms/step - loss: 33.4848 - mean_absolute_percentage_error: 33.4848 - val_loss: 64.4177 - val_mean_absolute_percentage_error: 64.4177\n",
            "Epoch 85/100\n",
            "14/14 [==============================] - 0s 14ms/step - loss: 28.2400 - mean_absolute_percentage_error: 28.2400 - val_loss: 70.9745 - val_mean_absolute_percentage_error: 70.9745\n",
            "Epoch 86/100\n",
            "14/14 [==============================] - 0s 22ms/step - loss: 31.7087 - mean_absolute_percentage_error: 31.7087 - val_loss: 75.8615 - val_mean_absolute_percentage_error: 75.8615\n",
            "Epoch 87/100\n",
            "14/14 [==============================] - 0s 16ms/step - loss: 30.6463 - mean_absolute_percentage_error: 30.6463 - val_loss: 64.0988 - val_mean_absolute_percentage_error: 64.0988\n",
            "Epoch 88/100\n",
            "14/14 [==============================] - 0s 16ms/step - loss: 31.2303 - mean_absolute_percentage_error: 31.2303 - val_loss: 74.7663 - val_mean_absolute_percentage_error: 74.7663\n",
            "Epoch 89/100\n",
            "14/14 [==============================] - 0s 16ms/step - loss: 31.1855 - mean_absolute_percentage_error: 31.1855 - val_loss: 73.2819 - val_mean_absolute_percentage_error: 73.2819\n",
            "Epoch 90/100\n",
            "14/14 [==============================] - 0s 19ms/step - loss: 30.1793 - mean_absolute_percentage_error: 30.1793 - val_loss: 73.7514 - val_mean_absolute_percentage_error: 73.7514\n",
            "Epoch 91/100\n",
            "14/14 [==============================] - 0s 16ms/step - loss: 30.4348 - mean_absolute_percentage_error: 30.4348 - val_loss: 72.7019 - val_mean_absolute_percentage_error: 72.7019\n",
            "Epoch 92/100\n",
            "14/14 [==============================] - 0s 21ms/step - loss: 29.0973 - mean_absolute_percentage_error: 29.0973 - val_loss: 64.9871 - val_mean_absolute_percentage_error: 64.9871\n",
            "Epoch 93/100\n",
            "14/14 [==============================] - 0s 28ms/step - loss: 29.2676 - mean_absolute_percentage_error: 29.2676 - val_loss: 67.6603 - val_mean_absolute_percentage_error: 67.6603\n",
            "Epoch 94/100\n",
            "14/14 [==============================] - 0s 19ms/step - loss: 27.6082 - mean_absolute_percentage_error: 27.6082 - val_loss: 73.8184 - val_mean_absolute_percentage_error: 73.8184\n",
            "Epoch 95/100\n",
            "14/14 [==============================] - 0s 14ms/step - loss: 31.8872 - mean_absolute_percentage_error: 31.8872 - val_loss: 65.0221 - val_mean_absolute_percentage_error: 65.0221\n",
            "Epoch 96/100\n",
            "14/14 [==============================] - 0s 19ms/step - loss: 27.8820 - mean_absolute_percentage_error: 27.8820 - val_loss: 68.0708 - val_mean_absolute_percentage_error: 68.0708\n",
            "Epoch 97/100\n",
            "14/14 [==============================] - 0s 19ms/step - loss: 28.9322 - mean_absolute_percentage_error: 28.9322 - val_loss: 72.9079 - val_mean_absolute_percentage_error: 72.9079\n",
            "Epoch 98/100\n",
            "14/14 [==============================] - 0s 15ms/step - loss: 28.1724 - mean_absolute_percentage_error: 28.1724 - val_loss: 70.0426 - val_mean_absolute_percentage_error: 70.0426\n",
            "Epoch 99/100\n",
            "14/14 [==============================] - 0s 17ms/step - loss: 29.9071 - mean_absolute_percentage_error: 29.9071 - val_loss: 66.1416 - val_mean_absolute_percentage_error: 66.1416\n",
            "Epoch 100/100\n",
            "14/14 [==============================] - 0s 20ms/step - loss: 29.6477 - mean_absolute_percentage_error: 29.6477 - val_loss: 67.3077 - val_mean_absolute_percentage_error: 67.3077\n"
          ]
        }
      ]
    },
    {
      "cell_type": "code",
      "source": [
        "prices_predicted = model.predict(X_val).flatten()\n",
        "diff = ((prices_predicted - Y_val) / Y_val) * 100\n",
        "error_mean = np.mean(np.abs(diff))\n",
        "\n",
        "print(\"Predicting house prices - Estimation Error: {:.2f}%\".format(error_mean))"
      ],
      "metadata": {
        "colab": {
          "base_uri": "https://localhost:8080/"
        },
        "id": "NJ5gUpIwUduB",
        "outputId": "8bd687d8-f640-4cd9-d0c9-dede19850f4c"
      },
      "execution_count": null,
      "outputs": [
        {
          "output_type": "stream",
          "name": "stdout",
          "text": [
            "4/4 [==============================] - 0s 3ms/step\n",
            "Predicting house prices - Estimation Error: 57.35%\n"
          ]
        }
      ]
    },
    {
      "cell_type": "code",
      "source": [
        "chanDim = -1\n",
        "model = Sequential()\n",
        "\n",
        "# . . . \n",
        "\n",
        "# model.add(Conv2D(512, (3,3), padding='same', input_shape=X_train.shape[1:]))\n",
        "# model.add(Activation('relu'))\n",
        "# model.add(MaxPooling2D(pool_size=(2,2)))\n",
        "# model.add(Conv2D(512, (3,3), padding='same', input_shape=X_train.shape[1:]))\n",
        "# model.add(Activation('relu'))\n",
        "# model.add(MaxPooling2D(pool_size=(2,2)))\n",
        "# model.add(Conv2D(512, (3,3), padding='same', input_shape=X_train.shape[1:]))\n",
        "# model.add(Activation('relu'))\n",
        "# model.add(MaxPooling2D(pool_size=(2,2)))\n",
        "# model.add(Flatten())\n",
        "# model.add(Dense(1))\n",
        "\n",
        "model.add(Conv2D(128, (3,3), padding='same', input_shape=X_train.shape[1:]))\n",
        "model.add(MaxPooling2D(pool_size=(2,2)))\n",
        "model.add(Conv2D(128, (3,3), padding='same', input_shape=X_train.shape[1:]))\n",
        "model.add(MaxPooling2D(pool_size=(2,2)))\n",
        "model.add(Conv2D(128, (3,3), padding='same', input_shape=X_train.shape[1:]))\n",
        "model.add(MaxPooling2D(pool_size=(2,2)))\n",
        "model.add(Activation('relu'))\n",
        "model.add(Activation('relu'))\n",
        "model.add(Flatten())\n",
        "model.add(Dense(1))\n",
        "model.add(Dense(1))\n",
        "\n",
        "# . . . \n",
        "\n",
        "model.summary()\n",
        "opt = Adam(lr=1e-3, decay=1e-3 / 200)\n",
        "model.compile(loss=\"mean_absolute_percentage_error\", optimizer=opt, metrics=['mean_absolute_percentage_error'])\n",
        "\n",
        "# train the model\n",
        "print(\"[INFO] training model...\")\n",
        "history = model.fit(X_train, Y_train, validation_data=(X_val, Y_val), epochs=100, batch_size=32)\n",
        "training_loss.append(history.history['loss'][1:])\n",
        "validation_loss.append(history.history['val_loss'][1:])"
      ],
      "metadata": {
        "colab": {
          "base_uri": "https://localhost:8080/"
        },
        "id": "qP7MkIaQ110c",
        "outputId": "88ecfe1f-6788-4e20-f41e-77f0bcf19303"
      },
      "execution_count": null,
      "outputs": [
        {
          "output_type": "stream",
          "name": "stdout",
          "text": [
            "Model: \"sequential_4\"\n",
            "_________________________________________________________________\n",
            " Layer (type)                Output Shape              Param #   \n",
            "=================================================================\n",
            " conv2d_10 (Conv2D)          (None, 64, 64, 128)       3584      \n",
            "                                                                 \n",
            " max_pooling2d_9 (MaxPooling  (None, 32, 32, 128)      0         \n",
            " 2D)                                                             \n",
            "                                                                 \n",
            " conv2d_11 (Conv2D)          (None, 32, 32, 128)       147584    \n",
            "                                                                 \n",
            " max_pooling2d_10 (MaxPoolin  (None, 16, 16, 128)      0         \n",
            " g2D)                                                            \n",
            "                                                                 \n",
            " conv2d_12 (Conv2D)          (None, 16, 16, 128)       147584    \n",
            "                                                                 \n",
            " max_pooling2d_11 (MaxPoolin  (None, 8, 8, 128)        0         \n",
            " g2D)                                                            \n",
            "                                                                 \n",
            " activation_5 (Activation)   (None, 8, 8, 128)         0         \n",
            "                                                                 \n",
            " activation_6 (Activation)   (None, 8, 8, 128)         0         \n",
            "                                                                 \n",
            " flatten_3 (Flatten)         (None, 8192)              0         \n",
            "                                                                 \n",
            " dense_3 (Dense)             (None, 1)                 8193      \n",
            "                                                                 \n",
            " dense_4 (Dense)             (None, 1)                 2         \n",
            "                                                                 \n",
            "=================================================================\n",
            "Total params: 306,947\n",
            "Trainable params: 306,947\n",
            "Non-trainable params: 0\n",
            "_________________________________________________________________\n",
            "[INFO] training model...\n",
            "Epoch 1/100\n",
            "14/14 [==============================] - 2s 73ms/step - loss: 560.3391 - mean_absolute_percentage_error: 560.3391 - val_loss: 69.2871 - val_mean_absolute_percentage_error: 69.2871\n",
            "Epoch 2/100\n",
            "14/14 [==============================] - 0s 22ms/step - loss: 81.4669 - mean_absolute_percentage_error: 81.4669 - val_loss: 69.9021 - val_mean_absolute_percentage_error: 69.9021\n",
            "Epoch 3/100\n",
            "14/14 [==============================] - 0s 29ms/step - loss: 65.9580 - mean_absolute_percentage_error: 65.9580 - val_loss: 58.8910 - val_mean_absolute_percentage_error: 58.8910\n",
            "Epoch 4/100\n",
            "14/14 [==============================] - 0s 17ms/step - loss: 68.1979 - mean_absolute_percentage_error: 68.1979 - val_loss: 57.9711 - val_mean_absolute_percentage_error: 57.9711\n",
            "Epoch 5/100\n",
            "14/14 [==============================] - 0s 20ms/step - loss: 62.0686 - mean_absolute_percentage_error: 62.0686 - val_loss: 60.7684 - val_mean_absolute_percentage_error: 60.7684\n",
            "Epoch 6/100\n",
            "14/14 [==============================] - 0s 22ms/step - loss: 63.9708 - mean_absolute_percentage_error: 63.9708 - val_loss: 68.5064 - val_mean_absolute_percentage_error: 68.5064\n",
            "Epoch 7/100\n",
            "14/14 [==============================] - 0s 24ms/step - loss: 61.1223 - mean_absolute_percentage_error: 61.1223 - val_loss: 61.8068 - val_mean_absolute_percentage_error: 61.8068\n",
            "Epoch 8/100\n",
            "14/14 [==============================] - 0s 22ms/step - loss: 59.2603 - mean_absolute_percentage_error: 59.2603 - val_loss: 59.5412 - val_mean_absolute_percentage_error: 59.5412\n",
            "Epoch 9/100\n",
            "14/14 [==============================] - 0s 21ms/step - loss: 53.9315 - mean_absolute_percentage_error: 53.9315 - val_loss: 54.5294 - val_mean_absolute_percentage_error: 54.5294\n",
            "Epoch 10/100\n",
            "14/14 [==============================] - 0s 21ms/step - loss: 51.9890 - mean_absolute_percentage_error: 51.9890 - val_loss: 59.8339 - val_mean_absolute_percentage_error: 59.8339\n",
            "Epoch 11/100\n",
            "14/14 [==============================] - 0s 14ms/step - loss: 53.7760 - mean_absolute_percentage_error: 53.7760 - val_loss: 56.2251 - val_mean_absolute_percentage_error: 56.2251\n",
            "Epoch 12/100\n",
            "14/14 [==============================] - 0s 19ms/step - loss: 55.4313 - mean_absolute_percentage_error: 55.4313 - val_loss: 53.7199 - val_mean_absolute_percentage_error: 53.7199\n",
            "Epoch 13/100\n",
            "14/14 [==============================] - 0s 20ms/step - loss: 59.2992 - mean_absolute_percentage_error: 59.2992 - val_loss: 59.6844 - val_mean_absolute_percentage_error: 59.6844\n",
            "Epoch 14/100\n",
            "14/14 [==============================] - 0s 17ms/step - loss: 57.3491 - mean_absolute_percentage_error: 57.3491 - val_loss: 53.8358 - val_mean_absolute_percentage_error: 53.8358\n",
            "Epoch 15/100\n",
            "14/14 [==============================] - 0s 19ms/step - loss: 51.9999 - mean_absolute_percentage_error: 51.9999 - val_loss: 56.9167 - val_mean_absolute_percentage_error: 56.9167\n",
            "Epoch 16/100\n",
            "14/14 [==============================] - 0s 18ms/step - loss: 47.9611 - mean_absolute_percentage_error: 47.9611 - val_loss: 57.3154 - val_mean_absolute_percentage_error: 57.3154\n",
            "Epoch 17/100\n",
            "14/14 [==============================] - 0s 16ms/step - loss: 45.7695 - mean_absolute_percentage_error: 45.7695 - val_loss: 58.1480 - val_mean_absolute_percentage_error: 58.1480\n",
            "Epoch 18/100\n",
            "14/14 [==============================] - 0s 18ms/step - loss: 52.5852 - mean_absolute_percentage_error: 52.5852 - val_loss: 58.9062 - val_mean_absolute_percentage_error: 58.9062\n",
            "Epoch 19/100\n",
            "14/14 [==============================] - 0s 13ms/step - loss: 52.1089 - mean_absolute_percentage_error: 52.1089 - val_loss: 62.9912 - val_mean_absolute_percentage_error: 62.9912\n",
            "Epoch 20/100\n",
            "14/14 [==============================] - 0s 13ms/step - loss: 51.5735 - mean_absolute_percentage_error: 51.5735 - val_loss: 56.2960 - val_mean_absolute_percentage_error: 56.2960\n",
            "Epoch 21/100\n",
            "14/14 [==============================] - 0s 13ms/step - loss: 45.2289 - mean_absolute_percentage_error: 45.2289 - val_loss: 53.1839 - val_mean_absolute_percentage_error: 53.1839\n",
            "Epoch 22/100\n",
            "14/14 [==============================] - 0s 13ms/step - loss: 43.2359 - mean_absolute_percentage_error: 43.2359 - val_loss: 54.7480 - val_mean_absolute_percentage_error: 54.7480\n",
            "Epoch 23/100\n",
            "14/14 [==============================] - 0s 14ms/step - loss: 45.4025 - mean_absolute_percentage_error: 45.4025 - val_loss: 57.9393 - val_mean_absolute_percentage_error: 57.9393\n",
            "Epoch 24/100\n",
            "14/14 [==============================] - 0s 14ms/step - loss: 42.0704 - mean_absolute_percentage_error: 42.0704 - val_loss: 54.8826 - val_mean_absolute_percentage_error: 54.8826\n",
            "Epoch 25/100\n",
            "14/14 [==============================] - 0s 13ms/step - loss: 44.0584 - mean_absolute_percentage_error: 44.0584 - val_loss: 57.5594 - val_mean_absolute_percentage_error: 57.5594\n",
            "Epoch 26/100\n",
            "14/14 [==============================] - 0s 14ms/step - loss: 39.2903 - mean_absolute_percentage_error: 39.2903 - val_loss: 54.8173 - val_mean_absolute_percentage_error: 54.8173\n",
            "Epoch 27/100\n",
            "14/14 [==============================] - 0s 14ms/step - loss: 41.3356 - mean_absolute_percentage_error: 41.3356 - val_loss: 55.3252 - val_mean_absolute_percentage_error: 55.3252\n",
            "Epoch 28/100\n",
            "14/14 [==============================] - 0s 13ms/step - loss: 37.6991 - mean_absolute_percentage_error: 37.6991 - val_loss: 57.7424 - val_mean_absolute_percentage_error: 57.7424\n",
            "Epoch 29/100\n",
            "14/14 [==============================] - 0s 13ms/step - loss: 40.1108 - mean_absolute_percentage_error: 40.1108 - val_loss: 55.9335 - val_mean_absolute_percentage_error: 55.9335\n",
            "Epoch 30/100\n",
            "14/14 [==============================] - 0s 13ms/step - loss: 38.0873 - mean_absolute_percentage_error: 38.0873 - val_loss: 56.4026 - val_mean_absolute_percentage_error: 56.4026\n",
            "Epoch 31/100\n",
            "14/14 [==============================] - 0s 14ms/step - loss: 37.5862 - mean_absolute_percentage_error: 37.5862 - val_loss: 56.9549 - val_mean_absolute_percentage_error: 56.9549\n",
            "Epoch 32/100\n",
            "14/14 [==============================] - 0s 14ms/step - loss: 38.2994 - mean_absolute_percentage_error: 38.2994 - val_loss: 52.9249 - val_mean_absolute_percentage_error: 52.9249\n",
            "Epoch 33/100\n",
            "14/14 [==============================] - 0s 14ms/step - loss: 37.7640 - mean_absolute_percentage_error: 37.7640 - val_loss: 55.0569 - val_mean_absolute_percentage_error: 55.0569\n",
            "Epoch 34/100\n",
            "14/14 [==============================] - 0s 14ms/step - loss: 37.9498 - mean_absolute_percentage_error: 37.9498 - val_loss: 56.9262 - val_mean_absolute_percentage_error: 56.9262\n",
            "Epoch 35/100\n",
            "14/14 [==============================] - 0s 14ms/step - loss: 40.2969 - mean_absolute_percentage_error: 40.2969 - val_loss: 56.5264 - val_mean_absolute_percentage_error: 56.5264\n",
            "Epoch 36/100\n",
            "14/14 [==============================] - 0s 13ms/step - loss: 40.0164 - mean_absolute_percentage_error: 40.0164 - val_loss: 55.7337 - val_mean_absolute_percentage_error: 55.7337\n",
            "Epoch 37/100\n",
            "14/14 [==============================] - 0s 14ms/step - loss: 34.6281 - mean_absolute_percentage_error: 34.6281 - val_loss: 52.7931 - val_mean_absolute_percentage_error: 52.7931\n",
            "Epoch 38/100\n",
            "14/14 [==============================] - 0s 13ms/step - loss: 35.6260 - mean_absolute_percentage_error: 35.6260 - val_loss: 60.8738 - val_mean_absolute_percentage_error: 60.8738\n",
            "Epoch 39/100\n",
            "14/14 [==============================] - 0s 13ms/step - loss: 35.9548 - mean_absolute_percentage_error: 35.9548 - val_loss: 68.2350 - val_mean_absolute_percentage_error: 68.2350\n",
            "Epoch 40/100\n",
            "14/14 [==============================] - 0s 13ms/step - loss: 32.8104 - mean_absolute_percentage_error: 32.8104 - val_loss: 52.4834 - val_mean_absolute_percentage_error: 52.4834\n",
            "Epoch 41/100\n",
            "14/14 [==============================] - 0s 14ms/step - loss: 41.6360 - mean_absolute_percentage_error: 41.6360 - val_loss: 73.0451 - val_mean_absolute_percentage_error: 73.0451\n",
            "Epoch 42/100\n",
            "14/14 [==============================] - 0s 13ms/step - loss: 40.8595 - mean_absolute_percentage_error: 40.8595 - val_loss: 57.6530 - val_mean_absolute_percentage_error: 57.6530\n",
            "Epoch 43/100\n",
            "14/14 [==============================] - 0s 13ms/step - loss: 39.7235 - mean_absolute_percentage_error: 39.7235 - val_loss: 56.2878 - val_mean_absolute_percentage_error: 56.2878\n",
            "Epoch 44/100\n",
            "14/14 [==============================] - 0s 14ms/step - loss: 41.8842 - mean_absolute_percentage_error: 41.8842 - val_loss: 57.0181 - val_mean_absolute_percentage_error: 57.0181\n",
            "Epoch 45/100\n",
            "14/14 [==============================] - 0s 14ms/step - loss: 36.6605 - mean_absolute_percentage_error: 36.6605 - val_loss: 56.7604 - val_mean_absolute_percentage_error: 56.7604\n",
            "Epoch 46/100\n",
            "14/14 [==============================] - 0s 13ms/step - loss: 37.7220 - mean_absolute_percentage_error: 37.7220 - val_loss: 59.1295 - val_mean_absolute_percentage_error: 59.1295\n",
            "Epoch 47/100\n",
            "14/14 [==============================] - 0s 13ms/step - loss: 31.2083 - mean_absolute_percentage_error: 31.2083 - val_loss: 53.7088 - val_mean_absolute_percentage_error: 53.7088\n",
            "Epoch 48/100\n",
            "14/14 [==============================] - 0s 14ms/step - loss: 34.7722 - mean_absolute_percentage_error: 34.7722 - val_loss: 68.4290 - val_mean_absolute_percentage_error: 68.4290\n",
            "Epoch 49/100\n",
            "14/14 [==============================] - 0s 13ms/step - loss: 38.0932 - mean_absolute_percentage_error: 38.0932 - val_loss: 59.3750 - val_mean_absolute_percentage_error: 59.3750\n",
            "Epoch 50/100\n",
            "14/14 [==============================] - 0s 16ms/step - loss: 37.2926 - mean_absolute_percentage_error: 37.2926 - val_loss: 55.6406 - val_mean_absolute_percentage_error: 55.6406\n",
            "Epoch 51/100\n",
            "14/14 [==============================] - 0s 13ms/step - loss: 36.4827 - mean_absolute_percentage_error: 36.4827 - val_loss: 62.0839 - val_mean_absolute_percentage_error: 62.0839\n",
            "Epoch 52/100\n",
            "14/14 [==============================] - 0s 14ms/step - loss: 30.8885 - mean_absolute_percentage_error: 30.8885 - val_loss: 59.2366 - val_mean_absolute_percentage_error: 59.2366\n",
            "Epoch 53/100\n",
            "14/14 [==============================] - 0s 13ms/step - loss: 28.7149 - mean_absolute_percentage_error: 28.7149 - val_loss: 59.6964 - val_mean_absolute_percentage_error: 59.6964\n",
            "Epoch 54/100\n",
            "14/14 [==============================] - 0s 13ms/step - loss: 34.8675 - mean_absolute_percentage_error: 34.8675 - val_loss: 55.8991 - val_mean_absolute_percentage_error: 55.8991\n",
            "Epoch 55/100\n",
            "14/14 [==============================] - 0s 13ms/step - loss: 32.6376 - mean_absolute_percentage_error: 32.6376 - val_loss: 56.6790 - val_mean_absolute_percentage_error: 56.6790\n",
            "Epoch 56/100\n",
            "14/14 [==============================] - 0s 14ms/step - loss: 33.0844 - mean_absolute_percentage_error: 33.0844 - val_loss: 55.5095 - val_mean_absolute_percentage_error: 55.5095\n",
            "Epoch 57/100\n",
            "14/14 [==============================] - 0s 13ms/step - loss: 30.3431 - mean_absolute_percentage_error: 30.3431 - val_loss: 59.6892 - val_mean_absolute_percentage_error: 59.6892\n",
            "Epoch 58/100\n",
            "14/14 [==============================] - 0s 14ms/step - loss: 29.5302 - mean_absolute_percentage_error: 29.5302 - val_loss: 60.9148 - val_mean_absolute_percentage_error: 60.9148\n",
            "Epoch 59/100\n",
            "14/14 [==============================] - 0s 13ms/step - loss: 30.9836 - mean_absolute_percentage_error: 30.9836 - val_loss: 67.0143 - val_mean_absolute_percentage_error: 67.0143\n",
            "Epoch 60/100\n",
            "14/14 [==============================] - 0s 13ms/step - loss: 31.8001 - mean_absolute_percentage_error: 31.8001 - val_loss: 56.1813 - val_mean_absolute_percentage_error: 56.1813\n",
            "Epoch 61/100\n",
            "14/14 [==============================] - 0s 14ms/step - loss: 29.3875 - mean_absolute_percentage_error: 29.3875 - val_loss: 67.7293 - val_mean_absolute_percentage_error: 67.7293\n",
            "Epoch 62/100\n",
            "14/14 [==============================] - 0s 14ms/step - loss: 30.6803 - mean_absolute_percentage_error: 30.6803 - val_loss: 62.8058 - val_mean_absolute_percentage_error: 62.8058\n",
            "Epoch 63/100\n",
            "14/14 [==============================] - 0s 14ms/step - loss: 30.5333 - mean_absolute_percentage_error: 30.5333 - val_loss: 56.0021 - val_mean_absolute_percentage_error: 56.0021\n",
            "Epoch 64/100\n",
            "14/14 [==============================] - 0s 14ms/step - loss: 28.7457 - mean_absolute_percentage_error: 28.7457 - val_loss: 63.6209 - val_mean_absolute_percentage_error: 63.6209\n",
            "Epoch 65/100\n",
            "14/14 [==============================] - 0s 14ms/step - loss: 29.0006 - mean_absolute_percentage_error: 29.0006 - val_loss: 70.9915 - val_mean_absolute_percentage_error: 70.9915\n",
            "Epoch 66/100\n",
            "14/14 [==============================] - 0s 14ms/step - loss: 29.4492 - mean_absolute_percentage_error: 29.4492 - val_loss: 68.2625 - val_mean_absolute_percentage_error: 68.2625\n",
            "Epoch 67/100\n",
            "14/14 [==============================] - 0s 14ms/step - loss: 33.5786 - mean_absolute_percentage_error: 33.5786 - val_loss: 50.4064 - val_mean_absolute_percentage_error: 50.4064\n",
            "Epoch 68/100\n",
            "14/14 [==============================] - 0s 15ms/step - loss: 30.6908 - mean_absolute_percentage_error: 30.6908 - val_loss: 64.1363 - val_mean_absolute_percentage_error: 64.1363\n",
            "Epoch 69/100\n",
            "14/14 [==============================] - 0s 14ms/step - loss: 31.0767 - mean_absolute_percentage_error: 31.0767 - val_loss: 55.6065 - val_mean_absolute_percentage_error: 55.6065\n",
            "Epoch 70/100\n",
            "14/14 [==============================] - 0s 14ms/step - loss: 37.3760 - mean_absolute_percentage_error: 37.3760 - val_loss: 60.0254 - val_mean_absolute_percentage_error: 60.0254\n",
            "Epoch 71/100\n",
            "14/14 [==============================] - 0s 15ms/step - loss: 33.5143 - mean_absolute_percentage_error: 33.5143 - val_loss: 55.9094 - val_mean_absolute_percentage_error: 55.9094\n",
            "Epoch 72/100\n",
            "14/14 [==============================] - 0s 14ms/step - loss: 31.2432 - mean_absolute_percentage_error: 31.2432 - val_loss: 65.3742 - val_mean_absolute_percentage_error: 65.3742\n",
            "Epoch 73/100\n",
            "14/14 [==============================] - 0s 14ms/step - loss: 30.3757 - mean_absolute_percentage_error: 30.3757 - val_loss: 59.1452 - val_mean_absolute_percentage_error: 59.1452\n",
            "Epoch 74/100\n",
            "14/14 [==============================] - 0s 14ms/step - loss: 29.6965 - mean_absolute_percentage_error: 29.6965 - val_loss: 56.5944 - val_mean_absolute_percentage_error: 56.5944\n",
            "Epoch 75/100\n",
            "14/14 [==============================] - 0s 14ms/step - loss: 28.4828 - mean_absolute_percentage_error: 28.4828 - val_loss: 63.8362 - val_mean_absolute_percentage_error: 63.8362\n",
            "Epoch 76/100\n",
            "14/14 [==============================] - 0s 14ms/step - loss: 27.7495 - mean_absolute_percentage_error: 27.7495 - val_loss: 58.8207 - val_mean_absolute_percentage_error: 58.8207\n",
            "Epoch 77/100\n",
            "14/14 [==============================] - 0s 14ms/step - loss: 30.5069 - mean_absolute_percentage_error: 30.5069 - val_loss: 60.4726 - val_mean_absolute_percentage_error: 60.4726\n",
            "Epoch 78/100\n",
            "14/14 [==============================] - 0s 13ms/step - loss: 27.2423 - mean_absolute_percentage_error: 27.2423 - val_loss: 54.1366 - val_mean_absolute_percentage_error: 54.1366\n",
            "Epoch 79/100\n",
            "14/14 [==============================] - 0s 14ms/step - loss: 29.0995 - mean_absolute_percentage_error: 29.0995 - val_loss: 63.6565 - val_mean_absolute_percentage_error: 63.6565\n",
            "Epoch 80/100\n",
            "14/14 [==============================] - 0s 13ms/step - loss: 27.9306 - mean_absolute_percentage_error: 27.9306 - val_loss: 57.2817 - val_mean_absolute_percentage_error: 57.2817\n",
            "Epoch 81/100\n",
            "14/14 [==============================] - 0s 14ms/step - loss: 27.5227 - mean_absolute_percentage_error: 27.5227 - val_loss: 60.1550 - val_mean_absolute_percentage_error: 60.1550\n",
            "Epoch 82/100\n",
            "14/14 [==============================] - 0s 13ms/step - loss: 28.3294 - mean_absolute_percentage_error: 28.3294 - val_loss: 57.4397 - val_mean_absolute_percentage_error: 57.4397\n",
            "Epoch 83/100\n",
            "14/14 [==============================] - 0s 14ms/step - loss: 28.0841 - mean_absolute_percentage_error: 28.0841 - val_loss: 59.3239 - val_mean_absolute_percentage_error: 59.3239\n",
            "Epoch 84/100\n",
            "14/14 [==============================] - 0s 14ms/step - loss: 25.6281 - mean_absolute_percentage_error: 25.6281 - val_loss: 58.0715 - val_mean_absolute_percentage_error: 58.0715\n",
            "Epoch 85/100\n",
            "14/14 [==============================] - 0s 14ms/step - loss: 27.7074 - mean_absolute_percentage_error: 27.7074 - val_loss: 57.1918 - val_mean_absolute_percentage_error: 57.1918\n",
            "Epoch 86/100\n",
            "14/14 [==============================] - 0s 17ms/step - loss: 28.2233 - mean_absolute_percentage_error: 28.2233 - val_loss: 66.0816 - val_mean_absolute_percentage_error: 66.0816\n",
            "Epoch 87/100\n",
            "14/14 [==============================] - 0s 13ms/step - loss: 26.8814 - mean_absolute_percentage_error: 26.8814 - val_loss: 55.8193 - val_mean_absolute_percentage_error: 55.8193\n",
            "Epoch 88/100\n",
            "14/14 [==============================] - 0s 13ms/step - loss: 26.1202 - mean_absolute_percentage_error: 26.1202 - val_loss: 67.9607 - val_mean_absolute_percentage_error: 67.9607\n",
            "Epoch 89/100\n",
            "14/14 [==============================] - 0s 13ms/step - loss: 27.4906 - mean_absolute_percentage_error: 27.4906 - val_loss: 59.2378 - val_mean_absolute_percentage_error: 59.2378\n",
            "Epoch 90/100\n",
            "14/14 [==============================] - 0s 13ms/step - loss: 25.4223 - mean_absolute_percentage_error: 25.4223 - val_loss: 65.5432 - val_mean_absolute_percentage_error: 65.5432\n",
            "Epoch 91/100\n",
            "14/14 [==============================] - 0s 13ms/step - loss: 29.5063 - mean_absolute_percentage_error: 29.5063 - val_loss: 62.1009 - val_mean_absolute_percentage_error: 62.1009\n",
            "Epoch 92/100\n",
            "14/14 [==============================] - 0s 13ms/step - loss: 26.6123 - mean_absolute_percentage_error: 26.6123 - val_loss: 66.2536 - val_mean_absolute_percentage_error: 66.2536\n",
            "Epoch 93/100\n",
            "14/14 [==============================] - 0s 13ms/step - loss: 32.2418 - mean_absolute_percentage_error: 32.2418 - val_loss: 60.1512 - val_mean_absolute_percentage_error: 60.1512\n",
            "Epoch 94/100\n",
            "14/14 [==============================] - 0s 13ms/step - loss: 27.2598 - mean_absolute_percentage_error: 27.2598 - val_loss: 58.2800 - val_mean_absolute_percentage_error: 58.2800\n",
            "Epoch 95/100\n",
            "14/14 [==============================] - 0s 13ms/step - loss: 27.3055 - mean_absolute_percentage_error: 27.3055 - val_loss: 64.0718 - val_mean_absolute_percentage_error: 64.0718\n",
            "Epoch 96/100\n",
            "14/14 [==============================] - 0s 13ms/step - loss: 29.3703 - mean_absolute_percentage_error: 29.3703 - val_loss: 57.8255 - val_mean_absolute_percentage_error: 57.8255\n",
            "Epoch 97/100\n",
            "14/14 [==============================] - 0s 14ms/step - loss: 27.3820 - mean_absolute_percentage_error: 27.3820 - val_loss: 62.4532 - val_mean_absolute_percentage_error: 62.4532\n",
            "Epoch 98/100\n",
            "14/14 [==============================] - 0s 14ms/step - loss: 29.0821 - mean_absolute_percentage_error: 29.0821 - val_loss: 58.6975 - val_mean_absolute_percentage_error: 58.6975\n",
            "Epoch 99/100\n",
            "14/14 [==============================] - 0s 15ms/step - loss: 28.3475 - mean_absolute_percentage_error: 28.3475 - val_loss: 58.6182 - val_mean_absolute_percentage_error: 58.6182\n",
            "Epoch 100/100\n",
            "14/14 [==============================] - 0s 14ms/step - loss: 31.2122 - mean_absolute_percentage_error: 31.2122 - val_loss: 59.8501 - val_mean_absolute_percentage_error: 59.8501\n"
          ]
        }
      ]
    },
    {
      "cell_type": "markdown",
      "metadata": {
        "id": "JyXrXBFVQ-tL"
      },
      "source": [
        "The metric used in this problem to evaluate the performance is the same we used for training the model, the mean absolute percentage error. Mean absolute percentage error is defined as $\\frac{100}{n} \\sum_n \\frac{|\\hat{y} - y|}{|y|}$ where $y$ is the ground-truth, $\\hat{y}$ is the estimation of the model and `n` the number of elements in the set we are evaluating."
      ]
    },
    {
      "cell_type": "code",
      "execution_count": null,
      "metadata": {
        "colab": {
          "base_uri": "https://localhost:8080/"
        },
        "id": "u2u2qQh90C3K",
        "outputId": "cb21eaf3-80b5-44e4-b83e-2a8c4e1f1f83"
      },
      "outputs": [
        {
          "output_type": "stream",
          "name": "stdout",
          "text": [
            "4/4 [==============================] - 0s 5ms/step\n",
            "Predicting house prices - Estimation Error: 52.03%\n"
          ]
        }
      ],
      "source": [
        "prices_predicted = model.predict(X_val).flatten()\n",
        "diff = ((prices_predicted - Y_val) / Y_val) * 100\n",
        "error_mean = np.mean(np.abs(diff))\n",
        "\n",
        "print(\"Predicting house prices - Estimation Error: {:.2f}%\".format(error_mean))"
      ]
    },
    {
      "cell_type": "code",
      "source": [
        "import matplotlib.pyplot as plt\n",
        "\n",
        "# # summarize history for accuracy\n",
        "# plt.plot(history.history['accuracy'])\n",
        "# plt.plot(history.history['val_accuracy'])\n",
        "# plt.title('model accuracy')\n",
        "# plt.ylabel('accuracy')\n",
        "# plt.xlabel('epoch')\n",
        "# plt.legend(['Train', 'Validation'], loc='upper left')\n",
        "# plt.show()\n",
        "\n",
        "# summarize history for loss\n",
        "#plt.plot(training_loss[0])\n",
        "#plt.plot(validation_loss[0])\n",
        "\n",
        "plt.plot(training_loss[1])\n",
        "plt.plot(validation_loss[1])\n",
        "\n",
        "#plt.plot(training_loss[2])\n",
        "#plt.plot(validation_loss[2])\n",
        "\n",
        "#plt.plot(training_loss[3])\n",
        "#plt.plot(validation_loss[3])\n",
        "\n",
        "plt.title('model loss')\n",
        "plt.ylabel('loss')\n",
        "plt.xlabel('epoch')\n",
        "#plt.legend(['Conv1 loss_tr', 'Conv1 loss_val', 'Conv2 loss_tr', 'Conv2 loss_val', 'Conv3 loss_tr', 'Conv3 loss_val', 'Conv4 loss_tr', 'Conv4 loss_tr', 'Conv5 loss_tr', 'Conv5 loss_val'], loc='upper left')\n",
        "plt.legend(['Conv2 loss_tr', 'Conv2 loss_var'], loc='upper left')\n",
        "plt.show()"
      ],
      "metadata": {
        "colab": {
          "base_uri": "https://localhost:8080/",
          "height": 295
        },
        "id": "xbNROtP0isWl",
        "outputId": "0c7053cb-4165-4a0a-ca52-d156b2649625"
      },
      "execution_count": null,
      "outputs": [
        {
          "output_type": "display_data",
          "data": {
            "text/plain": [
              "<Figure size 432x288 with 1 Axes>"
            ],
            "image/png": "[encoded data removed]"
          },
          "metadata": {
            "needs_background": "light"
          }
        }
      ]
    },
    {
      "cell_type": "code",
      "source": [
        "plt.plot(training_loss[0])\n",
        "plt.plot(validation_loss[0])"
      ],
      "metadata": {
        "colab": {
          "base_uri": "https://localhost:8080/",
          "height": 282
        },
        "id": "Y3doQ65nqsJY",
        "outputId": "abad92d4-8f73-488e-82cf-4024b4e1ff00"
      },
      "execution_count": null,
      "outputs": [
        {
          "output_type": "execute_result",
          "data": {
            "text/plain": [
              "[<matplotlib.lines.Line2D at 0x7fa9d9375190>]"
            ]
          },
          "metadata": {},
          "execution_count": 10
        },
        {
          "output_type": "display_data",
          "data": {
            "text/plain": [
              "<Figure size 432x288 with 1 Axes>"
            ],
            "image/png": "[encoded data removed]"
          },
          "metadata": {
            "needs_background": "light"
          }
        }
      ]
    },
    {
      "cell_type": "code",
      "source": [
        "plt.plot(training_loss[1])\n",
        "plt.plot(validation_loss[1])"
      ],
      "metadata": {
        "colab": {
          "base_uri": "https://localhost:8080/",
          "height": 282
        },
        "id": "loTA7snkquJ3",
        "outputId": "97675359-b876-4a57-c094-d8044f18f86c"
      },
      "execution_count": null,
      "outputs": [
        {
          "output_type": "execute_result",
          "data": {
            "text/plain": [
              "[<matplotlib.lines.Line2D at 0x7fa9d9345b80>]"
            ]
          },
          "metadata": {},
          "execution_count": 11
        },
        {
          "output_type": "display_data",
          "data": {
            "text/plain": [
              "<Figure size 432x288 with 1 Axes>"
            ],
            "image/png": "[encoded data removed]"
          },
          "metadata": {
            "needs_background": "light"
          }
        }
      ]
    },
    {
      "cell_type": "code",
      "source": [
        "plt.plot(training_loss[2])\n",
        "plt.plot(validation_loss[2])"
      ],
      "metadata": {
        "colab": {
          "base_uri": "https://localhost:8080/",
          "height": 282
        },
        "id": "78GjUDFfqur9",
        "outputId": "569ac544-f1c0-4a6c-bfe6-5a09b2bcfb0b"
      },
      "execution_count": null,
      "outputs": [
        {
          "output_type": "execute_result",
          "data": {
            "text/plain": [
              "[<matplotlib.lines.Line2D at 0x7fa9d92ad0a0>]"
            ]
          },
          "metadata": {},
          "execution_count": 12
        },
        {
          "output_type": "display_data",
          "data": {
            "text/plain": [
              "<Figure size 432x288 with 1 Axes>"
            ],
            "image/png": "[encoded data removed]"
          },
          "metadata": {
            "needs_background": "light"
          }
        }
      ]
    },
    {
      "cell_type": "code",
      "source": [
        "plt.plot(training_loss[3])\n",
        "plt.plot(validation_loss[3])"
      ],
      "metadata": {
        "colab": {
          "base_uri": "https://localhost:8080/",
          "height": 282
        },
        "id": "uN2LQEJ6qvLu",
        "outputId": "cfcf87c3-9eaa-49fb-b4bc-428976866054"
      },
      "execution_count": null,
      "outputs": [
        {
          "output_type": "execute_result",
          "data": {
            "text/plain": [
              "[<matplotlib.lines.Line2D at 0x7fa9d927c190>]"
            ]
          },
          "metadata": {},
          "execution_count": 13
        },
        {
          "output_type": "display_data",
          "data": {
            "text/plain": [
              "<Figure size 432x288 with 1 Axes>"
            ],
            "image/png": "[encoded data removed]"
          },
          "metadata": {
            "needs_background": "light"
          }
        }
      ]
    },
    {
      "cell_type": "markdown",
      "metadata": {
        "id": "n2uJs6-xG6lD"
      },
      "source": [
        "**Report**:\n",
        "\n",
        "\n",
        "*   Propose a CNN architecture that has an estimation error in the validation set below 75%. \n",
        "*   Present a figure showing the training and validation loss vs the number of training epochs for different architectural design choices. Discuss the gap between the training and validation loss depending on the proposed architecture.\n",
        "*   Report a table with results when using any of the other images from the house (kitchen, bedroom, and bathroom)."
      ]
    }
  ],
  "metadata": {
    "accelerator": "GPU",
    "colab": {
      "provenance": [],
      "include_colab_link": true
    },
    "kernelspec": {
      "display_name": "Python 3",
      "name": "python3"
    }
  },
  "nbformat": 4,
  "nbformat_minor": 0
}